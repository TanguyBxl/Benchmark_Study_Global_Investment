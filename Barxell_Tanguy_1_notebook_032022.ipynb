{
 "cells": [
  {
   "cell_type": "code",
   "execution_count": 1,
   "metadata": {},
   "outputs": [],
   "source": [
    "import pandas as pd\n",
    "import numpy as np\n",
    "import csv\n",
    "import matplotlib.pyplot as plt"
   ]
  },
  {
   "cell_type": "code",
   "execution_count": 2,
   "metadata": {},
   "outputs": [],
   "source": [
    "df_dispo_alim2017 = pd.read_csv(r\"/home/tanguy/Bureau/DisponibiliteAlimentaire_2017.csv\")\n",
    "df_pop_2000_2018 = pd.read_csv(r\"/home/tanguy/Bureau/Population_2000_2018.csv\")"
   ]
  },
  {
   "cell_type": "markdown",
   "metadata": {},
   "source": [
    "## Première étape: Préparation de la table de travail (df_final)"
   ]
  },
  {
   "cell_type": "markdown",
   "metadata": {},
   "source": [
    "#### 1) Préparation de la première table source: la disponibilité alimentaire 2017"
   ]
  },
  {
   "cell_type": "code",
   "execution_count": 3,
   "metadata": {},
   "outputs": [
    {
     "name": "stdout",
     "output_type": "stream",
     "text": [
      "<class 'pandas.core.frame.DataFrame'>\n",
      "RangeIndex: 176600 entries, 0 to 176599\n",
      "Data columns (total 14 columns):\n",
      " #   Column                  Non-Null Count   Dtype  \n",
      "---  ------                  --------------   -----  \n",
      " 0   Code Domaine            176600 non-null  object \n",
      " 1   Domaine                 176600 non-null  object \n",
      " 2   Code zone               176600 non-null  int64  \n",
      " 3   Zone                    176600 non-null  object \n",
      " 4   Code Élément            176600 non-null  int64  \n",
      " 5   Élément                 176600 non-null  object \n",
      " 6   Code Produit            176600 non-null  int64  \n",
      " 7   Produit                 176600 non-null  object \n",
      " 8   Code année              176600 non-null  int64  \n",
      " 9   Année                   176600 non-null  int64  \n",
      " 10  Unité                   176600 non-null  object \n",
      " 11  Valeur                  176600 non-null  float64\n",
      " 12  Symbole                 176600 non-null  object \n",
      " 13  Description du Symbole  176600 non-null  object \n",
      "dtypes: float64(1), int64(5), object(8)\n",
      "memory usage: 18.9+ MB\n"
     ]
    }
   ],
   "source": [
    "df_dispo_alim2017.info()"
   ]
  },
  {
   "cell_type": "code",
   "execution_count": 4,
   "metadata": {},
   "outputs": [
    {
     "data": {
      "text/html": [
       "<div>\n",
       "<style scoped>\n",
       "    .dataframe tbody tr th:only-of-type {\n",
       "        vertical-align: middle;\n",
       "    }\n",
       "\n",
       "    .dataframe tbody tr th {\n",
       "        vertical-align: top;\n",
       "    }\n",
       "\n",
       "    .dataframe thead th {\n",
       "        text-align: right;\n",
       "    }\n",
       "</style>\n",
       "<table border=\"1\" class=\"dataframe\">\n",
       "  <thead>\n",
       "    <tr style=\"text-align: right;\">\n",
       "      <th></th>\n",
       "      <th>Code Domaine</th>\n",
       "      <th>Domaine</th>\n",
       "      <th>Code zone</th>\n",
       "      <th>Zone</th>\n",
       "      <th>Code Élément</th>\n",
       "      <th>Élément</th>\n",
       "      <th>Code Produit</th>\n",
       "      <th>Produit</th>\n",
       "      <th>Code année</th>\n",
       "      <th>Année</th>\n",
       "      <th>Unité</th>\n",
       "      <th>Valeur</th>\n",
       "      <th>Symbole</th>\n",
       "      <th>Description du Symbole</th>\n",
       "    </tr>\n",
       "  </thead>\n",
       "  <tbody>\n",
       "    <tr>\n",
       "      <th>0</th>\n",
       "      <td>FBS</td>\n",
       "      <td>Nouveaux Bilans Alimentaire</td>\n",
       "      <td>2</td>\n",
       "      <td>Afghanistan</td>\n",
       "      <td>5511</td>\n",
       "      <td>Production</td>\n",
       "      <td>2511</td>\n",
       "      <td>Blé et produits</td>\n",
       "      <td>2017</td>\n",
       "      <td>2017</td>\n",
       "      <td>Milliers de tonnes</td>\n",
       "      <td>4281.0</td>\n",
       "      <td>S</td>\n",
       "      <td>Données standardisées</td>\n",
       "    </tr>\n",
       "    <tr>\n",
       "      <th>1</th>\n",
       "      <td>FBS</td>\n",
       "      <td>Nouveaux Bilans Alimentaire</td>\n",
       "      <td>2</td>\n",
       "      <td>Afghanistan</td>\n",
       "      <td>5611</td>\n",
       "      <td>Importations - Quantité</td>\n",
       "      <td>2511</td>\n",
       "      <td>Blé et produits</td>\n",
       "      <td>2017</td>\n",
       "      <td>2017</td>\n",
       "      <td>Milliers de tonnes</td>\n",
       "      <td>2302.0</td>\n",
       "      <td>S</td>\n",
       "      <td>Données standardisées</td>\n",
       "    </tr>\n",
       "    <tr>\n",
       "      <th>2</th>\n",
       "      <td>FBS</td>\n",
       "      <td>Nouveaux Bilans Alimentaire</td>\n",
       "      <td>2</td>\n",
       "      <td>Afghanistan</td>\n",
       "      <td>5072</td>\n",
       "      <td>Variation de stock</td>\n",
       "      <td>2511</td>\n",
       "      <td>Blé et produits</td>\n",
       "      <td>2017</td>\n",
       "      <td>2017</td>\n",
       "      <td>Milliers de tonnes</td>\n",
       "      <td>-119.0</td>\n",
       "      <td>S</td>\n",
       "      <td>Données standardisées</td>\n",
       "    </tr>\n",
       "  </tbody>\n",
       "</table>\n",
       "</div>"
      ],
      "text/plain": [
       "  Code Domaine                      Domaine  Code zone         Zone  \\\n",
       "0          FBS  Nouveaux Bilans Alimentaire          2  Afghanistan   \n",
       "1          FBS  Nouveaux Bilans Alimentaire          2  Afghanistan   \n",
       "2          FBS  Nouveaux Bilans Alimentaire          2  Afghanistan   \n",
       "\n",
       "   Code Élément                  Élément  Code Produit          Produit  \\\n",
       "0          5511               Production          2511  Blé et produits   \n",
       "1          5611  Importations - Quantité          2511  Blé et produits   \n",
       "2          5072       Variation de stock          2511  Blé et produits   \n",
       "\n",
       "   Code année  Année               Unité  Valeur Symbole  \\\n",
       "0        2017   2017  Milliers de tonnes  4281.0       S   \n",
       "1        2017   2017  Milliers de tonnes  2302.0       S   \n",
       "2        2017   2017  Milliers de tonnes  -119.0       S   \n",
       "\n",
       "  Description du Symbole  \n",
       "0  Données standardisées  \n",
       "1  Données standardisées  \n",
       "2  Données standardisées  "
      ]
     },
     "execution_count": 4,
     "metadata": {},
     "output_type": "execute_result"
    }
   ],
   "source": [
    "df_dispo_alim2017.head(3)"
   ]
  },
  {
   "cell_type": "code",
   "execution_count": 5,
   "metadata": {},
   "outputs": [
    {
     "data": {
      "text/plain": [
       "array(['Blé et produits', 'Riz et produits', 'Orge et produits',\n",
       "       'Maïs et produits', 'Seigle et produits', 'Avoine',\n",
       "       'Millet et produits', 'Sorgho et produits', 'Céréales, Autres',\n",
       "       'Pommes de Terre et produits', 'Ignames', 'Racines nda',\n",
       "       'Sucre, canne', 'Sucre, betterave', 'Sucre Eq Brut',\n",
       "       'Edulcorants Autres', 'Miel', 'Haricots', 'Pois',\n",
       "       'Légumineuses Autres et produits', 'Noix et produits', 'Soja',\n",
       "       'Arachides Decortiquees', 'Graines de tournesol',\n",
       "       'Graines Colza/Moutarde', 'Graines de coton', 'Coco (Incl Coprah)',\n",
       "       'Sésame', 'Olives', 'Plantes Oleiferes, Autre', 'Huile de Soja',\n",
       "       \"Huile d'Arachide\", 'Huile de Tournesol',\n",
       "       'Huile de Colza&Moutarde', 'Huile Graines de Coton',\n",
       "       'Huile de Palmistes', 'Huile de Palme', 'Huile de Coco',\n",
       "       'Huile de Sésame', \"Huile d'Olive\", 'Huile de Son de Riz',\n",
       "       'Huile de Germe de Maïs', 'Huil Plantes Oleif Autr',\n",
       "       'Tomates et produits', 'Oignons', 'Légumes, Autres',\n",
       "       'Oranges, Mandarines', 'Citrons & Limes et produits',\n",
       "       'Pamplemousse et produits', 'Agrumes, Autres', 'Bananes',\n",
       "       'Pommes et produits', 'Ananas et produits', 'Dattes', 'Raisin',\n",
       "       'Fruits, Autres', 'Café et produits', 'Feve de Cacao et produits',\n",
       "       'Thé', 'Poivre', 'Piments', 'Girofles', 'Épices, Autres', 'Vin',\n",
       "       'Bière', 'Boissons Fermentés', 'Boissons Alcooliques',\n",
       "       'Alcool, non Comestible', 'Viande de Bovins',\n",
       "       \"Viande d'Ovins/Caprins\", 'Viande de Suides',\n",
       "       'Viande de Volailles', 'Viande, Autre', 'Abats Comestible',\n",
       "       'Beurre, Ghee', 'Crème', 'Graisses Animales Crue', 'Oeufs',\n",
       "       'Lait - Excl Beurre', 'Poissons Eau Douce',\n",
       "       'Aliments pour enfants', 'Miscellanees', 'Manioc et produits',\n",
       "       'Patates douces', 'Palmistes', 'Bananes plantains',\n",
       "       'Huiles de Poissons', 'Huiles de Foie de Poisso', 'Perciform',\n",
       "       'Poissons Pelagiques', 'Poissons Marins, Autres', 'Crustacés',\n",
       "       'Cephalopodes', 'Mollusques, Autres', 'Animaux Aquatiques Autre',\n",
       "       'Plantes Aquatiques', 'Sucre non centrifugé',\n",
       "       'Viande de Anim Aquatiq'], dtype=object)"
      ]
     },
     "execution_count": 5,
     "metadata": {},
     "output_type": "execute_result"
    }
   ],
   "source": [
    "df_dispo_alim2017['Produit'].unique()"
   ]
  },
  {
   "cell_type": "code",
   "execution_count": 6,
   "metadata": {},
   "outputs": [],
   "source": [
    "df_dispo_alim2017 = df_dispo_alim2017[df_dispo_alim2017['Produit'].eq('Viande de Volailles')]"
   ]
  },
  {
   "cell_type": "code",
   "execution_count": 7,
   "metadata": {},
   "outputs": [
    {
     "name": "stdout",
     "output_type": "stream",
     "text": [
      "<class 'pandas.core.frame.DataFrame'>\n",
      "Int64Index: 2061 entries, 651 to 176400\n",
      "Data columns (total 14 columns):\n",
      " #   Column                  Non-Null Count  Dtype  \n",
      "---  ------                  --------------  -----  \n",
      " 0   Code Domaine            2061 non-null   object \n",
      " 1   Domaine                 2061 non-null   object \n",
      " 2   Code zone               2061 non-null   int64  \n",
      " 3   Zone                    2061 non-null   object \n",
      " 4   Code Élément            2061 non-null   int64  \n",
      " 5   Élément                 2061 non-null   object \n",
      " 6   Code Produit            2061 non-null   int64  \n",
      " 7   Produit                 2061 non-null   object \n",
      " 8   Code année              2061 non-null   int64  \n",
      " 9   Année                   2061 non-null   int64  \n",
      " 10  Unité                   2061 non-null   object \n",
      " 11  Valeur                  2061 non-null   float64\n",
      " 12  Symbole                 2061 non-null   object \n",
      " 13  Description du Symbole  2061 non-null   object \n",
      "dtypes: float64(1), int64(5), object(8)\n",
      "memory usage: 241.5+ KB\n"
     ]
    }
   ],
   "source": [
    "df_dispo_alim2017.info()"
   ]
  },
  {
   "cell_type": "code",
   "execution_count": 8,
   "metadata": {},
   "outputs": [],
   "source": [
    "df_dispo_alim2017 = df_dispo_alim2017.loc[:,['Code zone','Zone','Code Élément','Élément','Année','Unité','Valeur','Description du Symbole']]"
   ]
  },
  {
   "cell_type": "code",
   "execution_count": 9,
   "metadata": {},
   "outputs": [
    {
     "data": {
      "text/html": [
       "<div>\n",
       "<style scoped>\n",
       "    .dataframe tbody tr th:only-of-type {\n",
       "        vertical-align: middle;\n",
       "    }\n",
       "\n",
       "    .dataframe tbody tr th {\n",
       "        vertical-align: top;\n",
       "    }\n",
       "\n",
       "    .dataframe thead th {\n",
       "        text-align: right;\n",
       "    }\n",
       "</style>\n",
       "<table border=\"1\" class=\"dataframe\">\n",
       "  <thead>\n",
       "    <tr style=\"text-align: right;\">\n",
       "      <th></th>\n",
       "      <th>Code zone</th>\n",
       "      <th>Zone</th>\n",
       "      <th>Code Élément</th>\n",
       "      <th>Élément</th>\n",
       "      <th>Année</th>\n",
       "      <th>Unité</th>\n",
       "      <th>Valeur</th>\n",
       "      <th>Description du Symbole</th>\n",
       "    </tr>\n",
       "  </thead>\n",
       "  <tbody>\n",
       "    <tr>\n",
       "      <th>651</th>\n",
       "      <td>2</td>\n",
       "      <td>Afghanistan</td>\n",
       "      <td>5511</td>\n",
       "      <td>Production</td>\n",
       "      <td>2017</td>\n",
       "      <td>Milliers de tonnes</td>\n",
       "      <td>28.00</td>\n",
       "      <td>Données standardisées</td>\n",
       "    </tr>\n",
       "    <tr>\n",
       "      <th>652</th>\n",
       "      <td>2</td>\n",
       "      <td>Afghanistan</td>\n",
       "      <td>5611</td>\n",
       "      <td>Importations - Quantité</td>\n",
       "      <td>2017</td>\n",
       "      <td>Milliers de tonnes</td>\n",
       "      <td>29.00</td>\n",
       "      <td>Données standardisées</td>\n",
       "    </tr>\n",
       "    <tr>\n",
       "      <th>653</th>\n",
       "      <td>2</td>\n",
       "      <td>Afghanistan</td>\n",
       "      <td>5072</td>\n",
       "      <td>Variation de stock</td>\n",
       "      <td>2017</td>\n",
       "      <td>Milliers de tonnes</td>\n",
       "      <td>0.00</td>\n",
       "      <td>Données standardisées</td>\n",
       "    </tr>\n",
       "    <tr>\n",
       "      <th>654</th>\n",
       "      <td>2</td>\n",
       "      <td>Afghanistan</td>\n",
       "      <td>5301</td>\n",
       "      <td>Disponibilité intérieure</td>\n",
       "      <td>2017</td>\n",
       "      <td>Milliers de tonnes</td>\n",
       "      <td>57.00</td>\n",
       "      <td>Données standardisées</td>\n",
       "    </tr>\n",
       "    <tr>\n",
       "      <th>655</th>\n",
       "      <td>2</td>\n",
       "      <td>Afghanistan</td>\n",
       "      <td>5123</td>\n",
       "      <td>Pertes</td>\n",
       "      <td>2017</td>\n",
       "      <td>Milliers de tonnes</td>\n",
       "      <td>2.00</td>\n",
       "      <td>Données standardisées</td>\n",
       "    </tr>\n",
       "    <tr>\n",
       "      <th>656</th>\n",
       "      <td>2</td>\n",
       "      <td>Afghanistan</td>\n",
       "      <td>5170</td>\n",
       "      <td>Résidus</td>\n",
       "      <td>2017</td>\n",
       "      <td>Milliers de tonnes</td>\n",
       "      <td>0.00</td>\n",
       "      <td>Données standardisées</td>\n",
       "    </tr>\n",
       "    <tr>\n",
       "      <th>657</th>\n",
       "      <td>2</td>\n",
       "      <td>Afghanistan</td>\n",
       "      <td>5142</td>\n",
       "      <td>Nourriture</td>\n",
       "      <td>2017</td>\n",
       "      <td>Milliers de tonnes</td>\n",
       "      <td>55.00</td>\n",
       "      <td>Données standardisées</td>\n",
       "    </tr>\n",
       "    <tr>\n",
       "      <th>658</th>\n",
       "      <td>2</td>\n",
       "      <td>Afghanistan</td>\n",
       "      <td>645</td>\n",
       "      <td>Disponibilité alimentaire en quantité (kg/pers...</td>\n",
       "      <td>2017</td>\n",
       "      <td>kg</td>\n",
       "      <td>1.53</td>\n",
       "      <td>Donnée calculée</td>\n",
       "    </tr>\n",
       "    <tr>\n",
       "      <th>659</th>\n",
       "      <td>2</td>\n",
       "      <td>Afghanistan</td>\n",
       "      <td>664</td>\n",
       "      <td>Disponibilité alimentaire (Kcal/personne/jour)</td>\n",
       "      <td>2017</td>\n",
       "      <td>Kcal/personne/jour</td>\n",
       "      <td>5.00</td>\n",
       "      <td>Donnée calculée</td>\n",
       "    </tr>\n",
       "    <tr>\n",
       "      <th>660</th>\n",
       "      <td>2</td>\n",
       "      <td>Afghanistan</td>\n",
       "      <td>674</td>\n",
       "      <td>Disponibilité de protéines en quantité (g/pers...</td>\n",
       "      <td>2017</td>\n",
       "      <td>g/personne/jour</td>\n",
       "      <td>0.54</td>\n",
       "      <td>Donnée calculée</td>\n",
       "    </tr>\n",
       "  </tbody>\n",
       "</table>\n",
       "</div>"
      ],
      "text/plain": [
       "     Code zone         Zone  Code Élément  \\\n",
       "651          2  Afghanistan          5511   \n",
       "652          2  Afghanistan          5611   \n",
       "653          2  Afghanistan          5072   \n",
       "654          2  Afghanistan          5301   \n",
       "655          2  Afghanistan          5123   \n",
       "656          2  Afghanistan          5170   \n",
       "657          2  Afghanistan          5142   \n",
       "658          2  Afghanistan           645   \n",
       "659          2  Afghanistan           664   \n",
       "660          2  Afghanistan           674   \n",
       "\n",
       "                                               Élément  Année  \\\n",
       "651                                         Production   2017   \n",
       "652                            Importations - Quantité   2017   \n",
       "653                                 Variation de stock   2017   \n",
       "654                           Disponibilité intérieure   2017   \n",
       "655                                             Pertes   2017   \n",
       "656                                            Résidus   2017   \n",
       "657                                         Nourriture   2017   \n",
       "658  Disponibilité alimentaire en quantité (kg/pers...   2017   \n",
       "659     Disponibilité alimentaire (Kcal/personne/jour)   2017   \n",
       "660  Disponibilité de protéines en quantité (g/pers...   2017   \n",
       "\n",
       "                  Unité  Valeur Description du Symbole  \n",
       "651  Milliers de tonnes   28.00  Données standardisées  \n",
       "652  Milliers de tonnes   29.00  Données standardisées  \n",
       "653  Milliers de tonnes    0.00  Données standardisées  \n",
       "654  Milliers de tonnes   57.00  Données standardisées  \n",
       "655  Milliers de tonnes    2.00  Données standardisées  \n",
       "656  Milliers de tonnes    0.00  Données standardisées  \n",
       "657  Milliers de tonnes   55.00  Données standardisées  \n",
       "658                  kg    1.53        Donnée calculée  \n",
       "659  Kcal/personne/jour    5.00        Donnée calculée  \n",
       "660     g/personne/jour    0.54        Donnée calculée  "
      ]
     },
     "execution_count": 9,
     "metadata": {},
     "output_type": "execute_result"
    }
   ],
   "source": [
    "df_dispo_alim2017.head(10)"
   ]
  },
  {
   "cell_type": "code",
   "execution_count": 10,
   "metadata": {},
   "outputs": [
    {
     "data": {
      "text/plain": [
       "172"
      ]
     },
     "execution_count": 10,
     "metadata": {},
     "output_type": "execute_result"
    }
   ],
   "source": [
    "len(df_dispo_alim2017['Zone'].unique())"
   ]
  },
  {
   "cell_type": "code",
   "execution_count": 11,
   "metadata": {},
   "outputs": [
    {
     "data": {
      "text/html": [
       "<div>\n",
       "<style scoped>\n",
       "    .dataframe tbody tr th:only-of-type {\n",
       "        vertical-align: middle;\n",
       "    }\n",
       "\n",
       "    .dataframe tbody tr th {\n",
       "        vertical-align: top;\n",
       "    }\n",
       "\n",
       "    .dataframe thead th {\n",
       "        text-align: right;\n",
       "    }\n",
       "</style>\n",
       "<table border=\"1\" class=\"dataframe\">\n",
       "  <thead>\n",
       "    <tr style=\"text-align: right;\">\n",
       "      <th></th>\n",
       "      <th>Élément</th>\n",
       "      <th>Alimentation pour touristes</th>\n",
       "      <th>Aliments pour animaux</th>\n",
       "      <th>Autres utilisations (non alimentaire)</th>\n",
       "      <th>Disponibilité alimentaire (Kcal/personne/jour)</th>\n",
       "      <th>Disponibilité alimentaire en quantité (kg/personne/an)</th>\n",
       "      <th>Disponibilité de matière grasse en quantité (g/personne/jour)</th>\n",
       "      <th>Disponibilité de protéines en quantité (g/personne/jour)</th>\n",
       "      <th>Disponibilité intérieure</th>\n",
       "      <th>Exportations - Quantité</th>\n",
       "      <th>Importations - Quantité</th>\n",
       "      <th>Nourriture</th>\n",
       "      <th>Pertes</th>\n",
       "      <th>Production</th>\n",
       "      <th>Résidus</th>\n",
       "      <th>Semences</th>\n",
       "      <th>Traitement</th>\n",
       "      <th>Variation de stock</th>\n",
       "    </tr>\n",
       "    <tr>\n",
       "      <th>Code zone</th>\n",
       "      <th>Zone</th>\n",
       "      <th></th>\n",
       "      <th></th>\n",
       "      <th></th>\n",
       "      <th></th>\n",
       "      <th></th>\n",
       "      <th></th>\n",
       "      <th></th>\n",
       "      <th></th>\n",
       "      <th></th>\n",
       "      <th></th>\n",
       "      <th></th>\n",
       "      <th></th>\n",
       "      <th></th>\n",
       "      <th></th>\n",
       "      <th></th>\n",
       "      <th></th>\n",
       "      <th></th>\n",
       "    </tr>\n",
       "  </thead>\n",
       "  <tbody>\n",
       "    <tr>\n",
       "      <th>1</th>\n",
       "      <th>Arménie</th>\n",
       "      <td>NaN</td>\n",
       "      <td>NaN</td>\n",
       "      <td>NaN</td>\n",
       "      <td>54.0</td>\n",
       "      <td>16.06</td>\n",
       "      <td>3.39</td>\n",
       "      <td>5.44</td>\n",
       "      <td>47.0</td>\n",
       "      <td>0.0</td>\n",
       "      <td>35.0</td>\n",
       "      <td>47.0</td>\n",
       "      <td>0.0</td>\n",
       "      <td>11.0</td>\n",
       "      <td>0.0</td>\n",
       "      <td>NaN</td>\n",
       "      <td>NaN</td>\n",
       "      <td>-2.0</td>\n",
       "    </tr>\n",
       "    <tr>\n",
       "      <th>2</th>\n",
       "      <th>Afghanistan</th>\n",
       "      <td>NaN</td>\n",
       "      <td>NaN</td>\n",
       "      <td>NaN</td>\n",
       "      <td>5.0</td>\n",
       "      <td>1.53</td>\n",
       "      <td>0.33</td>\n",
       "      <td>0.54</td>\n",
       "      <td>57.0</td>\n",
       "      <td>NaN</td>\n",
       "      <td>29.0</td>\n",
       "      <td>55.0</td>\n",
       "      <td>2.0</td>\n",
       "      <td>28.0</td>\n",
       "      <td>0.0</td>\n",
       "      <td>NaN</td>\n",
       "      <td>NaN</td>\n",
       "      <td>0.0</td>\n",
       "    </tr>\n",
       "    <tr>\n",
       "      <th>3</th>\n",
       "      <th>Albanie</th>\n",
       "      <td>NaN</td>\n",
       "      <td>NaN</td>\n",
       "      <td>NaN</td>\n",
       "      <td>85.0</td>\n",
       "      <td>16.36</td>\n",
       "      <td>6.45</td>\n",
       "      <td>6.26</td>\n",
       "      <td>47.0</td>\n",
       "      <td>0.0</td>\n",
       "      <td>38.0</td>\n",
       "      <td>47.0</td>\n",
       "      <td>NaN</td>\n",
       "      <td>13.0</td>\n",
       "      <td>0.0</td>\n",
       "      <td>NaN</td>\n",
       "      <td>NaN</td>\n",
       "      <td>4.0</td>\n",
       "    </tr>\n",
       "  </tbody>\n",
       "</table>\n",
       "</div>"
      ],
      "text/plain": [
       "Élément                Alimentation pour touristes  Aliments pour animaux  \\\n",
       "Code zone Zone                                                              \n",
       "1         Arménie                              NaN                    NaN   \n",
       "2         Afghanistan                          NaN                    NaN   \n",
       "3         Albanie                              NaN                    NaN   \n",
       "\n",
       "Élément                Autres utilisations (non alimentaire)  \\\n",
       "Code zone Zone                                                 \n",
       "1         Arménie                                        NaN   \n",
       "2         Afghanistan                                    NaN   \n",
       "3         Albanie                                        NaN   \n",
       "\n",
       "Élément                Disponibilité alimentaire (Kcal/personne/jour)  \\\n",
       "Code zone Zone                                                          \n",
       "1         Arménie                                                54.0   \n",
       "2         Afghanistan                                             5.0   \n",
       "3         Albanie                                                85.0   \n",
       "\n",
       "Élément                Disponibilité alimentaire en quantité (kg/personne/an)  \\\n",
       "Code zone Zone                                                                  \n",
       "1         Arménie                                                  16.06        \n",
       "2         Afghanistan                                               1.53        \n",
       "3         Albanie                                                  16.36        \n",
       "\n",
       "Élément                Disponibilité de matière grasse en quantité (g/personne/jour)  \\\n",
       "Code zone Zone                                                                         \n",
       "1         Arménie                                                   3.39               \n",
       "2         Afghanistan                                               0.33               \n",
       "3         Albanie                                                   6.45               \n",
       "\n",
       "Élément                Disponibilité de protéines en quantité (g/personne/jour)  \\\n",
       "Code zone Zone                                                                    \n",
       "1         Arménie                                                   5.44          \n",
       "2         Afghanistan                                               0.54          \n",
       "3         Albanie                                                   6.26          \n",
       "\n",
       "Élément                Disponibilité intérieure  Exportations - Quantité  \\\n",
       "Code zone Zone                                                             \n",
       "1         Arménie                          47.0                      0.0   \n",
       "2         Afghanistan                      57.0                      NaN   \n",
       "3         Albanie                          47.0                      0.0   \n",
       "\n",
       "Élément                Importations - Quantité  Nourriture  Pertes  \\\n",
       "Code zone Zone                                                       \n",
       "1         Arménie                         35.0        47.0     0.0   \n",
       "2         Afghanistan                     29.0        55.0     2.0   \n",
       "3         Albanie                         38.0        47.0     NaN   \n",
       "\n",
       "Élément                Production  Résidus  Semences  Traitement  \\\n",
       "Code zone Zone                                                     \n",
       "1         Arménie            11.0      0.0       NaN         NaN   \n",
       "2         Afghanistan        28.0      0.0       NaN         NaN   \n",
       "3         Albanie            13.0      0.0       NaN         NaN   \n",
       "\n",
       "Élément                Variation de stock  \n",
       "Code zone Zone                             \n",
       "1         Arménie                    -2.0  \n",
       "2         Afghanistan                 0.0  \n",
       "3         Albanie                     4.0  "
      ]
     },
     "execution_count": 11,
     "metadata": {},
     "output_type": "execute_result"
    }
   ],
   "source": [
    "df_pivot1 = pd.pivot_table(df_dispo_alim2017, values = 'Valeur', index = ['Code zone','Zone'], columns=['Élément'], aggfunc=np.sum)\n",
    "df_pivot1.head(3)"
   ]
  },
  {
   "cell_type": "code",
   "execution_count": 12,
   "metadata": {},
   "outputs": [
    {
     "name": "stdout",
     "output_type": "stream",
     "text": [
      "<class 'pandas.core.frame.DataFrame'>\n",
      "MultiIndex: 172 entries, (1, 'Arménie') to (276, 'Soudan')\n",
      "Data columns (total 17 columns):\n",
      " #   Column                                                         Non-Null Count  Dtype  \n",
      "---  ------                                                         --------------  -----  \n",
      " 0   Alimentation pour touristes                                    78 non-null     float64\n",
      " 1   Aliments pour animaux                                          1 non-null      float64\n",
      " 2   Autres utilisations (non alimentaire)                          34 non-null     float64\n",
      " 3   Disponibilité alimentaire (Kcal/personne/jour)                 172 non-null    float64\n",
      " 4   Disponibilité alimentaire en quantité (kg/personne/an)         172 non-null    float64\n",
      " 5   Disponibilité de matière grasse en quantité (g/personne/jour)  172 non-null    float64\n",
      " 6   Disponibilité de protéines en quantité (g/personne/jour)       172 non-null    float64\n",
      " 7   Disponibilité intérieure                                       170 non-null    float64\n",
      " 8   Exportations - Quantité                                        135 non-null    float64\n",
      " 9   Importations - Quantité                                        170 non-null    float64\n",
      " 10  Nourriture                                                     170 non-null    float64\n",
      " 11  Pertes                                                         67 non-null     float64\n",
      " 12  Production                                                     168 non-null    float64\n",
      " 13  Résidus                                                        164 non-null    float64\n",
      " 14  Semences                                                       1 non-null      float64\n",
      " 15  Traitement                                                     46 non-null     float64\n",
      " 16  Variation de stock                                             169 non-null    float64\n",
      "dtypes: float64(17)\n",
      "memory usage: 26.3+ KB\n"
     ]
    }
   ],
   "source": [
    "df_pivot1.info()"
   ]
  },
  {
   "cell_type": "code",
   "execution_count": 13,
   "metadata": {},
   "outputs": [],
   "source": [
    "df_dispo_alim2017 = df_pivot1\n",
    "del df_dispo_alim2017[\"Alimentation pour touristes\"]\n",
    "del df_dispo_alim2017[\"Autres utilisations (non alimentaire)\"]\n",
    "del df_dispo_alim2017[\"Aliments pour animaux\"]\n",
    "del df_dispo_alim2017[\"Semences\"]\n",
    "del df_dispo_alim2017[\"Traitement\"]\n",
    "del df_dispo_alim2017[\"Pertes\"]\n",
    "df_dispo_alim2017.reset_index(inplace = True)"
   ]
  },
  {
   "cell_type": "code",
   "execution_count": 14,
   "metadata": {},
   "outputs": [
    {
     "data": {
      "text/html": [
       "<div>\n",
       "<style scoped>\n",
       "    .dataframe tbody tr th:only-of-type {\n",
       "        vertical-align: middle;\n",
       "    }\n",
       "\n",
       "    .dataframe tbody tr th {\n",
       "        vertical-align: top;\n",
       "    }\n",
       "\n",
       "    .dataframe thead th {\n",
       "        text-align: right;\n",
       "    }\n",
       "</style>\n",
       "<table border=\"1\" class=\"dataframe\">\n",
       "  <thead>\n",
       "    <tr style=\"text-align: right;\">\n",
       "      <th>Élément</th>\n",
       "      <th>Code zone</th>\n",
       "      <th>Zone</th>\n",
       "      <th>Disponibilité alimentaire (Kcal/personne/jour)</th>\n",
       "      <th>Disponibilité alimentaire en quantité (kg/personne/an)</th>\n",
       "      <th>Disponibilité de matière grasse en quantité (g/personne/jour)</th>\n",
       "      <th>Disponibilité de protéines en quantité (g/personne/jour)</th>\n",
       "      <th>Disponibilité intérieure</th>\n",
       "      <th>Exportations - Quantité</th>\n",
       "      <th>Importations - Quantité</th>\n",
       "      <th>Nourriture</th>\n",
       "      <th>Production</th>\n",
       "      <th>Résidus</th>\n",
       "      <th>Variation de stock</th>\n",
       "    </tr>\n",
       "  </thead>\n",
       "  <tbody>\n",
       "    <tr>\n",
       "      <th>0</th>\n",
       "      <td>1</td>\n",
       "      <td>Arménie</td>\n",
       "      <td>54.0</td>\n",
       "      <td>16.06</td>\n",
       "      <td>3.39</td>\n",
       "      <td>5.44</td>\n",
       "      <td>47.0</td>\n",
       "      <td>0.0</td>\n",
       "      <td>35.0</td>\n",
       "      <td>47.0</td>\n",
       "      <td>11.0</td>\n",
       "      <td>0.0</td>\n",
       "      <td>-2.0</td>\n",
       "    </tr>\n",
       "    <tr>\n",
       "      <th>1</th>\n",
       "      <td>2</td>\n",
       "      <td>Afghanistan</td>\n",
       "      <td>5.0</td>\n",
       "      <td>1.53</td>\n",
       "      <td>0.33</td>\n",
       "      <td>0.54</td>\n",
       "      <td>57.0</td>\n",
       "      <td>NaN</td>\n",
       "      <td>29.0</td>\n",
       "      <td>55.0</td>\n",
       "      <td>28.0</td>\n",
       "      <td>0.0</td>\n",
       "      <td>0.0</td>\n",
       "    </tr>\n",
       "    <tr>\n",
       "      <th>2</th>\n",
       "      <td>3</td>\n",
       "      <td>Albanie</td>\n",
       "      <td>85.0</td>\n",
       "      <td>16.36</td>\n",
       "      <td>6.45</td>\n",
       "      <td>6.26</td>\n",
       "      <td>47.0</td>\n",
       "      <td>0.0</td>\n",
       "      <td>38.0</td>\n",
       "      <td>47.0</td>\n",
       "      <td>13.0</td>\n",
       "      <td>0.0</td>\n",
       "      <td>4.0</td>\n",
       "    </tr>\n",
       "    <tr>\n",
       "      <th>3</th>\n",
       "      <td>4</td>\n",
       "      <td>Algérie</td>\n",
       "      <td>22.0</td>\n",
       "      <td>6.38</td>\n",
       "      <td>1.50</td>\n",
       "      <td>1.97</td>\n",
       "      <td>277.0</td>\n",
       "      <td>0.0</td>\n",
       "      <td>2.0</td>\n",
       "      <td>264.0</td>\n",
       "      <td>275.0</td>\n",
       "      <td>0.0</td>\n",
       "      <td>0.0</td>\n",
       "    </tr>\n",
       "    <tr>\n",
       "      <th>4</th>\n",
       "      <td>7</td>\n",
       "      <td>Angola</td>\n",
       "      <td>35.0</td>\n",
       "      <td>10.56</td>\n",
       "      <td>2.22</td>\n",
       "      <td>3.60</td>\n",
       "      <td>319.0</td>\n",
       "      <td>0.0</td>\n",
       "      <td>277.0</td>\n",
       "      <td>315.0</td>\n",
       "      <td>42.0</td>\n",
       "      <td>0.0</td>\n",
       "      <td>0.0</td>\n",
       "    </tr>\n",
       "  </tbody>\n",
       "</table>\n",
       "</div>"
      ],
      "text/plain": [
       "Élément  Code zone         Zone  \\\n",
       "0                1      Arménie   \n",
       "1                2  Afghanistan   \n",
       "2                3      Albanie   \n",
       "3                4      Algérie   \n",
       "4                7       Angola   \n",
       "\n",
       "Élément  Disponibilité alimentaire (Kcal/personne/jour)  \\\n",
       "0                                                  54.0   \n",
       "1                                                   5.0   \n",
       "2                                                  85.0   \n",
       "3                                                  22.0   \n",
       "4                                                  35.0   \n",
       "\n",
       "Élément  Disponibilité alimentaire en quantité (kg/personne/an)  \\\n",
       "0                                                    16.06        \n",
       "1                                                     1.53        \n",
       "2                                                    16.36        \n",
       "3                                                     6.38        \n",
       "4                                                    10.56        \n",
       "\n",
       "Élément  Disponibilité de matière grasse en quantité (g/personne/jour)  \\\n",
       "0                                                     3.39               \n",
       "1                                                     0.33               \n",
       "2                                                     6.45               \n",
       "3                                                     1.50               \n",
       "4                                                     2.22               \n",
       "\n",
       "Élément  Disponibilité de protéines en quantité (g/personne/jour)  \\\n",
       "0                                                     5.44          \n",
       "1                                                     0.54          \n",
       "2                                                     6.26          \n",
       "3                                                     1.97          \n",
       "4                                                     3.60          \n",
       "\n",
       "Élément  Disponibilité intérieure  Exportations - Quantité  \\\n",
       "0                            47.0                      0.0   \n",
       "1                            57.0                      NaN   \n",
       "2                            47.0                      0.0   \n",
       "3                           277.0                      0.0   \n",
       "4                           319.0                      0.0   \n",
       "\n",
       "Élément  Importations - Quantité  Nourriture  Production  Résidus  \\\n",
       "0                           35.0        47.0        11.0      0.0   \n",
       "1                           29.0        55.0        28.0      0.0   \n",
       "2                           38.0        47.0        13.0      0.0   \n",
       "3                            2.0       264.0       275.0      0.0   \n",
       "4                          277.0       315.0        42.0      0.0   \n",
       "\n",
       "Élément  Variation de stock  \n",
       "0                      -2.0  \n",
       "1                       0.0  \n",
       "2                       4.0  \n",
       "3                       0.0  \n",
       "4                       0.0  "
      ]
     },
     "execution_count": 14,
     "metadata": {},
     "output_type": "execute_result"
    }
   ],
   "source": [
    "df_dispo_alim2017.head()"
   ]
  },
  {
   "cell_type": "markdown",
   "metadata": {},
   "source": [
    "#### 2) Préparation de la deuxième table source: la population par zone de 2000 à 2018"
   ]
  },
  {
   "cell_type": "code",
   "execution_count": 15,
   "metadata": {},
   "outputs": [
    {
     "name": "stdout",
     "output_type": "stream",
     "text": [
      "<class 'pandas.core.frame.DataFrame'>\n",
      "RangeIndex: 4411 entries, 0 to 4410\n",
      "Data columns (total 15 columns):\n",
      " #   Column                  Non-Null Count  Dtype  \n",
      "---  ------                  --------------  -----  \n",
      " 0   Code Domaine            4411 non-null   object \n",
      " 1   Domaine                 4411 non-null   object \n",
      " 2   Code zone               4411 non-null   int64  \n",
      " 3   Zone                    4411 non-null   object \n",
      " 4   Code Élément            4411 non-null   int64  \n",
      " 5   Élément                 4411 non-null   object \n",
      " 6   Code Produit            4411 non-null   int64  \n",
      " 7   Produit                 4411 non-null   object \n",
      " 8   Code année              4411 non-null   int64  \n",
      " 9   Année                   4411 non-null   int64  \n",
      " 10  Unité                   4411 non-null   object \n",
      " 11  Valeur                  4411 non-null   float64\n",
      " 12  Symbole                 4411 non-null   object \n",
      " 13  Description du Symbole  4411 non-null   object \n",
      " 14  Note                    258 non-null    object \n",
      "dtypes: float64(1), int64(5), object(9)\n",
      "memory usage: 517.0+ KB\n"
     ]
    }
   ],
   "source": [
    "df_pop_2000_2018.info()"
   ]
  },
  {
   "cell_type": "code",
   "execution_count": 16,
   "metadata": {},
   "outputs": [],
   "source": [
    "# sélection des données qui nous intéressent\n",
    "df_pop_2000_2018 = df_pop_2000_2018.loc[:,['Code zone','Zone','Année','Unité','Valeur','Description du Symbole','Note']]"
   ]
  },
  {
   "cell_type": "code",
   "execution_count": 17,
   "metadata": {},
   "outputs": [
    {
     "data": {
      "text/html": [
       "<div>\n",
       "<style scoped>\n",
       "    .dataframe tbody tr th:only-of-type {\n",
       "        vertical-align: middle;\n",
       "    }\n",
       "\n",
       "    .dataframe tbody tr th {\n",
       "        vertical-align: top;\n",
       "    }\n",
       "\n",
       "    .dataframe thead th {\n",
       "        text-align: right;\n",
       "    }\n",
       "</style>\n",
       "<table border=\"1\" class=\"dataframe\">\n",
       "  <thead>\n",
       "    <tr style=\"text-align: right;\">\n",
       "      <th></th>\n",
       "      <th>Code zone</th>\n",
       "      <th>Zone</th>\n",
       "      <th>Année</th>\n",
       "      <th>Unité</th>\n",
       "      <th>Valeur</th>\n",
       "      <th>Description du Symbole</th>\n",
       "      <th>Note</th>\n",
       "    </tr>\n",
       "  </thead>\n",
       "  <tbody>\n",
       "    <tr>\n",
       "      <th>0</th>\n",
       "      <td>2</td>\n",
       "      <td>Afghanistan</td>\n",
       "      <td>2000</td>\n",
       "      <td>1000 personnes</td>\n",
       "      <td>20779.953</td>\n",
       "      <td>Sources internationales sûres</td>\n",
       "      <td>NaN</td>\n",
       "    </tr>\n",
       "    <tr>\n",
       "      <th>1</th>\n",
       "      <td>2</td>\n",
       "      <td>Afghanistan</td>\n",
       "      <td>2001</td>\n",
       "      <td>1000 personnes</td>\n",
       "      <td>21606.988</td>\n",
       "      <td>Sources internationales sûres</td>\n",
       "      <td>NaN</td>\n",
       "    </tr>\n",
       "  </tbody>\n",
       "</table>\n",
       "</div>"
      ],
      "text/plain": [
       "   Code zone         Zone  Année           Unité     Valeur  \\\n",
       "0          2  Afghanistan   2000  1000 personnes  20779.953   \n",
       "1          2  Afghanistan   2001  1000 personnes  21606.988   \n",
       "\n",
       "          Description du Symbole Note  \n",
       "0  Sources internationales sûres  NaN  \n",
       "1  Sources internationales sûres  NaN  "
      ]
     },
     "execution_count": 17,
     "metadata": {},
     "output_type": "execute_result"
    }
   ],
   "source": [
    "df_pop_2000_2018.head(2)"
   ]
  },
  {
   "cell_type": "code",
   "execution_count": 18,
   "metadata": {},
   "outputs": [],
   "source": [
    "# on exprime la population en nombre d'individus & on nomme mieux les colonnes\n",
    "df_pop_2000_2018['Valeur'] = df_pop_2000_2018['Valeur']*1000\n",
    "del df_pop_2000_2018['Unité']\n",
    "df_pop_2000_2018['Valeur'] = df_pop_2000_2018['Valeur'].astype('int64')\n",
    "df_pop_2000_2018 = df_pop_2000_2018.rename(columns={\"Valeur\": \"Population\", \"Description du Symbole\": \"Type_de_source\"})"
   ]
  },
  {
   "cell_type": "code",
   "execution_count": 19,
   "metadata": {},
   "outputs": [
    {
     "data": {
      "text/html": [
       "<div>\n",
       "<style scoped>\n",
       "    .dataframe tbody tr th:only-of-type {\n",
       "        vertical-align: middle;\n",
       "    }\n",
       "\n",
       "    .dataframe tbody tr th {\n",
       "        vertical-align: top;\n",
       "    }\n",
       "\n",
       "    .dataframe thead th {\n",
       "        text-align: right;\n",
       "    }\n",
       "</style>\n",
       "<table border=\"1\" class=\"dataframe\">\n",
       "  <thead>\n",
       "    <tr style=\"text-align: right;\">\n",
       "      <th></th>\n",
       "      <th>Code zone</th>\n",
       "      <th>Zone</th>\n",
       "      <th>Année</th>\n",
       "      <th>Population</th>\n",
       "      <th>Type_de_source</th>\n",
       "      <th>Note</th>\n",
       "    </tr>\n",
       "  </thead>\n",
       "  <tbody>\n",
       "    <tr>\n",
       "      <th>0</th>\n",
       "      <td>2</td>\n",
       "      <td>Afghanistan</td>\n",
       "      <td>2000</td>\n",
       "      <td>20779953</td>\n",
       "      <td>Sources internationales sûres</td>\n",
       "      <td>NaN</td>\n",
       "    </tr>\n",
       "    <tr>\n",
       "      <th>1</th>\n",
       "      <td>2</td>\n",
       "      <td>Afghanistan</td>\n",
       "      <td>2001</td>\n",
       "      <td>21606988</td>\n",
       "      <td>Sources internationales sûres</td>\n",
       "      <td>NaN</td>\n",
       "    </tr>\n",
       "  </tbody>\n",
       "</table>\n",
       "</div>"
      ],
      "text/plain": [
       "   Code zone         Zone  Année  Population                 Type_de_source  \\\n",
       "0          2  Afghanistan   2000    20779953  Sources internationales sûres   \n",
       "1          2  Afghanistan   2001    21606988  Sources internationales sûres   \n",
       "\n",
       "  Note  \n",
       "0  NaN  \n",
       "1  NaN  "
      ]
     },
     "execution_count": 19,
     "metadata": {},
     "output_type": "execute_result"
    }
   ],
   "source": [
    "df_pop_2000_2018.head(2)"
   ]
  },
  {
   "cell_type": "code",
   "execution_count": 20,
   "metadata": {},
   "outputs": [
    {
     "data": {
      "text/plain": [
       "238"
      ]
     },
     "execution_count": 20,
     "metadata": {},
     "output_type": "execute_result"
    }
   ],
   "source": [
    "# on regarde le nombre de zone (correspondant souvant à des pays)\n",
    "nb_pays = len(df_pop_2000_2018['Zone'].unique())\n",
    "nb_pays"
   ]
  },
  {
   "cell_type": "code",
   "execution_count": 21,
   "metadata": {},
   "outputs": [
    {
     "data": {
      "text/plain": [
       "array(['Sources internationales sûres',\n",
       "       'Agrégat, peut inclure des données officielles, semi-officielles, estimées ou calculées'],\n",
       "      dtype=object)"
      ]
     },
     "execution_count": 21,
     "metadata": {},
     "output_type": "execute_result"
    }
   ],
   "source": [
    "# on se penche plus sur les deux dernières colonnes pour voir leurs intérêt\n",
    "df_pop_2000_2018[\"Type_de_source\"].unique()"
   ]
  },
  {
   "cell_type": "code",
   "execution_count": 22,
   "metadata": {},
   "outputs": [
    {
     "data": {
      "text/plain": [
       "array(['Antilles néerlandaises (ex)', 'Serbie-et-Monténégro',\n",
       "       'Soudan (ex)'], dtype=object)"
      ]
     },
     "execution_count": 22,
     "metadata": {},
     "output_type": "execute_result"
    }
   ],
   "source": [
    "# le mieux serait de n'avoir que des données de sources sûres; regardons l'intérêt des autres sources \n",
    "filtered_df = df_pop_2000_2018[df_pop_2000_2018[\"Type_de_source\"].eq('Agrégat, peut inclure des données officielles, semi-officielles, estimées ou calculées')]\n",
    "filtered_df['Zone'].unique()"
   ]
  },
  {
   "cell_type": "code",
   "execution_count": 23,
   "metadata": {},
   "outputs": [
    {
     "data": {
      "text/plain": [
       "array([nan,\n",
       "       'UNDESA, Population Division – World Population Prospects, the 2017 Revision'],\n",
       "      dtype=object)"
      ]
     },
     "execution_count": 23,
     "metadata": {},
     "output_type": "execute_result"
    }
   ],
   "source": [
    "# on voit que les sources semi-officielles correspondent à des zones n'existant plus: Soudan = 2 pays aujourd'hui. Supprimons ces lignes\n",
    "df_pop_2000_2018 = df_pop_2000_2018[df_pop_2000_2018['Type_de_source'].eq('Sources internationales sûres')]\n",
    "# de ce fait nous pouvons supprimer le 'type de source'\n",
    "del df_pop_2000_2018['Type_de_source']\n",
    "# regardons à quoi correspondent les 'Note'\n",
    "df_pop_2000_2018['Note'].unique()"
   ]
  },
  {
   "cell_type": "code",
   "execution_count": 24,
   "metadata": {},
   "outputs": [
    {
     "data": {
      "text/plain": [
       "\" \\n'Note' indique donc simplement la source pour certaines données, mais toutes les données restantes sont reconnues comme sûres.\\nAinsi nous pouvons donc supprimer Note\\n\""
      ]
     },
     "execution_count": 24,
     "metadata": {},
     "output_type": "execute_result"
    }
   ],
   "source": [
    "\"\"\" \n",
    "'Note' indique donc simplement la source pour certaines données, mais toutes les données restantes sont reconnues comme sûres.\n",
    "Ainsi nous pouvons donc supprimer Note\n",
    "\"\"\""
   ]
  },
  {
   "cell_type": "code",
   "execution_count": 25,
   "metadata": {},
   "outputs": [
    {
     "data": {
      "text/plain": [
       "235"
      ]
     },
     "execution_count": 25,
     "metadata": {},
     "output_type": "execute_result"
    }
   ],
   "source": [
    "del df_pop_2000_2018['Note']\n",
    "# Le nombre de zone restantes:\n",
    "nb_pays = len(df_pop_2000_2018['Zone'].unique())\n",
    "nb_pays"
   ]
  },
  {
   "cell_type": "code",
   "execution_count": 26,
   "metadata": {},
   "outputs": [
    {
     "name": "stdout",
     "output_type": "stream",
     "text": [
      "<class 'pandas.core.frame.DataFrame'>\n",
      "Int64Index: 4374 entries, 0 to 4410\n",
      "Data columns (total 4 columns):\n",
      " #   Column      Non-Null Count  Dtype \n",
      "---  ------      --------------  ----- \n",
      " 0   Code zone   4374 non-null   int64 \n",
      " 1   Zone        4374 non-null   object\n",
      " 2   Année       4374 non-null   int64 \n",
      " 3   Population  4374 non-null   int64 \n",
      "dtypes: int64(3), object(1)\n",
      "memory usage: 170.9+ KB\n"
     ]
    }
   ],
   "source": [
    "df_pop_2000_2018.info()"
   ]
  },
  {
   "cell_type": "code",
   "execution_count": 27,
   "metadata": {},
   "outputs": [
    {
     "data": {
      "text/plain": [
       "2018    235\n",
       "2017    235\n",
       "2016    235\n",
       "2015    235\n",
       "2014    235\n",
       "2013    235\n",
       "2012    235\n",
       "2011    233\n",
       "2010    228\n",
       "2009    228\n",
       "2008    228\n",
       "2007    228\n",
       "2006    228\n",
       "2001    226\n",
       "2005    226\n",
       "2004    226\n",
       "2003    226\n",
       "2002    226\n",
       "2000    226\n",
       "Name: Année, dtype: int64"
      ]
     },
     "execution_count": 27,
     "metadata": {},
     "output_type": "execute_result"
    }
   ],
   "source": [
    "df_pop_2000_2018['Année'].value_counts()"
   ]
  },
  {
   "cell_type": "code",
   "execution_count": 28,
   "metadata": {},
   "outputs": [
    {
     "data": {
      "text/plain": [
       "\"\\nNous avons les données alimentaires pour 172 zones et les données de population pour 235 zones. \\nTentons pour le moment de préserver nos données de population, et cherchons un taux de croissance entre l'année la plus ancienne\\npossible et l'année la plus récente (au moins 2017 - années des données alim)\\nOn va donc garder uniquement les donées à partir de 2012\\n\""
      ]
     },
     "execution_count": 28,
     "metadata": {},
     "output_type": "execute_result"
    }
   ],
   "source": [
    "\"\"\"\n",
    "Nous avons les données alimentaires pour 172 zones et les données de population pour 235 zones. \n",
    "Tentons pour le moment de préserver nos données de population, et cherchons un taux de croissance entre l'année la plus ancienne\n",
    "possible et l'année la plus récente (au moins 2017 - années des données alim)\n",
    "On va donc garder uniquement les donées à partir de 2012\n",
    "\"\"\""
   ]
  },
  {
   "cell_type": "code",
   "execution_count": 29,
   "metadata": {},
   "outputs": [],
   "source": [
    "filter_list = [2012,2017]\n",
    "df_pop_2012_2018 = df_pop_2000_2018.query(\"Année == @filter_list\")"
   ]
  },
  {
   "cell_type": "code",
   "execution_count": 30,
   "metadata": {},
   "outputs": [
    {
     "name": "stderr",
     "output_type": "stream",
     "text": [
      "/tmp/ipykernel_27949/3903456909.py:1: SettingWithCopyWarning: \n",
      "A value is trying to be set on a copy of a slice from a DataFrame.\n",
      "Try using .loc[row_indexer,col_indexer] = value instead\n",
      "\n",
      "See the caveats in the documentation: https://pandas.pydata.org/pandas-docs/stable/user_guide/indexing.html#returning-a-view-versus-a-copy\n",
      "  df_pop_2012_2018[\"test\"] = df_pop_2012_2018['Population'].shift(1)\n"
     ]
    }
   ],
   "source": [
    "df_pop_2012_2018[\"test\"] = df_pop_2012_2018['Population'].shift(1)"
   ]
  },
  {
   "cell_type": "code",
   "execution_count": 31,
   "metadata": {},
   "outputs": [],
   "source": [
    "df_pop_2012_2018 = df_pop_2012_2018[df_pop_2012_2018[\"Année\"].eq(2017)]\n",
    "df_pop_2012_2018[\"variation_pop%_2012_2017\"] = (df_pop_2012_2018[\"Population\"]*100/df_pop_2012_2018['test'])-100\n",
    "del df_pop_2012_2018[\"test\"]\n",
    "df_pop_2017 = df_pop_2012_2018"
   ]
  },
  {
   "cell_type": "code",
   "execution_count": 32,
   "metadata": {},
   "outputs": [
    {
     "data": {
      "text/html": [
       "<div>\n",
       "<style scoped>\n",
       "    .dataframe tbody tr th:only-of-type {\n",
       "        vertical-align: middle;\n",
       "    }\n",
       "\n",
       "    .dataframe tbody tr th {\n",
       "        vertical-align: top;\n",
       "    }\n",
       "\n",
       "    .dataframe thead th {\n",
       "        text-align: right;\n",
       "    }\n",
       "</style>\n",
       "<table border=\"1\" class=\"dataframe\">\n",
       "  <thead>\n",
       "    <tr style=\"text-align: right;\">\n",
       "      <th></th>\n",
       "      <th>Code zone</th>\n",
       "      <th>Zone</th>\n",
       "      <th>Année</th>\n",
       "      <th>Population</th>\n",
       "      <th>variation_pop%_2012_2017</th>\n",
       "    </tr>\n",
       "  </thead>\n",
       "  <tbody>\n",
       "    <tr>\n",
       "      <th>17</th>\n",
       "      <td>2</td>\n",
       "      <td>Afghanistan</td>\n",
       "      <td>2017</td>\n",
       "      <td>36296113</td>\n",
       "      <td>16.477889</td>\n",
       "    </tr>\n",
       "    <tr>\n",
       "      <th>36</th>\n",
       "      <td>202</td>\n",
       "      <td>Afrique du Sud</td>\n",
       "      <td>2017</td>\n",
       "      <td>57009756</td>\n",
       "      <td>7.906280</td>\n",
       "    </tr>\n",
       "    <tr>\n",
       "      <th>55</th>\n",
       "      <td>3</td>\n",
       "      <td>Albanie</td>\n",
       "      <td>2017</td>\n",
       "      <td>2884169</td>\n",
       "      <td>-1.026974</td>\n",
       "    </tr>\n",
       "    <tr>\n",
       "      <th>74</th>\n",
       "      <td>4</td>\n",
       "      <td>Algérie</td>\n",
       "      <td>2017</td>\n",
       "      <td>41389189</td>\n",
       "      <td>10.713956</td>\n",
       "    </tr>\n",
       "    <tr>\n",
       "      <th>93</th>\n",
       "      <td>79</td>\n",
       "      <td>Allemagne</td>\n",
       "      <td>2017</td>\n",
       "      <td>82658409</td>\n",
       "      <td>2.081915</td>\n",
       "    </tr>\n",
       "    <tr>\n",
       "      <th>112</th>\n",
       "      <td>6</td>\n",
       "      <td>Andorre</td>\n",
       "      <td>2017</td>\n",
       "      <td>77001</td>\n",
       "      <td>-6.582794</td>\n",
       "    </tr>\n",
       "    <tr>\n",
       "      <th>131</th>\n",
       "      <td>7</td>\n",
       "      <td>Angola</td>\n",
       "      <td>2017</td>\n",
       "      <td>29816766</td>\n",
       "      <td>18.754373</td>\n",
       "    </tr>\n",
       "    <tr>\n",
       "      <th>150</th>\n",
       "      <td>258</td>\n",
       "      <td>Anguilla</td>\n",
       "      <td>2017</td>\n",
       "      <td>14584</td>\n",
       "      <td>5.719464</td>\n",
       "    </tr>\n",
       "    <tr>\n",
       "      <th>169</th>\n",
       "      <td>8</td>\n",
       "      <td>Antigua-et-Barbuda</td>\n",
       "      <td>2017</td>\n",
       "      <td>95426</td>\n",
       "      <td>5.549226</td>\n",
       "    </tr>\n",
       "    <tr>\n",
       "      <th>207</th>\n",
       "      <td>194</td>\n",
       "      <td>Arabie saoudite</td>\n",
       "      <td>2017</td>\n",
       "      <td>33101178</td>\n",
       "      <td>13.535557</td>\n",
       "    </tr>\n",
       "  </tbody>\n",
       "</table>\n",
       "</div>"
      ],
      "text/plain": [
       "     Code zone                Zone  Année  Population  \\\n",
       "17           2         Afghanistan   2017    36296113   \n",
       "36         202      Afrique du Sud   2017    57009756   \n",
       "55           3             Albanie   2017     2884169   \n",
       "74           4             Algérie   2017    41389189   \n",
       "93          79           Allemagne   2017    82658409   \n",
       "112          6             Andorre   2017       77001   \n",
       "131          7              Angola   2017    29816766   \n",
       "150        258            Anguilla   2017       14584   \n",
       "169          8  Antigua-et-Barbuda   2017       95426   \n",
       "207        194     Arabie saoudite   2017    33101178   \n",
       "\n",
       "     variation_pop%_2012_2017  \n",
       "17                  16.477889  \n",
       "36                   7.906280  \n",
       "55                  -1.026974  \n",
       "74                  10.713956  \n",
       "93                   2.081915  \n",
       "112                 -6.582794  \n",
       "131                 18.754373  \n",
       "150                  5.719464  \n",
       "169                  5.549226  \n",
       "207                 13.535557  "
      ]
     },
     "execution_count": 32,
     "metadata": {},
     "output_type": "execute_result"
    }
   ],
   "source": [
    "df_pop_2017.head(10)"
   ]
  },
  {
   "cell_type": "code",
   "execution_count": 33,
   "metadata": {},
   "outputs": [
    {
     "name": "stdout",
     "output_type": "stream",
     "text": [
      "<class 'pandas.core.frame.DataFrame'>\n",
      "Int64Index: 235 entries, 17 to 4409\n",
      "Data columns (total 5 columns):\n",
      " #   Column                    Non-Null Count  Dtype  \n",
      "---  ------                    --------------  -----  \n",
      " 0   Code zone                 235 non-null    int64  \n",
      " 1   Zone                      235 non-null    object \n",
      " 2   Année                     235 non-null    int64  \n",
      " 3   Population                235 non-null    int64  \n",
      " 4   variation_pop%_2012_2017  235 non-null    float64\n",
      "dtypes: float64(1), int64(3), object(1)\n",
      "memory usage: 11.0+ KB\n"
     ]
    }
   ],
   "source": [
    "df_pop_2017.info()"
   ]
  },
  {
   "cell_type": "markdown",
   "metadata": {},
   "source": [
    "## reprise à partir des deux tables sources, fusion sur année 2017"
   ]
  },
  {
   "cell_type": "code",
   "execution_count": 34,
   "metadata": {},
   "outputs": [
    {
     "data": {
      "text/html": [
       "<div>\n",
       "<style scoped>\n",
       "    .dataframe tbody tr th:only-of-type {\n",
       "        vertical-align: middle;\n",
       "    }\n",
       "\n",
       "    .dataframe tbody tr th {\n",
       "        vertical-align: top;\n",
       "    }\n",
       "\n",
       "    .dataframe thead th {\n",
       "        text-align: right;\n",
       "    }\n",
       "</style>\n",
       "<table border=\"1\" class=\"dataframe\">\n",
       "  <thead>\n",
       "    <tr style=\"text-align: right;\">\n",
       "      <th>Élément</th>\n",
       "      <th>Code zone</th>\n",
       "      <th>Zone</th>\n",
       "      <th>Disponibilité alimentaire (Kcal/personne/jour)</th>\n",
       "      <th>Disponibilité alimentaire en quantité (kg/personne/an)</th>\n",
       "      <th>Disponibilité de matière grasse en quantité (g/personne/jour)</th>\n",
       "      <th>Disponibilité de protéines en quantité (g/personne/jour)</th>\n",
       "      <th>Disponibilité intérieure</th>\n",
       "      <th>Exportations - Quantité</th>\n",
       "      <th>Importations - Quantité</th>\n",
       "      <th>Nourriture</th>\n",
       "      <th>Production</th>\n",
       "      <th>Résidus</th>\n",
       "      <th>Variation de stock</th>\n",
       "    </tr>\n",
       "  </thead>\n",
       "  <tbody>\n",
       "    <tr>\n",
       "      <th>0</th>\n",
       "      <td>1</td>\n",
       "      <td>Arménie</td>\n",
       "      <td>54.0</td>\n",
       "      <td>16.06</td>\n",
       "      <td>3.39</td>\n",
       "      <td>5.44</td>\n",
       "      <td>47.0</td>\n",
       "      <td>0.0</td>\n",
       "      <td>35.0</td>\n",
       "      <td>47.0</td>\n",
       "      <td>11.0</td>\n",
       "      <td>0.0</td>\n",
       "      <td>-2.0</td>\n",
       "    </tr>\n",
       "    <tr>\n",
       "      <th>1</th>\n",
       "      <td>2</td>\n",
       "      <td>Afghanistan</td>\n",
       "      <td>5.0</td>\n",
       "      <td>1.53</td>\n",
       "      <td>0.33</td>\n",
       "      <td>0.54</td>\n",
       "      <td>57.0</td>\n",
       "      <td>NaN</td>\n",
       "      <td>29.0</td>\n",
       "      <td>55.0</td>\n",
       "      <td>28.0</td>\n",
       "      <td>0.0</td>\n",
       "      <td>0.0</td>\n",
       "    </tr>\n",
       "    <tr>\n",
       "      <th>2</th>\n",
       "      <td>3</td>\n",
       "      <td>Albanie</td>\n",
       "      <td>85.0</td>\n",
       "      <td>16.36</td>\n",
       "      <td>6.45</td>\n",
       "      <td>6.26</td>\n",
       "      <td>47.0</td>\n",
       "      <td>0.0</td>\n",
       "      <td>38.0</td>\n",
       "      <td>47.0</td>\n",
       "      <td>13.0</td>\n",
       "      <td>0.0</td>\n",
       "      <td>4.0</td>\n",
       "    </tr>\n",
       "    <tr>\n",
       "      <th>3</th>\n",
       "      <td>4</td>\n",
       "      <td>Algérie</td>\n",
       "      <td>22.0</td>\n",
       "      <td>6.38</td>\n",
       "      <td>1.50</td>\n",
       "      <td>1.97</td>\n",
       "      <td>277.0</td>\n",
       "      <td>0.0</td>\n",
       "      <td>2.0</td>\n",
       "      <td>264.0</td>\n",
       "      <td>275.0</td>\n",
       "      <td>0.0</td>\n",
       "      <td>0.0</td>\n",
       "    </tr>\n",
       "    <tr>\n",
       "      <th>4</th>\n",
       "      <td>7</td>\n",
       "      <td>Angola</td>\n",
       "      <td>35.0</td>\n",
       "      <td>10.56</td>\n",
       "      <td>2.22</td>\n",
       "      <td>3.60</td>\n",
       "      <td>319.0</td>\n",
       "      <td>0.0</td>\n",
       "      <td>277.0</td>\n",
       "      <td>315.0</td>\n",
       "      <td>42.0</td>\n",
       "      <td>0.0</td>\n",
       "      <td>0.0</td>\n",
       "    </tr>\n",
       "  </tbody>\n",
       "</table>\n",
       "</div>"
      ],
      "text/plain": [
       "Élément  Code zone         Zone  \\\n",
       "0                1      Arménie   \n",
       "1                2  Afghanistan   \n",
       "2                3      Albanie   \n",
       "3                4      Algérie   \n",
       "4                7       Angola   \n",
       "\n",
       "Élément  Disponibilité alimentaire (Kcal/personne/jour)  \\\n",
       "0                                                  54.0   \n",
       "1                                                   5.0   \n",
       "2                                                  85.0   \n",
       "3                                                  22.0   \n",
       "4                                                  35.0   \n",
       "\n",
       "Élément  Disponibilité alimentaire en quantité (kg/personne/an)  \\\n",
       "0                                                    16.06        \n",
       "1                                                     1.53        \n",
       "2                                                    16.36        \n",
       "3                                                     6.38        \n",
       "4                                                    10.56        \n",
       "\n",
       "Élément  Disponibilité de matière grasse en quantité (g/personne/jour)  \\\n",
       "0                                                     3.39               \n",
       "1                                                     0.33               \n",
       "2                                                     6.45               \n",
       "3                                                     1.50               \n",
       "4                                                     2.22               \n",
       "\n",
       "Élément  Disponibilité de protéines en quantité (g/personne/jour)  \\\n",
       "0                                                     5.44          \n",
       "1                                                     0.54          \n",
       "2                                                     6.26          \n",
       "3                                                     1.97          \n",
       "4                                                     3.60          \n",
       "\n",
       "Élément  Disponibilité intérieure  Exportations - Quantité  \\\n",
       "0                            47.0                      0.0   \n",
       "1                            57.0                      NaN   \n",
       "2                            47.0                      0.0   \n",
       "3                           277.0                      0.0   \n",
       "4                           319.0                      0.0   \n",
       "\n",
       "Élément  Importations - Quantité  Nourriture  Production  Résidus  \\\n",
       "0                           35.0        47.0        11.0      0.0   \n",
       "1                           29.0        55.0        28.0      0.0   \n",
       "2                           38.0        47.0        13.0      0.0   \n",
       "3                            2.0       264.0       275.0      0.0   \n",
       "4                          277.0       315.0        42.0      0.0   \n",
       "\n",
       "Élément  Variation de stock  \n",
       "0                      -2.0  \n",
       "1                       0.0  \n",
       "2                       4.0  \n",
       "3                       0.0  \n",
       "4                       0.0  "
      ]
     },
     "execution_count": 34,
     "metadata": {},
     "output_type": "execute_result"
    }
   ],
   "source": [
    "df_dispo_alim2017.head()"
   ]
  },
  {
   "cell_type": "code",
   "execution_count": 35,
   "metadata": {},
   "outputs": [
    {
     "data": {
      "text/html": [
       "<div>\n",
       "<style scoped>\n",
       "    .dataframe tbody tr th:only-of-type {\n",
       "        vertical-align: middle;\n",
       "    }\n",
       "\n",
       "    .dataframe tbody tr th {\n",
       "        vertical-align: top;\n",
       "    }\n",
       "\n",
       "    .dataframe thead th {\n",
       "        text-align: right;\n",
       "    }\n",
       "</style>\n",
       "<table border=\"1\" class=\"dataframe\">\n",
       "  <thead>\n",
       "    <tr style=\"text-align: right;\">\n",
       "      <th></th>\n",
       "      <th>Code zone</th>\n",
       "      <th>Zone</th>\n",
       "      <th>Année</th>\n",
       "      <th>Population</th>\n",
       "      <th>variation_pop%_2012_2017</th>\n",
       "    </tr>\n",
       "  </thead>\n",
       "  <tbody>\n",
       "    <tr>\n",
       "      <th>17</th>\n",
       "      <td>2</td>\n",
       "      <td>Afghanistan</td>\n",
       "      <td>2017</td>\n",
       "      <td>36296113</td>\n",
       "      <td>16.477889</td>\n",
       "    </tr>\n",
       "    <tr>\n",
       "      <th>36</th>\n",
       "      <td>202</td>\n",
       "      <td>Afrique du Sud</td>\n",
       "      <td>2017</td>\n",
       "      <td>57009756</td>\n",
       "      <td>7.906280</td>\n",
       "    </tr>\n",
       "    <tr>\n",
       "      <th>55</th>\n",
       "      <td>3</td>\n",
       "      <td>Albanie</td>\n",
       "      <td>2017</td>\n",
       "      <td>2884169</td>\n",
       "      <td>-1.026974</td>\n",
       "    </tr>\n",
       "    <tr>\n",
       "      <th>74</th>\n",
       "      <td>4</td>\n",
       "      <td>Algérie</td>\n",
       "      <td>2017</td>\n",
       "      <td>41389189</td>\n",
       "      <td>10.713956</td>\n",
       "    </tr>\n",
       "    <tr>\n",
       "      <th>93</th>\n",
       "      <td>79</td>\n",
       "      <td>Allemagne</td>\n",
       "      <td>2017</td>\n",
       "      <td>82658409</td>\n",
       "      <td>2.081915</td>\n",
       "    </tr>\n",
       "  </tbody>\n",
       "</table>\n",
       "</div>"
      ],
      "text/plain": [
       "    Code zone            Zone  Année  Population  variation_pop%_2012_2017\n",
       "17          2     Afghanistan   2017    36296113                 16.477889\n",
       "36        202  Afrique du Sud   2017    57009756                  7.906280\n",
       "55          3         Albanie   2017     2884169                 -1.026974\n",
       "74          4         Algérie   2017    41389189                 10.713956\n",
       "93         79       Allemagne   2017    82658409                  2.081915"
      ]
     },
     "execution_count": 35,
     "metadata": {},
     "output_type": "execute_result"
    }
   ],
   "source": [
    "df_pop_2017.reset_index()\n",
    "df_pop_2017.head()"
   ]
  },
  {
   "cell_type": "code",
   "execution_count": 36,
   "metadata": {},
   "outputs": [],
   "source": [
    "df_final0 = df_dispo_alim2017.merge(df_pop_2017, how = 'inner', on = ['Code zone','Zone'])"
   ]
  },
  {
   "cell_type": "code",
   "execution_count": 37,
   "metadata": {},
   "outputs": [
    {
     "data": {
      "text/html": [
       "<div>\n",
       "<style scoped>\n",
       "    .dataframe tbody tr th:only-of-type {\n",
       "        vertical-align: middle;\n",
       "    }\n",
       "\n",
       "    .dataframe tbody tr th {\n",
       "        vertical-align: top;\n",
       "    }\n",
       "\n",
       "    .dataframe thead th {\n",
       "        text-align: right;\n",
       "    }\n",
       "</style>\n",
       "<table border=\"1\" class=\"dataframe\">\n",
       "  <thead>\n",
       "    <tr style=\"text-align: right;\">\n",
       "      <th></th>\n",
       "      <th>Code zone</th>\n",
       "      <th>Zone</th>\n",
       "      <th>Disponibilité alimentaire (Kcal/personne/jour)</th>\n",
       "      <th>Disponibilité alimentaire en quantité (kg/personne/an)</th>\n",
       "      <th>Disponibilité de matière grasse en quantité (g/personne/jour)</th>\n",
       "      <th>Disponibilité de protéines en quantité (g/personne/jour)</th>\n",
       "      <th>Disponibilité intérieure</th>\n",
       "      <th>Exportations - Quantité</th>\n",
       "      <th>Importations - Quantité</th>\n",
       "      <th>Nourriture</th>\n",
       "      <th>Production</th>\n",
       "      <th>Résidus</th>\n",
       "      <th>Variation de stock</th>\n",
       "      <th>Année</th>\n",
       "      <th>Population</th>\n",
       "      <th>variation_pop%_2012_2017</th>\n",
       "    </tr>\n",
       "  </thead>\n",
       "  <tbody>\n",
       "    <tr>\n",
       "      <th>0</th>\n",
       "      <td>1</td>\n",
       "      <td>Arménie</td>\n",
       "      <td>54.0</td>\n",
       "      <td>16.06</td>\n",
       "      <td>3.39</td>\n",
       "      <td>5.44</td>\n",
       "      <td>47.0</td>\n",
       "      <td>0.0</td>\n",
       "      <td>35.0</td>\n",
       "      <td>47.0</td>\n",
       "      <td>11.0</td>\n",
       "      <td>0.0</td>\n",
       "      <td>-2.0</td>\n",
       "      <td>2017</td>\n",
       "      <td>2944791</td>\n",
       "      <td>2.099587</td>\n",
       "    </tr>\n",
       "    <tr>\n",
       "      <th>1</th>\n",
       "      <td>2</td>\n",
       "      <td>Afghanistan</td>\n",
       "      <td>5.0</td>\n",
       "      <td>1.53</td>\n",
       "      <td>0.33</td>\n",
       "      <td>0.54</td>\n",
       "      <td>57.0</td>\n",
       "      <td>NaN</td>\n",
       "      <td>29.0</td>\n",
       "      <td>55.0</td>\n",
       "      <td>28.0</td>\n",
       "      <td>0.0</td>\n",
       "      <td>0.0</td>\n",
       "      <td>2017</td>\n",
       "      <td>36296113</td>\n",
       "      <td>16.477889</td>\n",
       "    </tr>\n",
       "    <tr>\n",
       "      <th>2</th>\n",
       "      <td>3</td>\n",
       "      <td>Albanie</td>\n",
       "      <td>85.0</td>\n",
       "      <td>16.36</td>\n",
       "      <td>6.45</td>\n",
       "      <td>6.26</td>\n",
       "      <td>47.0</td>\n",
       "      <td>0.0</td>\n",
       "      <td>38.0</td>\n",
       "      <td>47.0</td>\n",
       "      <td>13.0</td>\n",
       "      <td>0.0</td>\n",
       "      <td>4.0</td>\n",
       "      <td>2017</td>\n",
       "      <td>2884169</td>\n",
       "      <td>-1.026974</td>\n",
       "    </tr>\n",
       "    <tr>\n",
       "      <th>3</th>\n",
       "      <td>4</td>\n",
       "      <td>Algérie</td>\n",
       "      <td>22.0</td>\n",
       "      <td>6.38</td>\n",
       "      <td>1.50</td>\n",
       "      <td>1.97</td>\n",
       "      <td>277.0</td>\n",
       "      <td>0.0</td>\n",
       "      <td>2.0</td>\n",
       "      <td>264.0</td>\n",
       "      <td>275.0</td>\n",
       "      <td>0.0</td>\n",
       "      <td>0.0</td>\n",
       "      <td>2017</td>\n",
       "      <td>41389189</td>\n",
       "      <td>10.713956</td>\n",
       "    </tr>\n",
       "    <tr>\n",
       "      <th>4</th>\n",
       "      <td>7</td>\n",
       "      <td>Angola</td>\n",
       "      <td>35.0</td>\n",
       "      <td>10.56</td>\n",
       "      <td>2.22</td>\n",
       "      <td>3.60</td>\n",
       "      <td>319.0</td>\n",
       "      <td>0.0</td>\n",
       "      <td>277.0</td>\n",
       "      <td>315.0</td>\n",
       "      <td>42.0</td>\n",
       "      <td>0.0</td>\n",
       "      <td>0.0</td>\n",
       "      <td>2017</td>\n",
       "      <td>29816766</td>\n",
       "      <td>18.754373</td>\n",
       "    </tr>\n",
       "  </tbody>\n",
       "</table>\n",
       "</div>"
      ],
      "text/plain": [
       "   Code zone         Zone  Disponibilité alimentaire (Kcal/personne/jour)  \\\n",
       "0          1      Arménie                                            54.0   \n",
       "1          2  Afghanistan                                             5.0   \n",
       "2          3      Albanie                                            85.0   \n",
       "3          4      Algérie                                            22.0   \n",
       "4          7       Angola                                            35.0   \n",
       "\n",
       "   Disponibilité alimentaire en quantité (kg/personne/an)  \\\n",
       "0                                              16.06        \n",
       "1                                               1.53        \n",
       "2                                              16.36        \n",
       "3                                               6.38        \n",
       "4                                              10.56        \n",
       "\n",
       "   Disponibilité de matière grasse en quantité (g/personne/jour)  \\\n",
       "0                                               3.39               \n",
       "1                                               0.33               \n",
       "2                                               6.45               \n",
       "3                                               1.50               \n",
       "4                                               2.22               \n",
       "\n",
       "   Disponibilité de protéines en quantité (g/personne/jour)  \\\n",
       "0                                               5.44          \n",
       "1                                               0.54          \n",
       "2                                               6.26          \n",
       "3                                               1.97          \n",
       "4                                               3.60          \n",
       "\n",
       "   Disponibilité intérieure  Exportations - Quantité  Importations - Quantité  \\\n",
       "0                      47.0                      0.0                     35.0   \n",
       "1                      57.0                      NaN                     29.0   \n",
       "2                      47.0                      0.0                     38.0   \n",
       "3                     277.0                      0.0                      2.0   \n",
       "4                     319.0                      0.0                    277.0   \n",
       "\n",
       "   Nourriture  Production  Résidus  Variation de stock  Année  Population  \\\n",
       "0        47.0        11.0      0.0                -2.0   2017     2944791   \n",
       "1        55.0        28.0      0.0                 0.0   2017    36296113   \n",
       "2        47.0        13.0      0.0                 4.0   2017     2884169   \n",
       "3       264.0       275.0      0.0                 0.0   2017    41389189   \n",
       "4       315.0        42.0      0.0                 0.0   2017    29816766   \n",
       "\n",
       "   variation_pop%_2012_2017  \n",
       "0                  2.099587  \n",
       "1                 16.477889  \n",
       "2                 -1.026974  \n",
       "3                 10.713956  \n",
       "4                 18.754373  "
      ]
     },
     "execution_count": 37,
     "metadata": {},
     "output_type": "execute_result"
    }
   ],
   "source": [
    "df_final0.head()"
   ]
  },
  {
   "cell_type": "code",
   "execution_count": 38,
   "metadata": {},
   "outputs": [
    {
     "data": {
      "text/plain": [
       "172"
      ]
     },
     "execution_count": 38,
     "metadata": {},
     "output_type": "execute_result"
    }
   ],
   "source": [
    "del df_final0['Année']\n",
    "len(df_final0['Zone'].unique())"
   ]
  },
  {
   "cell_type": "code",
   "execution_count": 39,
   "metadata": {},
   "outputs": [
    {
     "data": {
      "text/plain": [
       "array(['Arménie', 'Afghanistan', 'Albanie', 'Algérie', 'Angola',\n",
       "       'Antigua-et-Barbuda', 'Argentine', 'Australie', 'Autriche',\n",
       "       'Bahamas', 'Barbade', 'Bangladesh',\n",
       "       'Bolivie (État plurinational de)', 'Botswana', 'Brésil', 'Belize',\n",
       "       'Îles Salomon', 'Bulgarie', 'Myanmar', 'Cameroun', 'Canada',\n",
       "       'Cabo Verde', 'République centrafricaine', 'Sri Lanka', 'Tchad',\n",
       "       'Chili', 'Chine, continentale', 'Colombie', 'Congo', 'Costa Rica',\n",
       "       'Cuba', 'Chypre', 'Azerbaïdjan', 'Bénin', 'Danemark', 'Dominique',\n",
       "       'République dominicaine', 'Bélarus', 'Équateur', 'Égypte',\n",
       "       'El Salvador', 'Estonie', 'Fidji', 'Finlande', 'France',\n",
       "       'Polynésie française', 'Djibouti', 'Géorgie', 'Gabon', 'Gambie',\n",
       "       'Allemagne', 'Bosnie-Herzégovine', 'Ghana', 'Kiribati', 'Grèce',\n",
       "       'Grenade', 'Guatemala', 'Guinée', 'Guyana', 'Haïti', 'Honduras',\n",
       "       'Chine - RAS de Hong-Kong', 'Hongrie', 'Croatie', 'Islande',\n",
       "       'Inde', 'Indonésie', \"Iran (République islamique d')\", 'Iraq',\n",
       "       'Irlande', 'Israël', 'Italie', \"Côte d'Ivoire\", 'Kazakhstan',\n",
       "       'Jamaïque', 'Japon', 'Jordanie', 'Kirghizistan', 'Kenya',\n",
       "       'Cambodge', 'République populaire démocratique de Corée',\n",
       "       'République de Corée', 'Koweït', 'Lettonie',\n",
       "       'République démocratique populaire lao', 'Liban', 'Lesotho',\n",
       "       'Libéria', 'Lituanie', 'Chine - RAS de Macao', 'Madagascar',\n",
       "       'Malawi', 'Malaisie', 'Maldives', 'Mali', 'Malte', 'Mauritanie',\n",
       "       'Maurice', 'Mexique', 'Mongolie', 'Maroc', 'Mozambique',\n",
       "       'République de Moldova', 'Namibie', 'Népal', 'Pays-Bas',\n",
       "       'Nouvelle-Calédonie', 'Macédoine du Nord', 'Vanuatu',\n",
       "       'Nouvelle-Zélande', 'Nicaragua', 'Niger', 'Nigéria', 'Norvège',\n",
       "       'Pakistan', 'Panama', 'Tchéquie', 'Paraguay', 'Pérou',\n",
       "       'Philippines', 'Pologne', 'Portugal', 'Guinée-Bissau',\n",
       "       'Timor-Leste', 'Zimbabwe', 'Roumanie', 'Rwanda',\n",
       "       'Fédération de Russie', 'Saint-Kitts-et-Nevis', 'Sainte-Lucie',\n",
       "       'Saint-Vincent-et-les Grenadines', 'Sao Tomé-et-Principe',\n",
       "       'Arabie saoudite', 'Sénégal', 'Sierra Leone', 'Slovénie',\n",
       "       'Slovaquie', 'Afrique du Sud', 'Espagne', 'Suriname',\n",
       "       'Tadjikistan', 'Eswatini', 'Suède', 'Suisse', 'Turkménistan',\n",
       "       'Chine, Taiwan Province de', 'République-Unie de Tanzanie',\n",
       "       'Thaïlande', 'Togo', 'Trinité-et-Tobago', 'Oman', 'Tunisie',\n",
       "       'Turquie', 'Émirats arabes unis', 'Ouganda',\n",
       "       \"Royaume-Uni de Grande-Bretagne et d'Irlande du Nord\", 'Ukraine',\n",
       "       \"États-Unis d'Amérique\", 'Burkina Faso', 'Uruguay', 'Ouzbékistan',\n",
       "       'Venezuela (République bolivarienne du)', 'Viet Nam', 'Éthiopie',\n",
       "       'Samoa', 'Yémen', 'Zambie', 'Belgique', 'Luxembourg', 'Serbie',\n",
       "       'Monténégro', 'Soudan'], dtype=object)"
      ]
     },
     "execution_count": 39,
     "metadata": {},
     "output_type": "execute_result"
    }
   ],
   "source": [
    "df_final0 = df_final0.rename(columns = {\"Code zone\": \"Code_zone\"})\n",
    "df_final0['Zone'].unique()"
   ]
  },
  {
   "cell_type": "code",
   "execution_count": 40,
   "metadata": {},
   "outputs": [
    {
     "name": "stdout",
     "output_type": "stream",
     "text": [
      "['Andorre', 'Anguilla', 'Aruba', 'Bahreïn', 'Bermudes', 'Bhoutan', 'Bonaire, Saint-Eustache et Saba', 'Brunéi Darussalam', 'Burundi', 'Comores', 'Curaçao', 'Gibraltar', 'Groenland', 'Guadeloupe', 'Guam', 'Guinée équatoriale', 'Guyane française', 'Libye', 'Liechtenstein', 'Martinique', 'Mayotte', 'Micronésie (États fédérés de)', 'Monaco', 'Montserrat', 'Nauru', 'Nioué', 'Palaos', 'Palestine', 'Papouasie-Nouvelle-Guinée', 'Porto Rico', 'Qatar', 'République arabe syrienne', 'République démocratique du Congo', 'Réunion', 'Sahara occidental', 'Saint-Barthélemy', 'Saint-Marin', 'Saint-Martin (partie française)', 'Saint-Pierre-et-Miquelon', 'Saint-Siège', 'Sainte-Hélène, Ascension et Tristan da Cunha', 'Samoa américaines', 'Seychelles', 'Singapour', 'Sint Maarten  (partie néerlandaise)', 'Somalie', 'Soudan du Sud', 'Tokélaou', 'Tonga', 'Tuvalu', 'Érythrée', 'Île de Man', 'Îles Anglo-Normandes', 'Îles Caïmanes', 'Îles Cook', 'Îles Falkland (Malvinas)', 'Îles Féroé', 'Îles Mariannes du Nord', 'Îles Marshall', 'Îles Turques-et-Caïques', 'Îles Vierges américaines', 'Îles Vierges britanniques', 'Îles Wallis-et-Futuna']\n"
     ]
    }
   ],
   "source": [
    "difference_1 = np.setdiff1d(df_dispo_alim2017['Zone'], df_pop_2012_2018['Zone'])\n",
    "difference_2 = np.setdiff1d(df_pop_2012_2018['Zone'], df_dispo_alim2017['Zone'])\n",
    "\n",
    "list_difference = np.concatenate((difference_1, difference_2))\n",
    "print(list(list_difference))"
   ]
  },
  {
   "cell_type": "markdown",
   "metadata": {},
   "source": [
    "### importation de données supplémentaires de la FAO"
   ]
  },
  {
   "cell_type": "code",
   "execution_count": 41,
   "metadata": {},
   "outputs": [],
   "source": [
    "df_PIB_hab = pd.read_csv(r\"/home/tanguy/Bureau/donnees_supp_dollar.csv\")\n",
    "df_securite_pol = pd.read_csv(r\"/home/tanguy/Bureau/securite_pol.csv\")"
   ]
  },
  {
   "cell_type": "code",
   "execution_count": 42,
   "metadata": {},
   "outputs": [],
   "source": [
    "df_securite_pol = df_securite_pol.loc[:,[\"Code zone (FAO)\",\"Zone\",\"Valeur\"]]\n",
    "df_PIB_hab = df_PIB_hab.loc[:,[\"Code zone (FAO)\",\"Zone\",\"Produit\",\"Unit?\",\"Valeur\"]]"
   ]
  },
  {
   "cell_type": "code",
   "execution_count": 43,
   "metadata": {},
   "outputs": [
    {
     "data": {
      "text/html": [
       "<div>\n",
       "<style scoped>\n",
       "    .dataframe tbody tr th:only-of-type {\n",
       "        vertical-align: middle;\n",
       "    }\n",
       "\n",
       "    .dataframe tbody tr th {\n",
       "        vertical-align: top;\n",
       "    }\n",
       "\n",
       "    .dataframe thead th {\n",
       "        text-align: right;\n",
       "    }\n",
       "</style>\n",
       "<table border=\"1\" class=\"dataframe\">\n",
       "  <thead>\n",
       "    <tr style=\"text-align: right;\">\n",
       "      <th></th>\n",
       "      <th>Code zone (FAO)</th>\n",
       "      <th>Zone</th>\n",
       "      <th>Valeur</th>\n",
       "    </tr>\n",
       "  </thead>\n",
       "  <tbody>\n",
       "    <tr>\n",
       "      <th>0</th>\n",
       "      <td>2</td>\n",
       "      <td>Afghanistan</td>\n",
       "      <td>-2.80</td>\n",
       "    </tr>\n",
       "    <tr>\n",
       "      <th>1</th>\n",
       "      <td>202</td>\n",
       "      <td>Afrique du Sud</td>\n",
       "      <td>-0.28</td>\n",
       "    </tr>\n",
       "    <tr>\n",
       "      <th>2</th>\n",
       "      <td>3</td>\n",
       "      <td>Albanie</td>\n",
       "      <td>0.38</td>\n",
       "    </tr>\n",
       "  </tbody>\n",
       "</table>\n",
       "</div>"
      ],
      "text/plain": [
       "   Code zone (FAO)            Zone  Valeur\n",
       "0                2     Afghanistan   -2.80\n",
       "1              202  Afrique du Sud   -0.28\n",
       "2                3         Albanie    0.38"
      ]
     },
     "execution_count": 43,
     "metadata": {},
     "output_type": "execute_result"
    }
   ],
   "source": [
    "df_securite_pol.head(3)"
   ]
  },
  {
   "cell_type": "code",
   "execution_count": 44,
   "metadata": {},
   "outputs": [],
   "source": [
    "df_PIB_hab = df_PIB_hab.rename(columns={\"Code zone (FAO)\": \"Code_zone\", \"Unit?\": \"Unite\"})\n",
    "df_securite_pol = df_securite_pol.rename(columns={\"Code zone (FAO)\": \"Code_zone\"})"
   ]
  },
  {
   "cell_type": "markdown",
   "metadata": {},
   "source": [
    "#### on fusionne les tables supp sur le Code_zone"
   ]
  },
  {
   "cell_type": "code",
   "execution_count": 45,
   "metadata": {},
   "outputs": [],
   "source": [
    "df_final2 = pd.merge(df_PIB_hab,df_securite_pol, how= 'left', on = 'Code_zone')\n",
    "df_que_PIB = df_final2[df_final2['Unite'].eq('I$')]\n",
    "df_besoin_energ = df_final2[df_final2['Unite'].eq('Kcal/personne/jour')]"
   ]
  },
  {
   "cell_type": "code",
   "execution_count": 46,
   "metadata": {},
   "outputs": [
    {
     "data": {
      "text/html": [
       "<div>\n",
       "<style scoped>\n",
       "    .dataframe tbody tr th:only-of-type {\n",
       "        vertical-align: middle;\n",
       "    }\n",
       "\n",
       "    .dataframe tbody tr th {\n",
       "        vertical-align: top;\n",
       "    }\n",
       "\n",
       "    .dataframe thead th {\n",
       "        text-align: right;\n",
       "    }\n",
       "</style>\n",
       "<table border=\"1\" class=\"dataframe\">\n",
       "  <thead>\n",
       "    <tr style=\"text-align: right;\">\n",
       "      <th></th>\n",
       "      <th>Code_zone</th>\n",
       "      <th>Zone</th>\n",
       "      <th>Dollar_an_hab</th>\n",
       "      <th>Stabilite_pol</th>\n",
       "      <th>Besoin_energ_moyen(kcal,pers,jour)</th>\n",
       "    </tr>\n",
       "  </thead>\n",
       "  <tbody>\n",
       "    <tr>\n",
       "      <th>0</th>\n",
       "      <td>2</td>\n",
       "      <td>Afghanistan</td>\n",
       "      <td>2058.4</td>\n",
       "      <td>-2.80</td>\n",
       "      <td>2134.0</td>\n",
       "    </tr>\n",
       "    <tr>\n",
       "      <th>1</th>\n",
       "      <td>202</td>\n",
       "      <td>Afrique du Sud</td>\n",
       "      <td>12701.3</td>\n",
       "      <td>-0.28</td>\n",
       "      <td>2406.0</td>\n",
       "    </tr>\n",
       "    <tr>\n",
       "      <th>2</th>\n",
       "      <td>3</td>\n",
       "      <td>Albanie</td>\n",
       "      <td>12771.0</td>\n",
       "      <td>0.38</td>\n",
       "      <td>2490.0</td>\n",
       "    </tr>\n",
       "    <tr>\n",
       "      <th>3</th>\n",
       "      <td>4</td>\n",
       "      <td>Algérie</td>\n",
       "      <td>11737.4</td>\n",
       "      <td>-0.92</td>\n",
       "      <td>2289.0</td>\n",
       "    </tr>\n",
       "    <tr>\n",
       "      <th>4</th>\n",
       "      <td>79</td>\n",
       "      <td>Allemagne</td>\n",
       "      <td>52952.9</td>\n",
       "      <td>0.59</td>\n",
       "      <td>2545.0</td>\n",
       "    </tr>\n",
       "  </tbody>\n",
       "</table>\n",
       "</div>"
      ],
      "text/plain": [
       "   Code_zone            Zone  Dollar_an_hab  Stabilite_pol  \\\n",
       "0          2     Afghanistan         2058.4          -2.80   \n",
       "1        202  Afrique du Sud        12701.3          -0.28   \n",
       "2          3         Albanie        12771.0           0.38   \n",
       "3          4         Algérie        11737.4          -0.92   \n",
       "4         79       Allemagne        52952.9           0.59   \n",
       "\n",
       "   Besoin_energ_moyen(kcal,pers,jour)  \n",
       "0                              2134.0  \n",
       "1                              2406.0  \n",
       "2                              2490.0  \n",
       "3                              2289.0  \n",
       "4                              2545.0  "
      ]
     },
     "execution_count": 46,
     "metadata": {},
     "output_type": "execute_result"
    }
   ],
   "source": [
    "df_final3 = pd.merge(df_que_PIB,df_besoin_energ, how= 'inner', on = 'Code_zone')\n",
    "df_final3 = df_final3.rename(columns = {'Valeur_x_x':\"Dollar_an_hab\", \"Zone_y_x\":\"Zone\",\"Valeur_y_x\":\"Stabilite_pol\", \"Valeur_x_y\": \"Besoin_energ_moyen(kcal,pers,jour)\"})\n",
    "df_final3 = df_final3.loc[:,[\"Code_zone\", \"Zone\", \"Dollar_an_hab\", \"Stabilite_pol\", \"Besoin_energ_moyen(kcal,pers,jour)\"]]\n",
    "df_final3.head()"
   ]
  },
  {
   "cell_type": "markdown",
   "metadata": {},
   "source": [
    "### le df_final:"
   ]
  },
  {
   "cell_type": "code",
   "execution_count": 47,
   "metadata": {},
   "outputs": [
    {
     "data": {
      "text/html": [
       "<div>\n",
       "<style scoped>\n",
       "    .dataframe tbody tr th:only-of-type {\n",
       "        vertical-align: middle;\n",
       "    }\n",
       "\n",
       "    .dataframe tbody tr th {\n",
       "        vertical-align: top;\n",
       "    }\n",
       "\n",
       "    .dataframe thead th {\n",
       "        text-align: right;\n",
       "    }\n",
       "</style>\n",
       "<table border=\"1\" class=\"dataframe\">\n",
       "  <thead>\n",
       "    <tr style=\"text-align: right;\">\n",
       "      <th></th>\n",
       "      <th>Code_zone</th>\n",
       "      <th>Zone</th>\n",
       "      <th>Disponibilité alimentaire (Kcal/personne/jour)</th>\n",
       "      <th>Disponibilité alimentaire en quantité (kg/personne/an)</th>\n",
       "      <th>Disponibilité de matière grasse en quantité (g/personne/jour)</th>\n",
       "      <th>Disponibilité de protéines en quantité (g/personne/jour)</th>\n",
       "      <th>Disponibilité intérieure</th>\n",
       "      <th>Exportations - Quantité</th>\n",
       "      <th>Importations - Quantité</th>\n",
       "      <th>Nourriture</th>\n",
       "      <th>Production</th>\n",
       "      <th>Résidus</th>\n",
       "      <th>Variation de stock</th>\n",
       "      <th>Population</th>\n",
       "      <th>variation_pop%_2012_2017</th>\n",
       "      <th>Dollar_an_hab</th>\n",
       "      <th>Stabilite_pol</th>\n",
       "      <th>Besoin_energ_moyen(kcal,pers,jour)</th>\n",
       "    </tr>\n",
       "  </thead>\n",
       "  <tbody>\n",
       "    <tr>\n",
       "      <th>0</th>\n",
       "      <td>1</td>\n",
       "      <td>Arménie</td>\n",
       "      <td>54.0</td>\n",
       "      <td>16.06</td>\n",
       "      <td>3.39</td>\n",
       "      <td>5.44</td>\n",
       "      <td>47.0</td>\n",
       "      <td>0.0</td>\n",
       "      <td>35.0</td>\n",
       "      <td>47.0</td>\n",
       "      <td>11.0</td>\n",
       "      <td>0.0</td>\n",
       "      <td>-2.0</td>\n",
       "      <td>2944791</td>\n",
       "      <td>2.099587</td>\n",
       "      <td>12115.1</td>\n",
       "      <td>-0.62</td>\n",
       "      <td>2433.0</td>\n",
       "    </tr>\n",
       "    <tr>\n",
       "      <th>1</th>\n",
       "      <td>2</td>\n",
       "      <td>Afghanistan</td>\n",
       "      <td>5.0</td>\n",
       "      <td>1.53</td>\n",
       "      <td>0.33</td>\n",
       "      <td>0.54</td>\n",
       "      <td>57.0</td>\n",
       "      <td>NaN</td>\n",
       "      <td>29.0</td>\n",
       "      <td>55.0</td>\n",
       "      <td>28.0</td>\n",
       "      <td>0.0</td>\n",
       "      <td>0.0</td>\n",
       "      <td>36296113</td>\n",
       "      <td>16.477889</td>\n",
       "      <td>2058.4</td>\n",
       "      <td>-2.80</td>\n",
       "      <td>2134.0</td>\n",
       "    </tr>\n",
       "    <tr>\n",
       "      <th>2</th>\n",
       "      <td>3</td>\n",
       "      <td>Albanie</td>\n",
       "      <td>85.0</td>\n",
       "      <td>16.36</td>\n",
       "      <td>6.45</td>\n",
       "      <td>6.26</td>\n",
       "      <td>47.0</td>\n",
       "      <td>0.0</td>\n",
       "      <td>38.0</td>\n",
       "      <td>47.0</td>\n",
       "      <td>13.0</td>\n",
       "      <td>0.0</td>\n",
       "      <td>4.0</td>\n",
       "      <td>2884169</td>\n",
       "      <td>-1.026974</td>\n",
       "      <td>12771.0</td>\n",
       "      <td>0.38</td>\n",
       "      <td>2490.0</td>\n",
       "    </tr>\n",
       "    <tr>\n",
       "      <th>3</th>\n",
       "      <td>4</td>\n",
       "      <td>Algérie</td>\n",
       "      <td>22.0</td>\n",
       "      <td>6.38</td>\n",
       "      <td>1.50</td>\n",
       "      <td>1.97</td>\n",
       "      <td>277.0</td>\n",
       "      <td>0.0</td>\n",
       "      <td>2.0</td>\n",
       "      <td>264.0</td>\n",
       "      <td>275.0</td>\n",
       "      <td>0.0</td>\n",
       "      <td>0.0</td>\n",
       "      <td>41389189</td>\n",
       "      <td>10.713956</td>\n",
       "      <td>11737.4</td>\n",
       "      <td>-0.92</td>\n",
       "      <td>2289.0</td>\n",
       "    </tr>\n",
       "    <tr>\n",
       "      <th>4</th>\n",
       "      <td>7</td>\n",
       "      <td>Angola</td>\n",
       "      <td>35.0</td>\n",
       "      <td>10.56</td>\n",
       "      <td>2.22</td>\n",
       "      <td>3.60</td>\n",
       "      <td>319.0</td>\n",
       "      <td>0.0</td>\n",
       "      <td>277.0</td>\n",
       "      <td>315.0</td>\n",
       "      <td>42.0</td>\n",
       "      <td>0.0</td>\n",
       "      <td>0.0</td>\n",
       "      <td>29816766</td>\n",
       "      <td>18.754373</td>\n",
       "      <td>7310.9</td>\n",
       "      <td>-0.33</td>\n",
       "      <td>2105.0</td>\n",
       "    </tr>\n",
       "  </tbody>\n",
       "</table>\n",
       "</div>"
      ],
      "text/plain": [
       "   Code_zone         Zone  Disponibilité alimentaire (Kcal/personne/jour)  \\\n",
       "0          1      Arménie                                            54.0   \n",
       "1          2  Afghanistan                                             5.0   \n",
       "2          3      Albanie                                            85.0   \n",
       "3          4      Algérie                                            22.0   \n",
       "4          7       Angola                                            35.0   \n",
       "\n",
       "   Disponibilité alimentaire en quantité (kg/personne/an)  \\\n",
       "0                                              16.06        \n",
       "1                                               1.53        \n",
       "2                                              16.36        \n",
       "3                                               6.38        \n",
       "4                                              10.56        \n",
       "\n",
       "   Disponibilité de matière grasse en quantité (g/personne/jour)  \\\n",
       "0                                               3.39               \n",
       "1                                               0.33               \n",
       "2                                               6.45               \n",
       "3                                               1.50               \n",
       "4                                               2.22               \n",
       "\n",
       "   Disponibilité de protéines en quantité (g/personne/jour)  \\\n",
       "0                                               5.44          \n",
       "1                                               0.54          \n",
       "2                                               6.26          \n",
       "3                                               1.97          \n",
       "4                                               3.60          \n",
       "\n",
       "   Disponibilité intérieure  Exportations - Quantité  Importations - Quantité  \\\n",
       "0                      47.0                      0.0                     35.0   \n",
       "1                      57.0                      NaN                     29.0   \n",
       "2                      47.0                      0.0                     38.0   \n",
       "3                     277.0                      0.0                      2.0   \n",
       "4                     319.0                      0.0                    277.0   \n",
       "\n",
       "   Nourriture  Production  Résidus  Variation de stock  Population  \\\n",
       "0        47.0        11.0      0.0                -2.0     2944791   \n",
       "1        55.0        28.0      0.0                 0.0    36296113   \n",
       "2        47.0        13.0      0.0                 4.0     2884169   \n",
       "3       264.0       275.0      0.0                 0.0    41389189   \n",
       "4       315.0        42.0      0.0                 0.0    29816766   \n",
       "\n",
       "   variation_pop%_2012_2017  Dollar_an_hab  Stabilite_pol  \\\n",
       "0                  2.099587        12115.1          -0.62   \n",
       "1                 16.477889         2058.4          -2.80   \n",
       "2                 -1.026974        12771.0           0.38   \n",
       "3                 10.713956        11737.4          -0.92   \n",
       "4                 18.754373         7310.9          -0.33   \n",
       "\n",
       "   Besoin_energ_moyen(kcal,pers,jour)  \n",
       "0                              2433.0  \n",
       "1                              2134.0  \n",
       "2                              2490.0  \n",
       "3                              2289.0  \n",
       "4                              2105.0  "
      ]
     },
     "execution_count": 47,
     "metadata": {},
     "output_type": "execute_result"
    }
   ],
   "source": [
    "df_final = pd.merge(df_final0, df_final3, how = \"inner\", on = \"Code_zone\")\n",
    "del df_final[\"Zone_y\"]\n",
    "df_final = df_final.rename(columns = {\"Zone_x\": \"Zone\"})\n",
    "df_final.head(5)"
   ]
  },
  {
   "cell_type": "code",
   "execution_count": 48,
   "metadata": {
    "scrolled": true
   },
   "outputs": [
    {
     "data": {
      "text/plain": [
       "array(['Arménie', 'Afghanistan', 'Albanie', 'Algérie', 'Angola',\n",
       "       'Antigua-et-Barbuda', 'Argentine', 'Australie', 'Autriche',\n",
       "       'Bahamas', 'Barbade', 'Bangladesh',\n",
       "       'Bolivie (État plurinational de)', 'Botswana', 'Brésil', 'Belize',\n",
       "       'Îles Salomon', 'Bulgarie', 'Myanmar', 'Cameroun', 'Canada',\n",
       "       'Cabo Verde', 'République centrafricaine', 'Sri Lanka', 'Tchad',\n",
       "       'Chili', 'Colombie', 'Congo', 'Costa Rica', 'Chypre',\n",
       "       'Azerbaïdjan', 'Bénin', 'Danemark', 'Dominique',\n",
       "       'République dominicaine', 'Bélarus', 'Équateur', 'Égypte',\n",
       "       'El Salvador', 'Estonie', 'Fidji', 'Finlande', 'France',\n",
       "       'Djibouti', 'Géorgie', 'Gabon', 'Gambie', 'Allemagne',\n",
       "       'Bosnie-Herzégovine', 'Ghana', 'Kiribati', 'Grèce', 'Grenade',\n",
       "       'Guatemala', 'Guinée', 'Guyana', 'Haïti', 'Honduras',\n",
       "       'Chine - RAS de Hong-Kong', 'Hongrie', 'Croatie', 'Islande',\n",
       "       'Inde', 'Indonésie', \"Iran (République islamique d')\", 'Iraq',\n",
       "       'Irlande', 'Israël', 'Italie', \"Côte d'Ivoire\", 'Kazakhstan',\n",
       "       'Jamaïque', 'Japon', 'Jordanie', 'Kirghizistan', 'Kenya',\n",
       "       'Cambodge', 'République de Corée', 'Koweït', 'Lettonie',\n",
       "       'République démocratique populaire lao', 'Liban', 'Lesotho',\n",
       "       'Libéria', 'Lituanie', 'Chine - RAS de Macao', 'Madagascar',\n",
       "       'Malawi', 'Malaisie', 'Maldives', 'Mali', 'Malte', 'Mauritanie',\n",
       "       'Maurice', 'Mexique', 'Mongolie', 'Maroc', 'Mozambique',\n",
       "       'République de Moldova', 'Namibie', 'Népal', 'Pays-Bas',\n",
       "       'Macédoine du Nord', 'Vanuatu', 'Nouvelle-Zélande', 'Nicaragua',\n",
       "       'Niger', 'Nigéria', 'Norvège', 'Pakistan', 'Panama', 'Tchéquie',\n",
       "       'Paraguay', 'Pérou', 'Philippines', 'Pologne', 'Portugal',\n",
       "       'Guinée-Bissau', 'Timor-Leste', 'Zimbabwe', 'Roumanie', 'Rwanda',\n",
       "       'Fédération de Russie', 'Saint-Kitts-et-Nevis', 'Sainte-Lucie',\n",
       "       'Saint-Vincent-et-les Grenadines', 'Sao Tomé-et-Principe',\n",
       "       'Arabie saoudite', 'Sénégal', 'Sierra Leone', 'Slovénie',\n",
       "       'Slovaquie', 'Afrique du Sud', 'Espagne', 'Suriname',\n",
       "       'Tadjikistan', 'Eswatini', 'Suède', 'Suisse', 'Turkménistan',\n",
       "       'République-Unie de Tanzanie', 'Thaïlande', 'Togo',\n",
       "       'Trinité-et-Tobago', 'Oman', 'Tunisie', 'Turquie',\n",
       "       'Émirats arabes unis', 'Ouganda',\n",
       "       \"Royaume-Uni de Grande-Bretagne et d'Irlande du Nord\", 'Ukraine',\n",
       "       \"États-Unis d'Amérique\", 'Burkina Faso', 'Uruguay', 'Ouzbékistan',\n",
       "       'Viet Nam', 'Éthiopie', 'Samoa', 'Zambie', 'Belgique',\n",
       "       'Luxembourg', 'Serbie', 'Monténégro', 'Soudan'], dtype=object)"
      ]
     },
     "execution_count": 48,
     "metadata": {},
     "output_type": "execute_result"
    }
   ],
   "source": [
    "df_final['Zone'].unique()"
   ]
  },
  {
   "cell_type": "code",
   "execution_count": 49,
   "metadata": {},
   "outputs": [
    {
     "name": "stdout",
     "output_type": "stream",
     "text": [
      "<class 'pandas.core.frame.DataFrame'>\n",
      "Int64Index: 164 entries, 0 to 163\n",
      "Data columns (total 18 columns):\n",
      " #   Column                                                         Non-Null Count  Dtype  \n",
      "---  ------                                                         --------------  -----  \n",
      " 0   Code_zone                                                      164 non-null    int64  \n",
      " 1   Zone                                                           164 non-null    object \n",
      " 2   Disponibilité alimentaire (Kcal/personne/jour)                 164 non-null    float64\n",
      " 3   Disponibilité alimentaire en quantité (kg/personne/an)         164 non-null    float64\n",
      " 4   Disponibilité de matière grasse en quantité (g/personne/jour)  164 non-null    float64\n",
      " 5   Disponibilité de protéines en quantité (g/personne/jour)       164 non-null    float64\n",
      " 6   Disponibilité intérieure                                       162 non-null    float64\n",
      " 7   Exportations - Quantité                                        129 non-null    float64\n",
      " 8   Importations - Quantité                                        162 non-null    float64\n",
      " 9   Nourriture                                                     162 non-null    float64\n",
      " 10  Production                                                     160 non-null    float64\n",
      " 11  Résidus                                                        157 non-null    float64\n",
      " 12  Variation de stock                                             161 non-null    float64\n",
      " 13  Population                                                     164 non-null    int64  \n",
      " 14  variation_pop%_2012_2017                                       164 non-null    float64\n",
      " 15  Dollar_an_hab                                                  164 non-null    float64\n",
      " 16  Stabilite_pol                                                  164 non-null    float64\n",
      " 17  Besoin_energ_moyen(kcal,pers,jour)                             164 non-null    float64\n",
      "dtypes: float64(15), int64(2), object(1)\n",
      "memory usage: 24.3+ KB\n"
     ]
    }
   ],
   "source": [
    "df_final.info()"
   ]
  },
  {
   "cell_type": "code",
   "execution_count": 50,
   "metadata": {},
   "outputs": [
    {
     "name": "stdout",
     "output_type": "stream",
     "text": [
      "     Code_zone                                   Zone  \\\n",
      "80         120  République démocratique populaire lao   \n",
      "154        235                            Ouzbékistan   \n",
      "\n",
      "     Disponibilité alimentaire (Kcal/personne/jour)  \\\n",
      "80                                             41.0   \n",
      "154                                             6.0   \n",
      "\n",
      "     Disponibilité alimentaire en quantité (kg/personne/an)  \\\n",
      "80                                               10.91        \n",
      "154                                               1.96        \n",
      "\n",
      "     Disponibilité de matière grasse en quantité (g/personne/jour)  \\\n",
      "80                                                2.81               \n",
      "154                                               0.40               \n",
      "\n",
      "     Disponibilité de protéines en quantité (g/personne/jour)  \\\n",
      "80                                                3.59          \n",
      "154                                               0.63          \n",
      "\n",
      "     Disponibilité intérieure  Exportations - Quantité  \\\n",
      "80                        NaN                      NaN   \n",
      "154                       NaN                      NaN   \n",
      "\n",
      "     Importations - Quantité  Nourriture  Production  Résidus  \\\n",
      "80                       NaN         NaN         NaN      NaN   \n",
      "154                      NaN         NaN         NaN      NaN   \n",
      "\n",
      "     Variation de stock  Population  variation_pop%_2012_2017  Dollar_an_hab  \\\n",
      "80                  NaN     6953035                  7.890490         7257.8   \n",
      "154                 NaN    31959785                  8.524353         6518.8   \n",
      "\n",
      "     Stabilite_pol  Besoin_energ_moyen(kcal,pers,jour)  \n",
      "80            0.40                              2333.0  \n",
      "154          -0.24                              2372.0  \n"
     ]
    }
   ],
   "source": [
    "df1 = df_final[df_final['Disponibilité intérieure'].isna()]\n",
    "print (df1)"
   ]
  },
  {
   "cell_type": "code",
   "execution_count": 51,
   "metadata": {},
   "outputs": [
    {
     "name": "stdout",
     "output_type": "stream",
     "text": [
      "<class 'pandas.core.frame.DataFrame'>\n",
      "Int64Index: 162 entries, 0 to 163\n",
      "Data columns (total 18 columns):\n",
      " #   Column                                                         Non-Null Count  Dtype  \n",
      "---  ------                                                         --------------  -----  \n",
      " 0   Code_zone                                                      162 non-null    int64  \n",
      " 1   Zone                                                           162 non-null    object \n",
      " 2   Disponibilité alimentaire (Kcal/personne/jour)                 162 non-null    float64\n",
      " 3   Disponibilité alimentaire en quantité (kg/personne/an)         162 non-null    float64\n",
      " 4   Disponibilité de matière grasse en quantité (g/personne/jour)  162 non-null    float64\n",
      " 5   Disponibilité de protéines en quantité (g/personne/jour)       162 non-null    float64\n",
      " 6   Disponibilité intérieure                                       162 non-null    float64\n",
      " 7   Exportations - Quantité                                        129 non-null    float64\n",
      " 8   Importations - Quantité                                        162 non-null    float64\n",
      " 9   Nourriture                                                     162 non-null    float64\n",
      " 10  Production                                                     160 non-null    float64\n",
      " 11  Résidus                                                        157 non-null    float64\n",
      " 12  Variation de stock                                             161 non-null    float64\n",
      " 13  Population                                                     162 non-null    int64  \n",
      " 14  variation_pop%_2012_2017                                       162 non-null    float64\n",
      " 15  Dollar_an_hab                                                  162 non-null    float64\n",
      " 16  Stabilite_pol                                                  162 non-null    float64\n",
      " 17  Besoin_energ_moyen(kcal,pers,jour)                             162 non-null    float64\n",
      "dtypes: float64(15), int64(2), object(1)\n",
      "memory usage: 24.0+ KB\n"
     ]
    }
   ],
   "source": [
    "# On repère que deux pays n'ont aucun intérêt dans le dataframe et sont cause de beaucoup de Nan: nous les supprimons\n",
    "drop_deux = df_final[df_final['Disponibilité intérieure'].isna()].index\n",
    "\n",
    "df_final.drop(drop_deux , inplace=True)\n",
    "df_final.info()"
   ]
  },
  {
   "cell_type": "code",
   "execution_count": 52,
   "metadata": {},
   "outputs": [
    {
     "name": "stdout",
     "output_type": "stream",
     "text": [
      "    Code_zone      Zone  Disponibilité alimentaire (Kcal/personne/jour)  \\\n",
      "43         72  Djibouti                                             9.0   \n",
      "89        132  Maldives                                            47.0   \n",
      "\n",
      "    Disponibilité alimentaire en quantité (kg/personne/an)  \\\n",
      "43                                               2.68        \n",
      "89                                              13.50        \n",
      "\n",
      "    Disponibilité de matière grasse en quantité (g/personne/jour)  \\\n",
      "43                                               0.59               \n",
      "89                                               2.94               \n",
      "\n",
      "    Disponibilité de protéines en quantité (g/personne/jour)  \\\n",
      "43                                               0.92          \n",
      "89                                               4.70          \n",
      "\n",
      "    Disponibilité intérieure  Exportations - Quantité  \\\n",
      "43                       3.0                      NaN   \n",
      "89                      12.0                      NaN   \n",
      "\n",
      "    Importations - Quantité  Nourriture  Production  Résidus  \\\n",
      "43                      3.0         3.0         NaN      0.0   \n",
      "89                     12.0         7.0         NaN      0.0   \n",
      "\n",
      "    Variation de stock  Population  variation_pop%_2012_2017  Dollar_an_hab  \\\n",
      "43                 0.0      944099                  8.750001         4885.2   \n",
      "89                 0.0      496402                 24.963687        18058.6   \n",
      "\n",
      "    Stabilite_pol  Besoin_energ_moyen(kcal,pers,jour)  \n",
      "43          -0.74                              2407.0  \n",
      "89           0.23                              2470.0  \n"
     ]
    }
   ],
   "source": [
    "aucune_prod = df_final[df_final['Production'].isnull()]\n",
    "print(aucune_prod)"
   ]
  },
  {
   "cell_type": "code",
   "execution_count": 53,
   "metadata": {},
   "outputs": [
    {
     "data": {
      "text/plain": [
       "array([[<AxesSubplot:title={'center':'Résidus'}>,\n",
       "        <AxesSubplot:title={'center':'Variation de stock'}>],\n",
       "       [<AxesSubplot:title={'center':'Production'}>,\n",
       "        <AxesSubplot:title={'center':'Exportations - Quantité'}>]],\n",
       "      dtype=object)"
      ]
     },
     "execution_count": 53,
     "metadata": {},
     "output_type": "execute_result"
    },
    {
     "data": {
      "image/png": "[encoded data removed]",
      "text/plain": [
       "<Figure size 432x288 with 4 Axes>"
      ]
     },
     "metadata": {
      "needs_background": "light"
     },
     "output_type": "display_data"
    }
   ],
   "source": [
    "df_final.hist(column=['Résidus','Variation de stock','Production','Exportations - Quantité'])"
   ]
  },
  {
   "cell_type": "code",
   "execution_count": 54,
   "metadata": {},
   "outputs": [],
   "source": [
    "median = df_final['Résidus'].median()\n",
    "df_final['Résidus'].fillna(median, inplace=True)\n",
    "\n",
    "median = df_final['Variation de stock'].median()\n",
    "df_final['Variation de stock'].fillna(median, inplace=True)\n",
    "\n",
    "median = df_final['Production'].median()\n",
    "df_final['Production'].fillna(median, inplace=True)\n"
   ]
  },
  {
   "cell_type": "code",
   "execution_count": 55,
   "metadata": {},
   "outputs": [],
   "source": [
    "df_final['Exportations - Quantité'].fillna(0, inplace=True)"
   ]
  },
  {
   "cell_type": "code",
   "execution_count": 56,
   "metadata": {},
   "outputs": [
    {
     "data": {
      "text/plain": [
       "Code_zone                                                        False\n",
       "Zone                                                             False\n",
       "Disponibilité alimentaire (Kcal/personne/jour)                   False\n",
       "Disponibilité alimentaire en quantité (kg/personne/an)           False\n",
       "Disponibilité de matière grasse en quantité (g/personne/jour)    False\n",
       "Disponibilité de protéines en quantité (g/personne/jour)         False\n",
       "Disponibilité intérieure                                         False\n",
       "Exportations - Quantité                                          False\n",
       "Importations - Quantité                                          False\n",
       "Nourriture                                                       False\n",
       "Production                                                       False\n",
       "Résidus                                                          False\n",
       "Variation de stock                                               False\n",
       "Population                                                       False\n",
       "variation_pop%_2012_2017                                         False\n",
       "Dollar_an_hab                                                    False\n",
       "Stabilite_pol                                                    False\n",
       "Besoin_energ_moyen(kcal,pers,jour)                               False\n",
       "dtype: bool"
      ]
     },
     "execution_count": 56,
     "metadata": {},
     "output_type": "execute_result"
    }
   ],
   "source": [
    "df_final.isna().any()"
   ]
  },
  {
   "cell_type": "markdown",
   "metadata": {},
   "source": [
    "# début de la PCA "
   ]
  },
  {
   "cell_type": "code",
   "execution_count": 57,
   "metadata": {},
   "outputs": [],
   "source": [
    "from sklearn import decomposition\n",
    "from sklearn import preprocessing"
   ]
  },
  {
   "cell_type": "code",
   "execution_count": 58,
   "metadata": {},
   "outputs": [],
   "source": [
    "df_final.set_index(['Code_zone','Zone'], inplace = True)"
   ]
  },
  {
   "cell_type": "code",
   "execution_count": 59,
   "metadata": {},
   "outputs": [
    {
     "data": {
      "text/html": [
       "<div>\n",
       "<style scoped>\n",
       "    .dataframe tbody tr th:only-of-type {\n",
       "        vertical-align: middle;\n",
       "    }\n",
       "\n",
       "    .dataframe tbody tr th {\n",
       "        vertical-align: top;\n",
       "    }\n",
       "\n",
       "    .dataframe thead th {\n",
       "        text-align: right;\n",
       "    }\n",
       "</style>\n",
       "<table border=\"1\" class=\"dataframe\">\n",
       "  <thead>\n",
       "    <tr style=\"text-align: right;\">\n",
       "      <th></th>\n",
       "      <th></th>\n",
       "      <th>Disponibilité alimentaire (Kcal/personne/jour)</th>\n",
       "      <th>Disponibilité alimentaire en quantité (kg/personne/an)</th>\n",
       "      <th>Disponibilité de matière grasse en quantité (g/personne/jour)</th>\n",
       "      <th>Disponibilité de protéines en quantité (g/personne/jour)</th>\n",
       "      <th>Disponibilité intérieure</th>\n",
       "      <th>Exportations - Quantité</th>\n",
       "      <th>Importations - Quantité</th>\n",
       "      <th>Nourriture</th>\n",
       "      <th>Production</th>\n",
       "      <th>Résidus</th>\n",
       "      <th>Variation de stock</th>\n",
       "      <th>Population</th>\n",
       "      <th>variation_pop%_2012_2017</th>\n",
       "      <th>Dollar_an_hab</th>\n",
       "      <th>Stabilite_pol</th>\n",
       "      <th>Besoin_energ_moyen(kcal,pers,jour)</th>\n",
       "    </tr>\n",
       "    <tr>\n",
       "      <th>Code_zone</th>\n",
       "      <th>Zone</th>\n",
       "      <th></th>\n",
       "      <th></th>\n",
       "      <th></th>\n",
       "      <th></th>\n",
       "      <th></th>\n",
       "      <th></th>\n",
       "      <th></th>\n",
       "      <th></th>\n",
       "      <th></th>\n",
       "      <th></th>\n",
       "      <th></th>\n",
       "      <th></th>\n",
       "      <th></th>\n",
       "      <th></th>\n",
       "      <th></th>\n",
       "      <th></th>\n",
       "    </tr>\n",
       "  </thead>\n",
       "  <tbody>\n",
       "    <tr>\n",
       "      <th>1</th>\n",
       "      <th>Arménie</th>\n",
       "      <td>54.0</td>\n",
       "      <td>16.06</td>\n",
       "      <td>3.39</td>\n",
       "      <td>5.44</td>\n",
       "      <td>47.0</td>\n",
       "      <td>0.0</td>\n",
       "      <td>35.0</td>\n",
       "      <td>47.0</td>\n",
       "      <td>11.0</td>\n",
       "      <td>0.0</td>\n",
       "      <td>-2.0</td>\n",
       "      <td>2944791</td>\n",
       "      <td>2.099587</td>\n",
       "      <td>12115.1</td>\n",
       "      <td>-0.62</td>\n",
       "      <td>2433.0</td>\n",
       "    </tr>\n",
       "    <tr>\n",
       "      <th>2</th>\n",
       "      <th>Afghanistan</th>\n",
       "      <td>5.0</td>\n",
       "      <td>1.53</td>\n",
       "      <td>0.33</td>\n",
       "      <td>0.54</td>\n",
       "      <td>57.0</td>\n",
       "      <td>0.0</td>\n",
       "      <td>29.0</td>\n",
       "      <td>55.0</td>\n",
       "      <td>28.0</td>\n",
       "      <td>0.0</td>\n",
       "      <td>0.0</td>\n",
       "      <td>36296113</td>\n",
       "      <td>16.477889</td>\n",
       "      <td>2058.4</td>\n",
       "      <td>-2.80</td>\n",
       "      <td>2134.0</td>\n",
       "    </tr>\n",
       "    <tr>\n",
       "      <th>3</th>\n",
       "      <th>Albanie</th>\n",
       "      <td>85.0</td>\n",
       "      <td>16.36</td>\n",
       "      <td>6.45</td>\n",
       "      <td>6.26</td>\n",
       "      <td>47.0</td>\n",
       "      <td>0.0</td>\n",
       "      <td>38.0</td>\n",
       "      <td>47.0</td>\n",
       "      <td>13.0</td>\n",
       "      <td>0.0</td>\n",
       "      <td>4.0</td>\n",
       "      <td>2884169</td>\n",
       "      <td>-1.026974</td>\n",
       "      <td>12771.0</td>\n",
       "      <td>0.38</td>\n",
       "      <td>2490.0</td>\n",
       "    </tr>\n",
       "    <tr>\n",
       "      <th>4</th>\n",
       "      <th>Algérie</th>\n",
       "      <td>22.0</td>\n",
       "      <td>6.38</td>\n",
       "      <td>1.50</td>\n",
       "      <td>1.97</td>\n",
       "      <td>277.0</td>\n",
       "      <td>0.0</td>\n",
       "      <td>2.0</td>\n",
       "      <td>264.0</td>\n",
       "      <td>275.0</td>\n",
       "      <td>0.0</td>\n",
       "      <td>0.0</td>\n",
       "      <td>41389189</td>\n",
       "      <td>10.713956</td>\n",
       "      <td>11737.4</td>\n",
       "      <td>-0.92</td>\n",
       "      <td>2289.0</td>\n",
       "    </tr>\n",
       "    <tr>\n",
       "      <th>7</th>\n",
       "      <th>Angola</th>\n",
       "      <td>35.0</td>\n",
       "      <td>10.56</td>\n",
       "      <td>2.22</td>\n",
       "      <td>3.60</td>\n",
       "      <td>319.0</td>\n",
       "      <td>0.0</td>\n",
       "      <td>277.0</td>\n",
       "      <td>315.0</td>\n",
       "      <td>42.0</td>\n",
       "      <td>0.0</td>\n",
       "      <td>0.0</td>\n",
       "      <td>29816766</td>\n",
       "      <td>18.754373</td>\n",
       "      <td>7310.9</td>\n",
       "      <td>-0.33</td>\n",
       "      <td>2105.0</td>\n",
       "    </tr>\n",
       "  </tbody>\n",
       "</table>\n",
       "</div>"
      ],
      "text/plain": [
       "                       Disponibilité alimentaire (Kcal/personne/jour)  \\\n",
       "Code_zone Zone                                                          \n",
       "1         Arménie                                                54.0   \n",
       "2         Afghanistan                                             5.0   \n",
       "3         Albanie                                                85.0   \n",
       "4         Algérie                                                22.0   \n",
       "7         Angola                                                 35.0   \n",
       "\n",
       "                       Disponibilité alimentaire en quantité (kg/personne/an)  \\\n",
       "Code_zone Zone                                                                  \n",
       "1         Arménie                                                  16.06        \n",
       "2         Afghanistan                                               1.53        \n",
       "3         Albanie                                                  16.36        \n",
       "4         Algérie                                                   6.38        \n",
       "7         Angola                                                   10.56        \n",
       "\n",
       "                       Disponibilité de matière grasse en quantité (g/personne/jour)  \\\n",
       "Code_zone Zone                                                                         \n",
       "1         Arménie                                                   3.39               \n",
       "2         Afghanistan                                               0.33               \n",
       "3         Albanie                                                   6.45               \n",
       "4         Algérie                                                   1.50               \n",
       "7         Angola                                                    2.22               \n",
       "\n",
       "                       Disponibilité de protéines en quantité (g/personne/jour)  \\\n",
       "Code_zone Zone                                                                    \n",
       "1         Arménie                                                   5.44          \n",
       "2         Afghanistan                                               0.54          \n",
       "3         Albanie                                                   6.26          \n",
       "4         Algérie                                                   1.97          \n",
       "7         Angola                                                    3.60          \n",
       "\n",
       "                       Disponibilité intérieure  Exportations - Quantité  \\\n",
       "Code_zone Zone                                                             \n",
       "1         Arménie                          47.0                      0.0   \n",
       "2         Afghanistan                      57.0                      0.0   \n",
       "3         Albanie                          47.0                      0.0   \n",
       "4         Algérie                         277.0                      0.0   \n",
       "7         Angola                          319.0                      0.0   \n",
       "\n",
       "                       Importations - Quantité  Nourriture  Production  \\\n",
       "Code_zone Zone                                                           \n",
       "1         Arménie                         35.0        47.0        11.0   \n",
       "2         Afghanistan                     29.0        55.0        28.0   \n",
       "3         Albanie                         38.0        47.0        13.0   \n",
       "4         Algérie                          2.0       264.0       275.0   \n",
       "7         Angola                         277.0       315.0        42.0   \n",
       "\n",
       "                       Résidus  Variation de stock  Population  \\\n",
       "Code_zone Zone                                                   \n",
       "1         Arménie          0.0                -2.0     2944791   \n",
       "2         Afghanistan      0.0                 0.0    36296113   \n",
       "3         Albanie          0.0                 4.0     2884169   \n",
       "4         Algérie          0.0                 0.0    41389189   \n",
       "7         Angola           0.0                 0.0    29816766   \n",
       "\n",
       "                       variation_pop%_2012_2017  Dollar_an_hab  Stabilite_pol  \\\n",
       "Code_zone Zone                                                                  \n",
       "1         Arménie                      2.099587        12115.1          -0.62   \n",
       "2         Afghanistan                 16.477889         2058.4          -2.80   \n",
       "3         Albanie                     -1.026974        12771.0           0.38   \n",
       "4         Algérie                     10.713956        11737.4          -0.92   \n",
       "7         Angola                      18.754373         7310.9          -0.33   \n",
       "\n",
       "                       Besoin_energ_moyen(kcal,pers,jour)  \n",
       "Code_zone Zone                                             \n",
       "1         Arménie                                  2433.0  \n",
       "2         Afghanistan                              2134.0  \n",
       "3         Albanie                                  2490.0  \n",
       "4         Algérie                                  2289.0  \n",
       "7         Angola                                   2105.0  "
      ]
     },
     "execution_count": 59,
     "metadata": {},
     "output_type": "execute_result"
    }
   ],
   "source": [
    "df_final.head()"
   ]
  },
  {
   "cell_type": "code",
   "execution_count": 60,
   "metadata": {},
   "outputs": [
    {
     "data": {
      "text/html": [
       "<div>\n",
       "<style scoped>\n",
       "    .dataframe tbody tr th:only-of-type {\n",
       "        vertical-align: middle;\n",
       "    }\n",
       "\n",
       "    .dataframe tbody tr th {\n",
       "        vertical-align: top;\n",
       "    }\n",
       "\n",
       "    .dataframe thead th {\n",
       "        text-align: right;\n",
       "    }\n",
       "</style>\n",
       "<table border=\"1\" class=\"dataframe\">\n",
       "  <thead>\n",
       "    <tr style=\"text-align: right;\">\n",
       "      <th></th>\n",
       "      <th>Code_zone</th>\n",
       "      <th>Zone</th>\n",
       "    </tr>\n",
       "  </thead>\n",
       "  <tbody>\n",
       "    <tr>\n",
       "      <th>0</th>\n",
       "      <td>1</td>\n",
       "      <td>Arménie</td>\n",
       "    </tr>\n",
       "    <tr>\n",
       "      <th>1</th>\n",
       "      <td>2</td>\n",
       "      <td>Afghanistan</td>\n",
       "    </tr>\n",
       "    <tr>\n",
       "      <th>2</th>\n",
       "      <td>3</td>\n",
       "      <td>Albanie</td>\n",
       "    </tr>\n",
       "    <tr>\n",
       "      <th>3</th>\n",
       "      <td>4</td>\n",
       "      <td>Algérie</td>\n",
       "    </tr>\n",
       "    <tr>\n",
       "      <th>4</th>\n",
       "      <td>7</td>\n",
       "      <td>Angola</td>\n",
       "    </tr>\n",
       "  </tbody>\n",
       "</table>\n",
       "</div>"
      ],
      "text/plain": [
       "   Code_zone         Zone\n",
       "0          1      Arménie\n",
       "1          2  Afghanistan\n",
       "2          3      Albanie\n",
       "3          4      Algérie\n",
       "4          7       Angola"
      ]
     },
     "execution_count": 60,
     "metadata": {},
     "output_type": "execute_result"
    }
   ],
   "source": [
    "df_final.reset_index(inplace = True)\n",
    "table_pays = df_final.loc[:,['Code_zone','Zone']]\n",
    "table_pays.head()"
   ]
  },
  {
   "cell_type": "code",
   "execution_count": 61,
   "metadata": {},
   "outputs": [],
   "source": [
    "df_final.set_index(['Code_zone'], inplace = True)"
   ]
  },
  {
   "cell_type": "code",
   "execution_count": 62,
   "metadata": {},
   "outputs": [
    {
     "data": {
      "text/html": [
       "<div>\n",
       "<style scoped>\n",
       "    .dataframe tbody tr th:only-of-type {\n",
       "        vertical-align: middle;\n",
       "    }\n",
       "\n",
       "    .dataframe tbody tr th {\n",
       "        vertical-align: top;\n",
       "    }\n",
       "\n",
       "    .dataframe thead th {\n",
       "        text-align: right;\n",
       "    }\n",
       "</style>\n",
       "<table border=\"1\" class=\"dataframe\">\n",
       "  <thead>\n",
       "    <tr style=\"text-align: right;\">\n",
       "      <th></th>\n",
       "      <th>Disponibilité alimentaire (Kcal/personne/jour)</th>\n",
       "      <th>Disponibilité alimentaire en quantité (kg/personne/an)</th>\n",
       "      <th>Disponibilité de matière grasse en quantité (g/personne/jour)</th>\n",
       "      <th>Disponibilité de protéines en quantité (g/personne/jour)</th>\n",
       "      <th>Disponibilité intérieure</th>\n",
       "      <th>Exportations - Quantité</th>\n",
       "      <th>Importations - Quantité</th>\n",
       "      <th>Nourriture</th>\n",
       "      <th>Production</th>\n",
       "      <th>Résidus</th>\n",
       "      <th>Variation de stock</th>\n",
       "      <th>Population</th>\n",
       "      <th>variation_pop%_2012_2017</th>\n",
       "      <th>Dollar_an_hab</th>\n",
       "      <th>Stabilite_pol</th>\n",
       "      <th>Besoin_energ_moyen(kcal,pers,jour)</th>\n",
       "    </tr>\n",
       "    <tr>\n",
       "      <th>Code_zone</th>\n",
       "      <th></th>\n",
       "      <th></th>\n",
       "      <th></th>\n",
       "      <th></th>\n",
       "      <th></th>\n",
       "      <th></th>\n",
       "      <th></th>\n",
       "      <th></th>\n",
       "      <th></th>\n",
       "      <th></th>\n",
       "      <th></th>\n",
       "      <th></th>\n",
       "      <th></th>\n",
       "      <th></th>\n",
       "      <th></th>\n",
       "      <th></th>\n",
       "    </tr>\n",
       "  </thead>\n",
       "  <tbody>\n",
       "    <tr>\n",
       "      <th>1</th>\n",
       "      <td>54.0</td>\n",
       "      <td>16.06</td>\n",
       "      <td>3.39</td>\n",
       "      <td>5.44</td>\n",
       "      <td>47.0</td>\n",
       "      <td>0.0</td>\n",
       "      <td>35.0</td>\n",
       "      <td>47.0</td>\n",
       "      <td>11.0</td>\n",
       "      <td>0.0</td>\n",
       "      <td>-2.0</td>\n",
       "      <td>2944791</td>\n",
       "      <td>2.099587</td>\n",
       "      <td>12115.1</td>\n",
       "      <td>-0.62</td>\n",
       "      <td>2433.0</td>\n",
       "    </tr>\n",
       "    <tr>\n",
       "      <th>2</th>\n",
       "      <td>5.0</td>\n",
       "      <td>1.53</td>\n",
       "      <td>0.33</td>\n",
       "      <td>0.54</td>\n",
       "      <td>57.0</td>\n",
       "      <td>0.0</td>\n",
       "      <td>29.0</td>\n",
       "      <td>55.0</td>\n",
       "      <td>28.0</td>\n",
       "      <td>0.0</td>\n",
       "      <td>0.0</td>\n",
       "      <td>36296113</td>\n",
       "      <td>16.477889</td>\n",
       "      <td>2058.4</td>\n",
       "      <td>-2.80</td>\n",
       "      <td>2134.0</td>\n",
       "    </tr>\n",
       "    <tr>\n",
       "      <th>3</th>\n",
       "      <td>85.0</td>\n",
       "      <td>16.36</td>\n",
       "      <td>6.45</td>\n",
       "      <td>6.26</td>\n",
       "      <td>47.0</td>\n",
       "      <td>0.0</td>\n",
       "      <td>38.0</td>\n",
       "      <td>47.0</td>\n",
       "      <td>13.0</td>\n",
       "      <td>0.0</td>\n",
       "      <td>4.0</td>\n",
       "      <td>2884169</td>\n",
       "      <td>-1.026974</td>\n",
       "      <td>12771.0</td>\n",
       "      <td>0.38</td>\n",
       "      <td>2490.0</td>\n",
       "    </tr>\n",
       "    <tr>\n",
       "      <th>4</th>\n",
       "      <td>22.0</td>\n",
       "      <td>6.38</td>\n",
       "      <td>1.50</td>\n",
       "      <td>1.97</td>\n",
       "      <td>277.0</td>\n",
       "      <td>0.0</td>\n",
       "      <td>2.0</td>\n",
       "      <td>264.0</td>\n",
       "      <td>275.0</td>\n",
       "      <td>0.0</td>\n",
       "      <td>0.0</td>\n",
       "      <td>41389189</td>\n",
       "      <td>10.713956</td>\n",
       "      <td>11737.4</td>\n",
       "      <td>-0.92</td>\n",
       "      <td>2289.0</td>\n",
       "    </tr>\n",
       "    <tr>\n",
       "      <th>7</th>\n",
       "      <td>35.0</td>\n",
       "      <td>10.56</td>\n",
       "      <td>2.22</td>\n",
       "      <td>3.60</td>\n",
       "      <td>319.0</td>\n",
       "      <td>0.0</td>\n",
       "      <td>277.0</td>\n",
       "      <td>315.0</td>\n",
       "      <td>42.0</td>\n",
       "      <td>0.0</td>\n",
       "      <td>0.0</td>\n",
       "      <td>29816766</td>\n",
       "      <td>18.754373</td>\n",
       "      <td>7310.9</td>\n",
       "      <td>-0.33</td>\n",
       "      <td>2105.0</td>\n",
       "    </tr>\n",
       "  </tbody>\n",
       "</table>\n",
       "</div>"
      ],
      "text/plain": [
       "           Disponibilité alimentaire (Kcal/personne/jour)  \\\n",
       "Code_zone                                                   \n",
       "1                                                    54.0   \n",
       "2                                                     5.0   \n",
       "3                                                    85.0   \n",
       "4                                                    22.0   \n",
       "7                                                    35.0   \n",
       "\n",
       "           Disponibilité alimentaire en quantité (kg/personne/an)  \\\n",
       "Code_zone                                                           \n",
       "1                                                      16.06        \n",
       "2                                                       1.53        \n",
       "3                                                      16.36        \n",
       "4                                                       6.38        \n",
       "7                                                      10.56        \n",
       "\n",
       "           Disponibilité de matière grasse en quantité (g/personne/jour)  \\\n",
       "Code_zone                                                                  \n",
       "1                                                       3.39               \n",
       "2                                                       0.33               \n",
       "3                                                       6.45               \n",
       "4                                                       1.50               \n",
       "7                                                       2.22               \n",
       "\n",
       "           Disponibilité de protéines en quantité (g/personne/jour)  \\\n",
       "Code_zone                                                             \n",
       "1                                                       5.44          \n",
       "2                                                       0.54          \n",
       "3                                                       6.26          \n",
       "4                                                       1.97          \n",
       "7                                                       3.60          \n",
       "\n",
       "           Disponibilité intérieure  Exportations - Quantité  \\\n",
       "Code_zone                                                      \n",
       "1                              47.0                      0.0   \n",
       "2                              57.0                      0.0   \n",
       "3                              47.0                      0.0   \n",
       "4                             277.0                      0.0   \n",
       "7                             319.0                      0.0   \n",
       "\n",
       "           Importations - Quantité  Nourriture  Production  Résidus  \\\n",
       "Code_zone                                                             \n",
       "1                             35.0        47.0        11.0      0.0   \n",
       "2                             29.0        55.0        28.0      0.0   \n",
       "3                             38.0        47.0        13.0      0.0   \n",
       "4                              2.0       264.0       275.0      0.0   \n",
       "7                            277.0       315.0        42.0      0.0   \n",
       "\n",
       "           Variation de stock  Population  variation_pop%_2012_2017  \\\n",
       "Code_zone                                                             \n",
       "1                        -2.0     2944791                  2.099587   \n",
       "2                         0.0    36296113                 16.477889   \n",
       "3                         4.0     2884169                 -1.026974   \n",
       "4                         0.0    41389189                 10.713956   \n",
       "7                         0.0    29816766                 18.754373   \n",
       "\n",
       "           Dollar_an_hab  Stabilite_pol  Besoin_energ_moyen(kcal,pers,jour)  \n",
       "Code_zone                                                                    \n",
       "1                12115.1          -0.62                              2433.0  \n",
       "2                 2058.4          -2.80                              2134.0  \n",
       "3                12771.0           0.38                              2490.0  \n",
       "4                11737.4          -0.92                              2289.0  \n",
       "7                 7310.9          -0.33                              2105.0  "
      ]
     },
     "execution_count": 62,
     "metadata": {},
     "output_type": "execute_result"
    }
   ],
   "source": [
    "del df_final['Zone']\n",
    "df_final.head()"
   ]
  },
  {
   "cell_type": "code",
   "execution_count": 63,
   "metadata": {},
   "outputs": [],
   "source": [
    "df_final = df_final.rename(columns={\"Disponibilité alimentaire (Kcal/personne/jour)\": \"a\", \"Disponibilité alimentaire en quantité (kg/personne/an)\": \"b\",\"Disponibilité de matière grasse en quantité (g/personne/jour)\":\"c\",\"Disponibilité de protéines en quantité (g/personne/jour)\":\"d\",\"Disponibilité intérieure\":\"e\",\"Exportations - Quantité\":\"f\",\"Importations - Quantité\":\"g\",\"Nourriture\":\"h\",\"Production\":\"i\",\"Résidus\":\"j\",\"Variation de stock\":\"k\",\"Population\":\"l\",\"variation_pop%_2012_2017\":\"m\",\"Dollar_an_hab\":\"n\",\"Stabilite_pol\":\"o\",\"Besoin_energ_moyen(kcal,pers,jour)\":\"p\"})"
   ]
  },
  {
   "cell_type": "code",
   "execution_count": 64,
   "metadata": {},
   "outputs": [
    {
     "data": {
      "text/html": [
       "<div>\n",
       "<style scoped>\n",
       "    .dataframe tbody tr th:only-of-type {\n",
       "        vertical-align: middle;\n",
       "    }\n",
       "\n",
       "    .dataframe tbody tr th {\n",
       "        vertical-align: top;\n",
       "    }\n",
       "\n",
       "    .dataframe thead th {\n",
       "        text-align: right;\n",
       "    }\n",
       "</style>\n",
       "<table border=\"1\" class=\"dataframe\">\n",
       "  <thead>\n",
       "    <tr style=\"text-align: right;\">\n",
       "      <th></th>\n",
       "      <th>Symbole</th>\n",
       "      <th>Nom variable complet</th>\n",
       "    </tr>\n",
       "  </thead>\n",
       "  <tbody>\n",
       "    <tr>\n",
       "      <th>0</th>\n",
       "      <td>a</td>\n",
       "      <td>Disponibilité alimentaire (Kcal/personne/jour)</td>\n",
       "    </tr>\n",
       "    <tr>\n",
       "      <th>1</th>\n",
       "      <td>b</td>\n",
       "      <td>Disponibilité alimentaire en quantité (kg/pers...</td>\n",
       "    </tr>\n",
       "    <tr>\n",
       "      <th>2</th>\n",
       "      <td>c</td>\n",
       "      <td>Disponibilité de matière grasse en quantité (g...</td>\n",
       "    </tr>\n",
       "    <tr>\n",
       "      <th>3</th>\n",
       "      <td>d</td>\n",
       "      <td>Disponibilité de protéines en quantité (g/pers...</td>\n",
       "    </tr>\n",
       "    <tr>\n",
       "      <th>4</th>\n",
       "      <td>e</td>\n",
       "      <td>Disponibilité intérieure</td>\n",
       "    </tr>\n",
       "    <tr>\n",
       "      <th>5</th>\n",
       "      <td>f</td>\n",
       "      <td>Exportations - Quantité</td>\n",
       "    </tr>\n",
       "    <tr>\n",
       "      <th>6</th>\n",
       "      <td>g</td>\n",
       "      <td>Importations - Quantité</td>\n",
       "    </tr>\n",
       "    <tr>\n",
       "      <th>7</th>\n",
       "      <td>h</td>\n",
       "      <td>Nourriture</td>\n",
       "    </tr>\n",
       "    <tr>\n",
       "      <th>8</th>\n",
       "      <td>i</td>\n",
       "      <td>Production</td>\n",
       "    </tr>\n",
       "    <tr>\n",
       "      <th>9</th>\n",
       "      <td>j</td>\n",
       "      <td>Résidus</td>\n",
       "    </tr>\n",
       "    <tr>\n",
       "      <th>10</th>\n",
       "      <td>k</td>\n",
       "      <td>Variation de stock</td>\n",
       "    </tr>\n",
       "    <tr>\n",
       "      <th>11</th>\n",
       "      <td>l</td>\n",
       "      <td>Population</td>\n",
       "    </tr>\n",
       "    <tr>\n",
       "      <th>12</th>\n",
       "      <td>m</td>\n",
       "      <td>variation_pop%_2012_2017</td>\n",
       "    </tr>\n",
       "    <tr>\n",
       "      <th>13</th>\n",
       "      <td>n</td>\n",
       "      <td>Dollar_an_hab</td>\n",
       "    </tr>\n",
       "    <tr>\n",
       "      <th>14</th>\n",
       "      <td>o</td>\n",
       "      <td>Stabilite_pol</td>\n",
       "    </tr>\n",
       "    <tr>\n",
       "      <th>15</th>\n",
       "      <td>p</td>\n",
       "      <td>Besoin_energ_moyen(kcal,pers,jour)</td>\n",
       "    </tr>\n",
       "  </tbody>\n",
       "</table>\n",
       "</div>"
      ],
      "text/plain": [
       "   Symbole                               Nom variable complet\n",
       "0        a     Disponibilité alimentaire (Kcal/personne/jour)\n",
       "1        b  Disponibilité alimentaire en quantité (kg/pers...\n",
       "2        c  Disponibilité de matière grasse en quantité (g...\n",
       "3        d  Disponibilité de protéines en quantité (g/pers...\n",
       "4        e                           Disponibilité intérieure\n",
       "5        f                            Exportations - Quantité\n",
       "6        g                            Importations - Quantité\n",
       "7        h                                         Nourriture\n",
       "8        i                                         Production\n",
       "9        j                                            Résidus\n",
       "10       k                                 Variation de stock\n",
       "11       l                                         Population\n",
       "12       m                           variation_pop%_2012_2017\n",
       "13       n                                      Dollar_an_hab\n",
       "14       o                                      Stabilite_pol\n",
       "15       p                 Besoin_energ_moyen(kcal,pers,jour)"
      ]
     },
     "execution_count": 64,
     "metadata": {},
     "output_type": "execute_result"
    }
   ],
   "source": [
    "lst1 = [\"Disponibilité alimentaire (Kcal/personne/jour)\",\"Disponibilité alimentaire en quantité (kg/personne/an)\",\"Disponibilité de matière grasse en quantité (g/personne/jour)\",\"Disponibilité de protéines en quantité (g/personne/jour)\",\"Disponibilité intérieure\",\"Exportations - Quantité\",\"Importations - Quantité\",\"Nourriture\",\"Production\",\"Résidus\",\"Variation de stock\",\"Population\",\"variation_pop%_2012_2017\",\"Dollar_an_hab\",\"Stabilite_pol\",\"Besoin_energ_moyen(kcal,pers,jour)\"]\n",
    "lst2 = [\"a\",\"b\",\"c\",\"d\",\"e\",\"f\",\"g\",\"h\",\"i\",\"j\",\"k\",\"l\",\"m\",\"n\",\"o\",\"p\"]\n",
    "\n",
    "table_variables = pd.DataFrame(list(zip(lst2,lst1)),columns = ['Symbole','Nom variable complet'])\n",
    "table_variables.head(20)\n"
   ]
  },
  {
   "cell_type": "code",
   "execution_count": 65,
   "metadata": {},
   "outputs": [],
   "source": [
    "# citation de Source: cours Openclassrooms accessible à l'adresse: https://openclassrooms.com/fr/courses/4525281-realisez-une-analyse-exploratoire-de-donnees\n",
    "\n",
    "# choix du nombre de composantes à calculer\n",
    "n_comp = 6\n",
    "\n",
    "X = df_final.values\n",
    "names = df_final.index\n",
    "features = df_final.columns"
   ]
  },
  {
   "cell_type": "code",
   "execution_count": 66,
   "metadata": {},
   "outputs": [],
   "source": [
    "# Centrage et Réduction\n",
    "std_scale = preprocessing. StandardScaler().fit(X)\n",
    "x_scaled = std_scale.transform(X)"
   ]
  },
  {
   "cell_type": "code",
   "execution_count": 67,
   "metadata": {},
   "outputs": [
    {
     "data": {
      "text/plain": [
       "PCA(n_components=6)"
      ]
     },
     "execution_count": 67,
     "metadata": {},
     "output_type": "execute_result"
    }
   ],
   "source": [
    "# Calcul des composantes principales\n",
    "pca = decomposition.PCA(n_components = n_comp)\n",
    "pca.fit(x_scaled)"
   ]
  },
  {
   "cell_type": "code",
   "execution_count": 68,
   "metadata": {},
   "outputs": [],
   "source": [
    "def display_scree_plot(pca):\n",
    "    scree = pca.explained_variance_ratio_*100\n",
    "    plt.bar(np.arange(len(scree))+1, scree)\n",
    "    plt.plot(np.arange(len(scree))+1, scree.cumsum(),c=\"red\",marker='o')\n",
    "    plt.xlabel(\"rang de l'axe d'inertie\")\n",
    "    plt.ylabel(\"pourcentage d'inertie\")\n",
    "    plt.title(\"Eboulis des valeurs propres\")\n",
    "    plt.show(block=False)"
   ]
  },
  {
   "cell_type": "code",
   "execution_count": 69,
   "metadata": {},
   "outputs": [
    {
     "data": {
      "image/png": "[encoded data removed]",
      "text/plain": [
       "<Figure size 432x288 with 1 Axes>"
      ]
     },
     "metadata": {
      "needs_background": "light"
     },
     "output_type": "display_data"
    }
   ],
   "source": [
    "# Eboulis des valeurs propres\n",
    "display_scree_plot(pca)"
   ]
  },
  {
   "cell_type": "code",
   "execution_count": 70,
   "metadata": {},
   "outputs": [],
   "source": [
    "# source de ce code: cours Openclassrooms accessible à l'adresse: https://openclassrooms.com/fr/courses/4525281-realisez-une-analyse-exploratoire-de-donnees\n",
    "\n",
    "def display_circles(pcs, n_comp, pca, axis_ranks, labels=None, label_rotation=0, lims=None):\n",
    "    for d1, d2 in axis_ranks: # On affiche les 3 premiers plans factoriels, donc les 6 premières composantes\n",
    "        if d2 < n_comp:\n",
    "\n",
    "            # initialisation de la figure\n",
    "            fig, ax = plt.subplots(figsize=(15,15))\n",
    "\n",
    "            # détermination des limites du graphique\n",
    "            if lims is not None :\n",
    "                xmin, xmax, ymin, ymax = lims\n",
    "            elif pcs.shape[1] < 30 :\n",
    "                xmin, xmax, ymin, ymax = -1, 1, -1, 1\n",
    "            else :\n",
    "                xmin, xmax, ymin, ymax = min(pcs[d1,:]), max(pcs[d1,:]), min(pcs[d2,:]), max(pcs[d2,:])\n",
    "\n",
    "            # affichage des flèches\n",
    "            # s'il y a plus de 30 flèches, on n'affiche pas le triangle à leur extrémité\n",
    "            if pcs.shape[1] < 30 :\n",
    "                plt.quiver(np.zeros(pcs.shape[1]), np.zeros(pcs.shape[1]),\n",
    "                   pcs[d1,:], pcs[d2,:], \n",
    "                   angles='xy', scale_units='xy', scale=1, color=\"grey\")\n",
    "                # (voir la doc : https://matplotlib.org/api/_as_gen/matplotlib.pyplot.quiver.html)\n",
    "            else:\n",
    "                lines = [[[0,0],[x,y]] for x,y in pcs[[d1,d2]].T]\n",
    "                ax.add_collection(LineCollection(lines, axes=ax, alpha=.1, color='black'))\n",
    "            \n",
    "            # affichage des noms des variables  \n",
    "            if labels is not None:  \n",
    "                for i,(x, y) in enumerate(pcs[[d1,d2]].T):\n",
    "                    if x >= xmin and x <= xmax and y >= ymin and y <= ymax :\n",
    "                        plt.text(x, y, labels[i], fontsize='14', ha='center', va='center', rotation=label_rotation, color=\"blue\", alpha=0.5)\n",
    "            \n",
    "            # affichage du cercle\n",
    "            circle = plt.Circle((0,0), 1, facecolor='none', edgecolor='b')\n",
    "            plt.gca().add_artist(circle)\n",
    "\n",
    "            # définition des limites du graphique\n",
    "            plt.xlim(xmin, xmax)\n",
    "            plt.ylim(ymin, ymax)\n",
    "        \n",
    "            # affichage des lignes horizontales et verticales\n",
    "            plt.plot([-1, 1], [0, 0], color='grey', ls='--')\n",
    "            plt.plot([0, 0], [-1, 1], color='grey', ls='--')\n",
    "\n",
    "            # nom des axes, avec le pourcentage d'inertie expliqué\n",
    "            plt.xlabel('F{} ({}%)'.format(d1+1, round(100*pca.explained_variance_ratio_[d1],1)))\n",
    "            plt.ylabel('F{} ({}%)'.format(d2+1, round(100*pca.explained_variance_ratio_[d2],1)))\n",
    "\n",
    "            plt.title(\"Cercle des corrélations (F{} et F{})\".format(d1+1, d2+1))\n",
    "            plt.show(block=False)\n",
    "        \n",
    "def display_factorial_planes(X_projected, n_comp, pca, axis_ranks, labels=None, alpha=1, illustrative_var=None):\n",
    "    for d1,d2 in axis_ranks:\n",
    "        if d2 < n_comp:\n",
    " \n",
    "            # initialisation de la figure       \n",
    "            fig = plt.figure(figsize=(12,12))\n",
    "        \n",
    "            # affichage des points\n",
    "            if illustrative_var is None:\n",
    "                plt.scatter(X_projected[:, d1], X_projected[:, d2], alpha=alpha)\n",
    "            else:\n",
    "                illustrative_var = np.array(illustrative_var)\n",
    "                for value in np.unique(illustrative_var):\n",
    "                    selected = np.where(illustrative_var == value)\n",
    "                    plt.scatter(X_projected[selected, d1], X_projected[selected, d2], alpha=alpha, label=value)\n",
    "                plt.legend()\n",
    "\n",
    "            # affichage des labels des points\n",
    "            if labels is not None:\n",
    "                for i,(x,y) in enumerate(X_projected[:,[d1,d2]]):\n",
    "                    plt.text(x, y, labels[i],\n",
    "                              fontsize='14', ha='center',va='center') \n",
    "                \n",
    "            # détermination des limites du graphique\n",
    "            boundary = np.max(np.abs(X_projected[:, [d1,d2]])) * 2.2\n",
    "            plt.xlim([-boundary,boundary])\n",
    "            plt.ylim([-boundary,boundary])\n",
    "        \n",
    "            # affichage des lignes horizontales et verticales\n",
    "            plt.plot([-100, 100], [0, 0], color='grey', ls='--')\n",
    "            plt.plot([0, 0], [-100, 100], color='grey', ls='--')\n",
    "\n",
    "            # nom des axes, avec le pourcentage d'inertie expliqué\n",
    "            plt.xlabel('F{} ({}%)'.format(d1+1, round(100*pca.explained_variance_ratio_[d1],1)))\n",
    "            plt.ylabel('F{} ({}%)'.format(d2+1, round(100*pca.explained_variance_ratio_[d2],1)))\n",
    "\n",
    "            plt.title(\"Projection des individus (sur F{} et F{})\".format(d1+1, d2+1))\n",
    "            plt.show(block=False)"
   ]
  },
  {
   "cell_type": "code",
   "execution_count": 71,
   "metadata": {
    "scrolled": false
   },
   "outputs": [
    {
     "data": {
      "image/png": "[encoded data removed]",
      "text/plain": [
       "<Figure size 1080x1080 with 1 Axes>"
      ]
     },
     "metadata": {
      "needs_background": "light"
     },
     "output_type": "display_data"
    },
    {
     "data": {
      "image/png": "[encoded data removed]",
      "text/plain": [
       "<Figure size 1080x1080 with 1 Axes>"
      ]
     },
     "metadata": {
      "needs_background": "light"
     },
     "output_type": "display_data"
    },
    {
     "data": {
      "image/png": "[encoded data removed]",
      "text/plain": [
       "<Figure size 1080x1080 with 1 Axes>"
      ]
     },
     "metadata": {
      "needs_background": "light"
     },
     "output_type": "display_data"
    }
   ],
   "source": [
    "# Cercle des corrélations\n",
    "pcs= pca.components_\n",
    "display_circles(pcs, n_comp, pca, [(0,1),(2,3),(4,5)], labels = np.array(features))"
   ]
  },
  {
   "cell_type": "markdown",
   "metadata": {},
   "source": [
    "Commentaires à propos des cercles de corrélations. \n",
    "\n",
    "F1: Les variables fortements coorélées à cet axe sont c/a/b/d; il s'agit de toutes les disponibilités alimentaire (en kcal, en grammes, etc...)\n",
    "On peut donc dire à propose de l'axe F1 qu'il représente la disponibilité alimentaire du pays (tous types confondus).\n",
    "\n",
    "F2: e/h/i/k et f (tout de même assez proche) correspondent à: la dispo intérieure, la nourriture, la production, la variation de stock, l'exportation\n",
    "Uniquement pour la viande de volailles. On peut supposer qu'un pays consommant beaucoup de poulets aura tendance à essayer d'en produire beaucoup pour réponse à cette demande locale - ou inversement.\n",
    "Ensuite un pays produisant beaucoup a la capacité de se délester du surplus en l'exportant, et plus de production engendre plus de variation de stocks. \n",
    "Ainsi F2 correspondrait à la capacité du pays à produire et consommer du poulet. Les plus gros consommateurs ET producteurs vont de paire généralement. A noter que l'idéal pour notre investissement serait ici une exception: un gros consommateurs avec une faible production.\n",
    "\n",
    "F3/F4: g et j sont anticorrélés (importations / résidus). Cela fait sens également, car les résidus de productions sont pour les pays... producteurs. Or, les pays produisants peu importent proportionnellement beaucoup plus que les auto-consommateurs. Et les produits finis importés sont délestés de la matière perdue (on ne va pas payer pour importer des résidus). \n",
    "On comprend donc que grand importateur = contraire de grand producteur de résidus de volaille. \n",
    "\n",
    "F5/F6: pas de synthétisation de variable possible ici. F5 représente k la variation de stock et F6 représente l la population."
   ]
  },
  {
   "cell_type": "code",
   "execution_count": 72,
   "metadata": {
    "scrolled": false
   },
   "outputs": [
    {
     "data": {
      "image/png": "[encoded data removed]",
      "text/plain": [
       "<Figure size 864x864 with 1 Axes>"
      ]
     },
     "metadata": {
      "needs_background": "light"
     },
     "output_type": "display_data"
    },
    {
     "data": {
      "image/png": "[encoded data removed]",
      "text/plain": [
       "<Figure size 864x864 with 1 Axes>"
      ]
     },
     "metadata": {
      "needs_background": "light"
     },
     "output_type": "display_data"
    },
    {
     "data": {
      "image/png": "[encoded data removed]",
      "text/plain": [
       "<Figure size 864x864 with 1 Axes>"
      ]
     },
     "metadata": {
      "needs_background": "light"
     },
     "output_type": "display_data"
    }
   ],
   "source": [
    "# Projection des individus\n",
    "X_projected = pca.transform(x_scaled)\n",
    "display_factorial_planes(X_projected, n_comp, pca, [(0,1),(2,3),(4,5)],labels = np.array(names))\n",
    "\n",
    "plt.show()"
   ]
  },
  {
   "cell_type": "code",
   "execution_count": 73,
   "metadata": {},
   "outputs": [
    {
     "name": "stdout",
     "output_type": "stream",
     "text": [
      "     Code_zone                                               Zone\n",
      "14          21                                             Brésil\n",
      "47          79                                          Allemagne\n",
      "58          96                           Chine - RAS de Hong-Kong\n",
      "62         100                                               Inde\n",
      "72         110                                              Japon\n",
      "93         138                                            Mexique\n",
      "100        150                                           Pays-Bas\n",
      "114        173                                            Pologne\n",
      "126        194                                    Arabie saoudite\n",
      "140        216                                          Thaïlande\n",
      "148        229  Royaume-Uni de Grande-Bretagne et d'Irlande du...\n",
      "150        231                              États-Unis d'Amérique\n",
      "157        255                                           Belgique\n"
     ]
    }
   ],
   "source": [
    "# Penchons nous sur les pays. Tous les pays sont extrêmement proche les uns des autres. \n",
    "# Difficile de les identifier. Toutefois, certains sortent du lot et ce sont justement ces zones que nous voulons étudier. \n",
    "\n",
    "liste_hors_du_lot = [231,21,100,96,150,79,110,173,216,229,255,138,194]\n",
    "df_hors_du_lot = table_pays.query(\"Code_zone == @liste_hors_du_lot\")\n",
    "print(df_hors_du_lot)"
   ]
  },
  {
   "cell_type": "markdown",
   "metadata": {},
   "source": [
    "Analyse à propos des pays:\n",
    "Les pays se détachant sur F1/F2 seront à éviter pour l'investissement. Ces pays produisent, exportent et consomme déjà leurs poulets. Le Brésil et les USA en particulier. \n",
    "Les pays à viser sont ceux important beaucoup de poulet: Hong-Kong, Pays-Bas, Allemagne ou Japon.\n",
    "Le Japon est en particulier à observer de près car il a beaucoup de variation de stock (rupture de stock = prix élevés sur le marché = de bonnes opportunités pour les exportateurs français)."
   ]
  },
  {
   "cell_type": "markdown",
   "metadata": {},
   "source": [
    "# Passons au clustering\n",
    "### d'abord avec une classification hiérarchique ascendante"
   ]
  },
  {
   "cell_type": "code",
   "execution_count": 74,
   "metadata": {},
   "outputs": [],
   "source": [
    "# source: le code utilisé ici s'appuie sur: cours Openclassrooms accessible à l'adresse: https://openclassrooms.com/fr/courses/4525281-realisez-une-analyse-exploratoire-de-donnees\n",
    "\n",
    "import matplotlib.pyplot as plt\n",
    "from matplotlib.collections import LineCollection\n",
    "import numpy as np\n",
    "import pandas as pd\n",
    "from scipy.cluster.hierarchy import dendrogram\n",
    "\n",
    "def plot_dendrogram(Z, names):\n",
    "    plt.figure(figsize=(10,25))\n",
    "    plt.title('Hierarchical Clustering Dendrogram')\n",
    "    plt.xlabel('distance')\n",
    "    dendrogram(\n",
    "        Z,\n",
    "        labels = names,\n",
    "        orientation = \"left\",\n",
    "    )\n",
    "    plt.show()\n",
    "\n",
    "from scipy.cluster.hierarchy import linkage, fcluster\n",
    "from sklearn import preprocessing"
   ]
  },
  {
   "cell_type": "code",
   "execution_count": 75,
   "metadata": {},
   "outputs": [
    {
     "data": {
      "image/png": "[encoded data removed]",
      "text/plain": [
       "<Figure size 720x1800 with 1 Axes>"
      ]
     },
     "metadata": {
      "needs_background": "light"
     },
     "output_type": "display_data"
    }
   ],
   "source": [
    "# Clustering hiérarchique\n",
    "Z = linkage(x_scaled, 'ward')\n",
    "\n",
    "# Affichage du dendrogramme\n",
    "plot_dendrogram(Z, names)"
   ]
  },
  {
   "cell_type": "markdown",
   "metadata": {},
   "source": [
    " ## Clustering par k-mean"
   ]
  },
  {
   "cell_type": "code",
   "execution_count": 76,
   "metadata": {},
   "outputs": [],
   "source": [
    "from sklearn.cluster import KMeans\n",
    "from sklearn import decomposition"
   ]
  },
  {
   "cell_type": "code",
   "execution_count": 77,
   "metadata": {},
   "outputs": [
    {
     "data": {
      "image/png": "[encoded data removed]",
      "text/plain": [
       "<Figure size 432x288 with 1 Axes>"
      ]
     },
     "metadata": {
      "needs_background": "light"
     },
     "output_type": "display_data"
    }
   ],
   "source": [
    "# source de ce code: cours Openclassrooms accessible à l'adresse: https://openclassrooms.com/fr/courses/4525281-realisez-une-analyse-exploratoire-de-donneesx_scaled\n",
    "\n",
    "# Run a number of tests, for 1, 2, ... num_clusters\n",
    "num_clusters = 20\n",
    "kmeans_tests = [KMeans(n_clusters=i, init='random', n_init=10) for i in range(1, num_clusters)]\n",
    "score = [kmeans_tests[i].fit(x_scaled).score(x_scaled) for i in range(len(kmeans_tests))]\n",
    "\n",
    "# Plot the curve\n",
    "plt.plot(range(1, num_clusters),score)\n",
    "plt.xlabel('Number of Clusters')\n",
    "plt.ylabel('Score')\n",
    "plt.title('Elbow Curve')\n",
    "plt.show()"
   ]
  },
  {
   "cell_type": "code",
   "execution_count": 78,
   "metadata": {},
   "outputs": [
    {
     "name": "stderr",
     "output_type": "stream",
     "text": [
      "/tmp/ipykernel_27949/3542775215.py:20: DeprecationWarning: `np.float` is a deprecated alias for the builtin `float`. To silence this warning, use `float` by itself. Doing this will not modify any behavior and is safe. If you specifically wanted the numpy scalar type, use `np.float64` here.\n",
      "Deprecated in NumPy 1.20; for more details and guidance: https://numpy.org/devdocs/release/1.20.0-notes.html#deprecations\n",
      "  plt.scatter(X_projected[:, 0], X_projected[:, 1], c=clusters.astype(np.float), cmap = 'jet', alpha=.2)\n"
     ]
    },
    {
     "data": {
      "image/png": "[encoded data removed]",
      "text/plain": [
       "<Figure size 432x288 with 1 Axes>"
      ]
     },
     "metadata": {
      "needs_background": "light"
     },
     "output_type": "display_data"
    }
   ],
   "source": [
    "# Nombre de clusters souhaités\n",
    "n_clust = 8\n",
    "\n",
    "# préparation des données pour le clustering\n",
    "X = df_final.values\n",
    "\n",
    "# Réduire \n",
    "x_scaled = preprocessing.StandardScaler().fit_transform(X)\n",
    "\n",
    "# Clustering par K-means\n",
    "km = KMeans(n_clusters=n_clust)\n",
    "km.fit(x_scaled)\n",
    "\n",
    "# Récupération des clusters attribués à chaque individu\n",
    "clusters = km.labels_\n",
    "\n",
    "# Affichage du clustering par projection des individus sur le premier plan factoriel\n",
    "pca = decomposition.PCA(n_components=3).fit(x_scaled)\n",
    "X_projected = pca.transform(x_scaled)\n",
    "plt.scatter(X_projected[:, 0], X_projected[:, 1], c=clusters.astype(np.float), cmap = 'jet', alpha=.2)\n",
    "plt.title(\"Projection des {} individus sur le 1e plan factoriel\".format(X_projected.shape[0]))\n",
    "plt.show(block=False)"
   ]
  },
  {
   "cell_type": "code",
   "execution_count": 79,
   "metadata": {},
   "outputs": [
    {
     "name": "stderr",
     "output_type": "stream",
     "text": [
      "/tmp/ipykernel_27949/3423744477.py:1: DeprecationWarning: `np.float` is a deprecated alias for the builtin `float`. To silence this warning, use `float` by itself. Doing this will not modify any behavior and is safe. If you specifically wanted the numpy scalar type, use `np.float64` here.\n",
      "Deprecated in NumPy 1.20; for more details and guidance: https://numpy.org/devdocs/release/1.20.0-notes.html#deprecations\n",
      "  plt.scatter(X_projected[:, 0], X_projected[:, 1], c=clusters.astype(np.float), cmap = 'jet', alpha=.2)\n"
     ]
    },
    {
     "data": {
      "image/png": "[encoded data removed]",
      "text/plain": [
       "<Figure size 432x288 with 1 Axes>"
      ]
     },
     "metadata": {
      "needs_background": "light"
     },
     "output_type": "display_data"
    }
   ],
   "source": [
    "plt.scatter(X_projected[:, 0], X_projected[:, 1], c=clusters.astype(np.float), cmap = 'jet', alpha=.2)\n",
    "plt.title(\"Projection des {} individus sur le 1e plan factoriel\".format(X_projected.shape[0]))\n",
    "plt.xlim([-3, 4])\n",
    "plt.show(block=False)"
   ]
  },
  {
   "cell_type": "code",
   "execution_count": 80,
   "metadata": {},
   "outputs": [
    {
     "data": {
      "text/plain": [
       "array([3, 1, 3, 1, 1, 5, 5, 5, 3, 5, 5, 1, 5, 1, 2, 3, 1, 3, 3, 1, 5, 3,\n",
       "       1, 1, 1, 5, 3, 1, 3, 3, 1, 1, 3, 5, 3, 3, 1, 1, 3, 3, 3, 3, 0, 1,\n",
       "       3, 1, 1, 0, 3, 1, 1, 3, 5, 1, 1, 5, 1, 1, 7, 3, 3, 3, 4, 1, 3, 1,\n",
       "       3, 5, 3, 1, 3, 5, 6, 1, 1, 1, 1, 3, 5, 3, 1, 1, 1, 3, 3, 1, 1, 5,\n",
       "       1, 1, 3, 1, 5, 0, 1, 3, 1, 3, 1, 1, 7, 3, 1, 5, 3, 1, 1, 3, 1, 3,\n",
       "       3, 1, 1, 1, 3, 3, 1, 1, 1, 3, 1, 0, 5, 5, 5, 1, 0, 1, 1, 3, 3, 0,\n",
       "       3, 3, 1, 1, 3, 3, 1, 1, 3, 1, 5, 1, 1, 3, 0, 1, 0, 3, 2, 1, 3, 1,\n",
       "       1, 5, 1, 3, 3, 3, 3, 1], dtype=int32)"
      ]
     },
     "execution_count": 80,
     "metadata": {},
     "output_type": "execute_result"
    }
   ],
   "source": [
    "clusters"
   ]
  },
  {
   "cell_type": "code",
   "execution_count": 81,
   "metadata": {},
   "outputs": [
    {
     "data": {
      "image/png": "[encoded data removed]",
      "text/plain": [
       "<Figure size 432x288 with 1 Axes>"
      ]
     },
     "metadata": {
      "needs_background": "light"
     },
     "output_type": "display_data"
    }
   ],
   "source": [
    "# Affichage des positions des centres de classes\n",
    "plt.figure()\n",
    "centroids = km.cluster_centers_\n",
    "centroids_projected = pca.transform(centroids)\n",
    "plt.scatter(centroids_projected[:,0],centroids_projected[:,1])\n",
    "plt.title(\"Projection des {} centres sur le 1e plan factoriel\".format(len(centroids)))\n",
    "plt.show()"
   ]
  },
  {
   "cell_type": "markdown",
   "metadata": {},
   "source": [
    "# Réalisation d'une heatmap pour visualiser les différents clusters (à travers leurs centroïdes)"
   ]
  },
  {
   "cell_type": "code",
   "execution_count": 82,
   "metadata": {},
   "outputs": [],
   "source": [
    "import seaborn as sns"
   ]
  },
  {
   "cell_type": "code",
   "execution_count": 83,
   "metadata": {},
   "outputs": [
    {
     "data": {
      "text/html": [
       "<div>\n",
       "<style scoped>\n",
       "    .dataframe tbody tr th:only-of-type {\n",
       "        vertical-align: middle;\n",
       "    }\n",
       "\n",
       "    .dataframe tbody tr th {\n",
       "        vertical-align: top;\n",
       "    }\n",
       "\n",
       "    .dataframe thead th {\n",
       "        text-align: right;\n",
       "    }\n",
       "</style>\n",
       "<table border=\"1\" class=\"dataframe\">\n",
       "  <thead>\n",
       "    <tr style=\"text-align: right;\">\n",
       "      <th></th>\n",
       "      <th>0</th>\n",
       "    </tr>\n",
       "  </thead>\n",
       "  <tbody>\n",
       "    <tr>\n",
       "      <th>0</th>\n",
       "      <td>3</td>\n",
       "    </tr>\n",
       "    <tr>\n",
       "      <th>1</th>\n",
       "      <td>1</td>\n",
       "    </tr>\n",
       "    <tr>\n",
       "      <th>2</th>\n",
       "      <td>3</td>\n",
       "    </tr>\n",
       "    <tr>\n",
       "      <th>3</th>\n",
       "      <td>1</td>\n",
       "    </tr>\n",
       "    <tr>\n",
       "      <th>4</th>\n",
       "      <td>1</td>\n",
       "    </tr>\n",
       "    <tr>\n",
       "      <th>...</th>\n",
       "      <td>...</td>\n",
       "    </tr>\n",
       "    <tr>\n",
       "      <th>157</th>\n",
       "      <td>3</td>\n",
       "    </tr>\n",
       "    <tr>\n",
       "      <th>158</th>\n",
       "      <td>3</td>\n",
       "    </tr>\n",
       "    <tr>\n",
       "      <th>159</th>\n",
       "      <td>3</td>\n",
       "    </tr>\n",
       "    <tr>\n",
       "      <th>160</th>\n",
       "      <td>3</td>\n",
       "    </tr>\n",
       "    <tr>\n",
       "      <th>161</th>\n",
       "      <td>1</td>\n",
       "    </tr>\n",
       "  </tbody>\n",
       "</table>\n",
       "<p>162 rows × 1 columns</p>\n",
       "</div>"
      ],
      "text/plain": [
       "     0\n",
       "0    3\n",
       "1    1\n",
       "2    3\n",
       "3    1\n",
       "4    1\n",
       "..  ..\n",
       "157  3\n",
       "158  3\n",
       "159  3\n",
       "160  3\n",
       "161  1\n",
       "\n",
       "[162 rows x 1 columns]"
      ]
     },
     "execution_count": 83,
     "metadata": {},
     "output_type": "execute_result"
    }
   ],
   "source": [
    "df_clusters = pd.DataFrame(clusters)\n",
    "df_clusters"
   ]
  },
  {
   "cell_type": "code",
   "execution_count": 84,
   "metadata": {},
   "outputs": [],
   "source": [
    "df_final.reset_index(inplace = True)"
   ]
  },
  {
   "cell_type": "code",
   "execution_count": 85,
   "metadata": {},
   "outputs": [],
   "source": [
    "df_final = pd.concat([df_final, df_clusters], axis = 1)"
   ]
  },
  {
   "cell_type": "code",
   "execution_count": 86,
   "metadata": {},
   "outputs": [],
   "source": [
    "df_final.rename(columns = {0:\"cluster_attribue\"}, inplace = True)"
   ]
  },
  {
   "cell_type": "code",
   "execution_count": 87,
   "metadata": {},
   "outputs": [
    {
     "name": "stdout",
     "output_type": "stream",
     "text": [
      "<class 'pandas.core.frame.DataFrame'>\n",
      "RangeIndex: 162 entries, 0 to 161\n",
      "Data columns (total 18 columns):\n",
      " #   Column            Non-Null Count  Dtype  \n",
      "---  ------            --------------  -----  \n",
      " 0   Code_zone         162 non-null    int64  \n",
      " 1   a                 162 non-null    float64\n",
      " 2   b                 162 non-null    float64\n",
      " 3   c                 162 non-null    float64\n",
      " 4   d                 162 non-null    float64\n",
      " 5   e                 162 non-null    float64\n",
      " 6   f                 162 non-null    float64\n",
      " 7   g                 162 non-null    float64\n",
      " 8   h                 162 non-null    float64\n",
      " 9   i                 162 non-null    float64\n",
      " 10  j                 162 non-null    float64\n",
      " 11  k                 162 non-null    float64\n",
      " 12  l                 162 non-null    int64  \n",
      " 13  m                 162 non-null    float64\n",
      " 14  n                 162 non-null    float64\n",
      " 15  o                 162 non-null    float64\n",
      " 16  p                 162 non-null    float64\n",
      " 17  cluster_attribue  162 non-null    int32  \n",
      "dtypes: float64(15), int32(1), int64(2)\n",
      "memory usage: 22.3 KB\n"
     ]
    }
   ],
   "source": [
    "df_final.info()"
   ]
  },
  {
   "cell_type": "code",
   "execution_count": 88,
   "metadata": {},
   "outputs": [],
   "source": [
    "df_grouper = df_final.loc[:,[\"g\",\"k\",\"o\",\"cluster_attribue\"]]"
   ]
  },
  {
   "cell_type": "code",
   "execution_count": 89,
   "metadata": {},
   "outputs": [],
   "source": [
    "df_grouper = df_grouper.groupby(by=\"cluster_attribue\").mean()"
   ]
  },
  {
   "cell_type": "code",
   "execution_count": 90,
   "metadata": {},
   "outputs": [
    {
     "data": {
      "text/html": [
       "<div>\n",
       "<style scoped>\n",
       "    .dataframe tbody tr th:only-of-type {\n",
       "        vertical-align: middle;\n",
       "    }\n",
       "\n",
       "    .dataframe tbody tr th {\n",
       "        vertical-align: top;\n",
       "    }\n",
       "\n",
       "    .dataframe thead th {\n",
       "        text-align: right;\n",
       "    }\n",
       "</style>\n",
       "<table border=\"1\" class=\"dataframe\">\n",
       "  <thead>\n",
       "    <tr style=\"text-align: right;\">\n",
       "      <th></th>\n",
       "      <th>g</th>\n",
       "      <th>k</th>\n",
       "      <th>o</th>\n",
       "    </tr>\n",
       "    <tr>\n",
       "      <th>cluster_attribue</th>\n",
       "      <th></th>\n",
       "      <th></th>\n",
       "      <th></th>\n",
       "    </tr>\n",
       "  </thead>\n",
       "  <tbody>\n",
       "    <tr>\n",
       "      <th>0</th>\n",
       "      <td>624.250000</td>\n",
       "      <td>1.625000</td>\n",
       "      <td>-0.050000</td>\n",
       "    </tr>\n",
       "    <tr>\n",
       "      <th>1</th>\n",
       "      <td>40.114286</td>\n",
       "      <td>0.214286</td>\n",
       "      <td>-0.568714</td>\n",
       "    </tr>\n",
       "    <tr>\n",
       "      <th>2</th>\n",
       "      <td>63.000000</td>\n",
       "      <td>40.000000</td>\n",
       "      <td>-0.040000</td>\n",
       "    </tr>\n",
       "    <tr>\n",
       "      <th>3</th>\n",
       "      <td>52.642857</td>\n",
       "      <td>20.732143</td>\n",
       "      <td>0.306964</td>\n",
       "    </tr>\n",
       "    <tr>\n",
       "      <th>4</th>\n",
       "      <td>0.000000</td>\n",
       "      <td>-119.000000</td>\n",
       "      <td>-0.760000</td>\n",
       "    </tr>\n",
       "    <tr>\n",
       "      <th>5</th>\n",
       "      <td>32.181818</td>\n",
       "      <td>19.454545</td>\n",
       "      <td>0.600909</td>\n",
       "    </tr>\n",
       "    <tr>\n",
       "      <th>6</th>\n",
       "      <td>1069.000000</td>\n",
       "      <td>859.000000</td>\n",
       "      <td>1.110000</td>\n",
       "    </tr>\n",
       "    <tr>\n",
       "      <th>7</th>\n",
       "      <td>757.500000</td>\n",
       "      <td>-47.000000</td>\n",
       "      <td>0.875000</td>\n",
       "    </tr>\n",
       "  </tbody>\n",
       "</table>\n",
       "</div>"
      ],
      "text/plain": [
       "                            g           k         o\n",
       "cluster_attribue                                   \n",
       "0                  624.250000    1.625000 -0.050000\n",
       "1                   40.114286    0.214286 -0.568714\n",
       "2                   63.000000   40.000000 -0.040000\n",
       "3                   52.642857   20.732143  0.306964\n",
       "4                    0.000000 -119.000000 -0.760000\n",
       "5                   32.181818   19.454545  0.600909\n",
       "6                 1069.000000  859.000000  1.110000\n",
       "7                  757.500000  -47.000000  0.875000"
      ]
     },
     "execution_count": 90,
     "metadata": {},
     "output_type": "execute_result"
    }
   ],
   "source": [
    "df_grouper"
   ]
  },
  {
   "cell_type": "code",
   "execution_count": 91,
   "metadata": {},
   "outputs": [],
   "source": [
    "scaler = preprocessing.StandardScaler().fit(df_grouper)"
   ]
  },
  {
   "cell_type": "code",
   "execution_count": 92,
   "metadata": {},
   "outputs": [
    {
     "data": {
      "text/plain": [
       "array([[ 0.74621732, -0.32633731, -0.3771601 ],\n",
       "       [-0.73432493, -0.33117042, -1.21225818],\n",
       "       [-0.67631911, -0.19486469, -0.36106072],\n",
       "       [-0.70257018, -0.2608763 ,  0.19753043],\n",
       "       [-0.83599804, -0.73959817, -1.52021641],\n",
       "       [-0.75443045, -0.26525335,  0.67076348],\n",
       "       [ 1.87347447,  2.61102665,  1.49036852],\n",
       "       [ 1.08395091, -0.49292641,  1.11203298]])"
      ]
     },
     "execution_count": 92,
     "metadata": {},
     "output_type": "execute_result"
    }
   ],
   "source": [
    "X_scaled = scaler.transform(df_grouper)\n",
    "X_scaled"
   ]
  },
  {
   "cell_type": "code",
   "execution_count": 93,
   "metadata": {},
   "outputs": [],
   "source": [
    "df_heatmap = pd.DataFrame(X_scaled)"
   ]
  },
  {
   "cell_type": "code",
   "execution_count": 94,
   "metadata": {},
   "outputs": [],
   "source": [
    "df_heatmap.rename(columns = {0:\"importation\",1:\"variation_stock\",2:\"stabilite_politique\"}, inplace = True)"
   ]
  },
  {
   "cell_type": "code",
   "execution_count": 95,
   "metadata": {},
   "outputs": [
    {
     "data": {
      "text/html": [
       "<div>\n",
       "<style scoped>\n",
       "    .dataframe tbody tr th:only-of-type {\n",
       "        vertical-align: middle;\n",
       "    }\n",
       "\n",
       "    .dataframe tbody tr th {\n",
       "        vertical-align: top;\n",
       "    }\n",
       "\n",
       "    .dataframe thead th {\n",
       "        text-align: right;\n",
       "    }\n",
       "</style>\n",
       "<table border=\"1\" class=\"dataframe\">\n",
       "  <thead>\n",
       "    <tr style=\"text-align: right;\">\n",
       "      <th></th>\n",
       "      <th>importation</th>\n",
       "      <th>variation_stock</th>\n",
       "      <th>stabilite_politique</th>\n",
       "    </tr>\n",
       "  </thead>\n",
       "  <tbody>\n",
       "    <tr>\n",
       "      <th>0</th>\n",
       "      <td>0.746217</td>\n",
       "      <td>-0.326337</td>\n",
       "      <td>-0.377160</td>\n",
       "    </tr>\n",
       "    <tr>\n",
       "      <th>1</th>\n",
       "      <td>-0.734325</td>\n",
       "      <td>-0.331170</td>\n",
       "      <td>-1.212258</td>\n",
       "    </tr>\n",
       "    <tr>\n",
       "      <th>2</th>\n",
       "      <td>-0.676319</td>\n",
       "      <td>-0.194865</td>\n",
       "      <td>-0.361061</td>\n",
       "    </tr>\n",
       "    <tr>\n",
       "      <th>3</th>\n",
       "      <td>-0.702570</td>\n",
       "      <td>-0.260876</td>\n",
       "      <td>0.197530</td>\n",
       "    </tr>\n",
       "    <tr>\n",
       "      <th>4</th>\n",
       "      <td>-0.835998</td>\n",
       "      <td>-0.739598</td>\n",
       "      <td>-1.520216</td>\n",
       "    </tr>\n",
       "    <tr>\n",
       "      <th>5</th>\n",
       "      <td>-0.754430</td>\n",
       "      <td>-0.265253</td>\n",
       "      <td>0.670763</td>\n",
       "    </tr>\n",
       "    <tr>\n",
       "      <th>6</th>\n",
       "      <td>1.873474</td>\n",
       "      <td>2.611027</td>\n",
       "      <td>1.490369</td>\n",
       "    </tr>\n",
       "    <tr>\n",
       "      <th>7</th>\n",
       "      <td>1.083951</td>\n",
       "      <td>-0.492926</td>\n",
       "      <td>1.112033</td>\n",
       "    </tr>\n",
       "  </tbody>\n",
       "</table>\n",
       "</div>"
      ],
      "text/plain": [
       "   importation  variation_stock  stabilite_politique\n",
       "0     0.746217        -0.326337            -0.377160\n",
       "1    -0.734325        -0.331170            -1.212258\n",
       "2    -0.676319        -0.194865            -0.361061\n",
       "3    -0.702570        -0.260876             0.197530\n",
       "4    -0.835998        -0.739598            -1.520216\n",
       "5    -0.754430        -0.265253             0.670763\n",
       "6     1.873474         2.611027             1.490369\n",
       "7     1.083951        -0.492926             1.112033"
      ]
     },
     "execution_count": 95,
     "metadata": {},
     "output_type": "execute_result"
    }
   ],
   "source": [
    "df_heatmap"
   ]
  },
  {
   "cell_type": "code",
   "execution_count": 96,
   "metadata": {},
   "outputs": [
    {
     "name": "stdout",
     "output_type": "stream",
     "text": [
      "   importation  variation_stock  stabilite_politique\n",
      "0    58.395697        12.333845            37.967914\n",
      "1     3.752506        12.189600            10.229183\n",
      "2     5.893358        16.257669            38.502674\n",
      "3     4.924496        14.287540            57.056914\n",
      "4     0.000000         0.000000             0.000000\n",
      "5     3.010460        14.156906            72.775887\n",
      "6   100.000000       100.000000           100.000000\n",
      "7    70.860617         7.361963            87.433155\n"
     ]
    }
   ],
   "source": [
    "def df_norm(df_heatmap):\n",
    "    return (df_heatmap - df_heatmap.min()) / ( df_heatmap.max() - df_heatmap.min())\n",
    "\n",
    "df_heatmap_norm = df_norm(df_heatmap)\n",
    "df_heatmap_norm = df_heatmap_norm*100\n",
    "print(df_heatmap_norm)"
   ]
  },
  {
   "cell_type": "code",
   "execution_count": 97,
   "metadata": {},
   "outputs": [
    {
     "data": {
      "image/png": "[encoded data removed]",
      "text/plain": [
       "<Figure size 432x288 with 2 Axes>"
      ]
     },
     "metadata": {
      "needs_background": "light"
     },
     "output_type": "display_data"
    }
   ],
   "source": [
    "ax = sns.heatmap(df_heatmap_norm,annot = True, cmap = \"Spectral\")"
   ]
  },
  {
   "cell_type": "code",
   "execution_count": 98,
   "metadata": {},
   "outputs": [],
   "source": [
    "figure = ax.get_figure()    \n",
    "figure.savefig('Heatmap_Candidats', dpi=400)"
   ]
  },
  {
   "cell_type": "code",
   "execution_count": 105,
   "metadata": {},
   "outputs": [
    {
     "data": {
      "text/html": [
       "<div>\n",
       "<style scoped>\n",
       "    .dataframe tbody tr th:only-of-type {\n",
       "        vertical-align: middle;\n",
       "    }\n",
       "\n",
       "    .dataframe tbody tr th {\n",
       "        vertical-align: top;\n",
       "    }\n",
       "\n",
       "    .dataframe thead th {\n",
       "        text-align: right;\n",
       "    }\n",
       "</style>\n",
       "<table border=\"1\" class=\"dataframe\">\n",
       "  <thead>\n",
       "    <tr style=\"text-align: right;\">\n",
       "      <th></th>\n",
       "      <th>Code_zone</th>\n",
       "      <th>a</th>\n",
       "      <th>b</th>\n",
       "      <th>c</th>\n",
       "      <th>d</th>\n",
       "      <th>e</th>\n",
       "      <th>f</th>\n",
       "      <th>g</th>\n",
       "      <th>h</th>\n",
       "      <th>i</th>\n",
       "      <th>j</th>\n",
       "      <th>k</th>\n",
       "      <th>l</th>\n",
       "      <th>m</th>\n",
       "      <th>n</th>\n",
       "      <th>o</th>\n",
       "      <th>p</th>\n",
       "      <th>cluster_attribue</th>\n",
       "    </tr>\n",
       "  </thead>\n",
       "  <tbody>\n",
       "    <tr>\n",
       "      <th>72</th>\n",
       "      <td>110</td>\n",
       "      <td>67.0</td>\n",
       "      <td>18.5</td>\n",
       "      <td>3.95</td>\n",
       "      <td>7.24</td>\n",
       "      <td>2415.0</td>\n",
       "      <td>10.0</td>\n",
       "      <td>1069.0</td>\n",
       "      <td>2359.0</td>\n",
       "      <td>2215.0</td>\n",
       "      <td>0.0</td>\n",
       "      <td>859.0</td>\n",
       "      <td>127502725</td>\n",
       "      <td>-0.717038</td>\n",
       "      <td>40966.6</td>\n",
       "      <td>1.11</td>\n",
       "      <td>2414.0</td>\n",
       "      <td>6</td>\n",
       "    </tr>\n",
       "  </tbody>\n",
       "</table>\n",
       "</div>"
      ],
      "text/plain": [
       "    Code_zone     a     b     c     d       e     f       g       h       i  \\\n",
       "72        110  67.0  18.5  3.95  7.24  2415.0  10.0  1069.0  2359.0  2215.0   \n",
       "\n",
       "      j      k          l         m        n     o       p  cluster_attribue  \n",
       "72  0.0  859.0  127502725 -0.717038  40966.6  1.11  2414.0                 6  "
      ]
     },
     "execution_count": 105,
     "metadata": {},
     "output_type": "execute_result"
    }
   ],
   "source": [
    "df_vise = df_final[df_final[\"cluster_attribue\"].eq(6)]\n",
    "df_vise"
   ]
  },
  {
   "cell_type": "code",
   "execution_count": 100,
   "metadata": {},
   "outputs": [
    {
     "data": {
      "text/html": [
       "<div>\n",
       "<style scoped>\n",
       "    .dataframe tbody tr th:only-of-type {\n",
       "        vertical-align: middle;\n",
       "    }\n",
       "\n",
       "    .dataframe tbody tr th {\n",
       "        vertical-align: top;\n",
       "    }\n",
       "\n",
       "    .dataframe thead th {\n",
       "        text-align: right;\n",
       "    }\n",
       "</style>\n",
       "<table border=\"1\" class=\"dataframe\">\n",
       "  <thead>\n",
       "    <tr style=\"text-align: right;\">\n",
       "      <th></th>\n",
       "      <th>Code_zone</th>\n",
       "      <th>Zone</th>\n",
       "    </tr>\n",
       "  </thead>\n",
       "  <tbody>\n",
       "    <tr>\n",
       "      <th>72</th>\n",
       "      <td>110</td>\n",
       "      <td>Japon</td>\n",
       "    </tr>\n",
       "  </tbody>\n",
       "</table>\n",
       "</div>"
      ],
      "text/plain": [
       "    Code_zone   Zone\n",
       "72        110  Japon"
      ]
     },
     "execution_count": 100,
     "metadata": {},
     "output_type": "execute_result"
    }
   ],
   "source": [
    "pays_propose = table_pays[table_pays[\"Code_zone\"].eq(110)]\n",
    "pays_propose"
   ]
  },
  {
   "cell_type": "code",
   "execution_count": 102,
   "metadata": {},
   "outputs": [
    {
     "data": {
      "text/html": [
       "<div>\n",
       "<style scoped>\n",
       "    .dataframe tbody tr th:only-of-type {\n",
       "        vertical-align: middle;\n",
       "    }\n",
       "\n",
       "    .dataframe tbody tr th {\n",
       "        vertical-align: top;\n",
       "    }\n",
       "\n",
       "    .dataframe thead th {\n",
       "        text-align: right;\n",
       "    }\n",
       "</style>\n",
       "<table border=\"1\" class=\"dataframe\">\n",
       "  <thead>\n",
       "    <tr style=\"text-align: right;\">\n",
       "      <th></th>\n",
       "      <th>Symbole</th>\n",
       "      <th>Nom variable complet</th>\n",
       "    </tr>\n",
       "  </thead>\n",
       "  <tbody>\n",
       "    <tr>\n",
       "      <th>0</th>\n",
       "      <td>a</td>\n",
       "      <td>Disponibilité alimentaire (Kcal/personne/jour)</td>\n",
       "    </tr>\n",
       "    <tr>\n",
       "      <th>1</th>\n",
       "      <td>b</td>\n",
       "      <td>Disponibilité alimentaire en quantité (kg/pers...</td>\n",
       "    </tr>\n",
       "    <tr>\n",
       "      <th>2</th>\n",
       "      <td>c</td>\n",
       "      <td>Disponibilité de matière grasse en quantité (g...</td>\n",
       "    </tr>\n",
       "    <tr>\n",
       "      <th>3</th>\n",
       "      <td>d</td>\n",
       "      <td>Disponibilité de protéines en quantité (g/pers...</td>\n",
       "    </tr>\n",
       "    <tr>\n",
       "      <th>4</th>\n",
       "      <td>e</td>\n",
       "      <td>Disponibilité intérieure</td>\n",
       "    </tr>\n",
       "    <tr>\n",
       "      <th>5</th>\n",
       "      <td>f</td>\n",
       "      <td>Exportations - Quantité</td>\n",
       "    </tr>\n",
       "    <tr>\n",
       "      <th>6</th>\n",
       "      <td>g</td>\n",
       "      <td>Importations - Quantité</td>\n",
       "    </tr>\n",
       "    <tr>\n",
       "      <th>7</th>\n",
       "      <td>h</td>\n",
       "      <td>Nourriture</td>\n",
       "    </tr>\n",
       "    <tr>\n",
       "      <th>8</th>\n",
       "      <td>i</td>\n",
       "      <td>Production</td>\n",
       "    </tr>\n",
       "    <tr>\n",
       "      <th>9</th>\n",
       "      <td>j</td>\n",
       "      <td>Résidus</td>\n",
       "    </tr>\n",
       "    <tr>\n",
       "      <th>10</th>\n",
       "      <td>k</td>\n",
       "      <td>Variation de stock</td>\n",
       "    </tr>\n",
       "    <tr>\n",
       "      <th>11</th>\n",
       "      <td>l</td>\n",
       "      <td>Population</td>\n",
       "    </tr>\n",
       "    <tr>\n",
       "      <th>12</th>\n",
       "      <td>m</td>\n",
       "      <td>variation_pop%_2012_2017</td>\n",
       "    </tr>\n",
       "    <tr>\n",
       "      <th>13</th>\n",
       "      <td>n</td>\n",
       "      <td>Dollar_an_hab</td>\n",
       "    </tr>\n",
       "    <tr>\n",
       "      <th>14</th>\n",
       "      <td>o</td>\n",
       "      <td>Stabilite_pol</td>\n",
       "    </tr>\n",
       "    <tr>\n",
       "      <th>15</th>\n",
       "      <td>p</td>\n",
       "      <td>Besoin_energ_moyen(kcal,pers,jour)</td>\n",
       "    </tr>\n",
       "  </tbody>\n",
       "</table>\n",
       "</div>"
      ],
      "text/plain": [
       "   Symbole                               Nom variable complet\n",
       "0        a     Disponibilité alimentaire (Kcal/personne/jour)\n",
       "1        b  Disponibilité alimentaire en quantité (kg/pers...\n",
       "2        c  Disponibilité de matière grasse en quantité (g...\n",
       "3        d  Disponibilité de protéines en quantité (g/pers...\n",
       "4        e                           Disponibilité intérieure\n",
       "5        f                            Exportations - Quantité\n",
       "6        g                            Importations - Quantité\n",
       "7        h                                         Nourriture\n",
       "8        i                                         Production\n",
       "9        j                                            Résidus\n",
       "10       k                                 Variation de stock\n",
       "11       l                                         Population\n",
       "12       m                           variation_pop%_2012_2017\n",
       "13       n                                      Dollar_an_hab\n",
       "14       o                                      Stabilite_pol\n",
       "15       p                 Besoin_energ_moyen(kcal,pers,jour)"
      ]
     },
     "execution_count": 102,
     "metadata": {},
     "output_type": "execute_result"
    }
   ],
   "source": [
    "table_variables"
   ]
  },
  {
   "cell_type": "markdown",
   "metadata": {},
   "source": [
    "### Groupement moins optimal mais envisageable:"
   ]
  },
  {
   "cell_type": "code",
   "execution_count": 103,
   "metadata": {},
   "outputs": [
    {
     "data": {
      "text/html": [
       "<div>\n",
       "<style scoped>\n",
       "    .dataframe tbody tr th:only-of-type {\n",
       "        vertical-align: middle;\n",
       "    }\n",
       "\n",
       "    .dataframe tbody tr th {\n",
       "        vertical-align: top;\n",
       "    }\n",
       "\n",
       "    .dataframe thead th {\n",
       "        text-align: right;\n",
       "    }\n",
       "</style>\n",
       "<table border=\"1\" class=\"dataframe\">\n",
       "  <thead>\n",
       "    <tr style=\"text-align: right;\">\n",
       "      <th></th>\n",
       "      <th>Code_zone</th>\n",
       "      <th>a</th>\n",
       "      <th>b</th>\n",
       "      <th>c</th>\n",
       "      <th>d</th>\n",
       "      <th>e</th>\n",
       "      <th>f</th>\n",
       "      <th>g</th>\n",
       "      <th>h</th>\n",
       "      <th>i</th>\n",
       "      <th>j</th>\n",
       "      <th>k</th>\n",
       "      <th>l</th>\n",
       "      <th>m</th>\n",
       "      <th>n</th>\n",
       "      <th>o</th>\n",
       "      <th>p</th>\n",
       "      <th>cluster_attribue</th>\n",
       "    </tr>\n",
       "  </thead>\n",
       "  <tbody>\n",
       "    <tr>\n",
       "      <th>58</th>\n",
       "      <td>96</td>\n",
       "      <td>210.0</td>\n",
       "      <td>53.51</td>\n",
       "      <td>12.70</td>\n",
       "      <td>22.26</td>\n",
       "      <td>280.0</td>\n",
       "      <td>663.0</td>\n",
       "      <td>907.0</td>\n",
       "      <td>391.0</td>\n",
       "      <td>24.0</td>\n",
       "      <td>-125.0</td>\n",
       "      <td>-12.0</td>\n",
       "      <td>7306322</td>\n",
       "      <td>3.682129</td>\n",
       "      <td>59849.2</td>\n",
       "      <td>0.83</td>\n",
       "      <td>2449.0</td>\n",
       "      <td>7</td>\n",
       "    </tr>\n",
       "    <tr>\n",
       "      <th>100</th>\n",
       "      <td>150</td>\n",
       "      <td>70.0</td>\n",
       "      <td>20.33</td>\n",
       "      <td>3.74</td>\n",
       "      <td>8.48</td>\n",
       "      <td>372.0</td>\n",
       "      <td>1418.0</td>\n",
       "      <td>608.0</td>\n",
       "      <td>346.0</td>\n",
       "      <td>1100.0</td>\n",
       "      <td>-78.0</td>\n",
       "      <td>-82.0</td>\n",
       "      <td>17021347</td>\n",
       "      <td>1.366777</td>\n",
       "      <td>55088.6</td>\n",
       "      <td>0.92</td>\n",
       "      <td>2577.0</td>\n",
       "      <td>7</td>\n",
       "    </tr>\n",
       "  </tbody>\n",
       "</table>\n",
       "</div>"
      ],
      "text/plain": [
       "     Code_zone      a      b      c      d      e       f      g      h  \\\n",
       "58          96  210.0  53.51  12.70  22.26  280.0   663.0  907.0  391.0   \n",
       "100        150   70.0  20.33   3.74   8.48  372.0  1418.0  608.0  346.0   \n",
       "\n",
       "          i      j     k         l         m        n     o       p  \\\n",
       "58     24.0 -125.0 -12.0   7306322  3.682129  59849.2  0.83  2449.0   \n",
       "100  1100.0  -78.0 -82.0  17021347  1.366777  55088.6  0.92  2577.0   \n",
       "\n",
       "     cluster_attribue  \n",
       "58                  7  \n",
       "100                 7  "
      ]
     },
     "execution_count": 103,
     "metadata": {},
     "output_type": "execute_result"
    }
   ],
   "source": [
    "df_alternatif = df_final[df_final[\"cluster_attribue\"].eq(7)]\n",
    "df_alternatif"
   ]
  },
  {
   "cell_type": "code",
   "execution_count": 106,
   "metadata": {},
   "outputs": [
    {
     "data": {
      "text/html": [
       "<div>\n",
       "<style scoped>\n",
       "    .dataframe tbody tr th:only-of-type {\n",
       "        vertical-align: middle;\n",
       "    }\n",
       "\n",
       "    .dataframe tbody tr th {\n",
       "        vertical-align: top;\n",
       "    }\n",
       "\n",
       "    .dataframe thead th {\n",
       "        text-align: right;\n",
       "    }\n",
       "</style>\n",
       "<table border=\"1\" class=\"dataframe\">\n",
       "  <thead>\n",
       "    <tr style=\"text-align: right;\">\n",
       "      <th></th>\n",
       "      <th>Code_zone</th>\n",
       "      <th>Zone</th>\n",
       "    </tr>\n",
       "  </thead>\n",
       "  <tbody>\n",
       "    <tr>\n",
       "      <th>58</th>\n",
       "      <td>96</td>\n",
       "      <td>Chine - RAS de Hong-Kong</td>\n",
       "    </tr>\n",
       "    <tr>\n",
       "      <th>100</th>\n",
       "      <td>150</td>\n",
       "      <td>Pays-Bas</td>\n",
       "    </tr>\n",
       "  </tbody>\n",
       "</table>\n",
       "</div>"
      ],
      "text/plain": [
       "     Code_zone                      Zone\n",
       "58          96  Chine - RAS de Hong-Kong\n",
       "100        150                  Pays-Bas"
      ]
     },
     "execution_count": 106,
     "metadata": {},
     "output_type": "execute_result"
    }
   ],
   "source": [
    "pays_propose = table_pays.query('Code_zone == [96,150]')\n",
    "pays_propose"
   ]
  },
  {
   "cell_type": "code",
   "execution_count": null,
   "metadata": {},
   "outputs": [],
   "source": []
  }
 ],
 "metadata": {
  "kernelspec": {
   "display_name": "Python 3 (ipykernel)",
   "language": "python",
   "name": "python3"
  },
  "language_info": {
   "codemirror_mode": {
    "name": "ipython",
    "version": 3
   },
   "file_extension": ".py",
   "mimetype": "text/x-python",
   "name": "python",
   "nbconvert_exporter": "python",
   "pygments_lexer": "ipython3",
   "version": "3.9.12"
  }
 },
 "nbformat": 4,
 "nbformat_minor": 4
}
